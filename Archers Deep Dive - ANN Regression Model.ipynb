{
 "cells": [
  {
   "cell_type": "markdown",
   "metadata": {},
   "source": [
    "#### Imports, file loading, and function definitions"
   ]
  },
  {
   "cell_type": "code",
   "execution_count": 28,
   "metadata": {},
   "outputs": [],
   "source": [
    "import pandas as pd\n",
    "import numpy as np\n",
    "import matplotlib.pyplot as plt\n",
    "import seaborn as sns\n",
    "import sklearn\n",
    "import tensorflow as tf\n",
    "from tensorflow import keras\n",
    "from sklearn.model_selection import GridSearchCV\n",
    "from sklearn.metrics import mean_squared_error"
   ]
  },
  {
   "cell_type": "code",
   "execution_count": 29,
   "metadata": {},
   "outputs": [],
   "source": [
    "pd.options.display.max_columns = 100 \n",
    "pd.options.display.max_rows = 300 "
   ]
  },
  {
   "cell_type": "code",
   "execution_count": 30,
   "metadata": {},
   "outputs": [],
   "source": [
    "fileName = 'PLL Stats Master - Player Game Logs.csv'\n",
    "playerdata = pd.read_csv(fileName)\n",
    "playerdata = playerdata[0:3770]\n",
    "\n",
    "fileName2 = 'PLL Stats Master - Team Game Logs.csv'\n",
    "teamdata = pd.read_csv(fileName2)\n",
    "teamdata = teamdata[teamdata['Season'] != 2022]"
   ]
  },
  {
   "cell_type": "code",
   "execution_count": 162,
   "metadata": {},
   "outputs": [],
   "source": [
    "def plotter(pred , true):\n",
    "\n",
    "    plt.plot(true , c = 'blue', label = 'True')\n",
    "    plt.plot(pred, c = 'orange', label = 'Predicted', linestyle = \"--\")\n",
    "    plt.ylim([0,30])\n",
    "    plt.xlabel('Games')\n",
    "    plt.ylabel('Goals')\n",
    "    plt.legend()\n",
    "    plt.xticks(ticks = [],labels = [])\n",
    "    plt.savefig('archersplot.jpg')\n",
    "    plt.show()"
   ]
  },
  {
   "cell_type": "code",
   "execution_count": 127,
   "metadata": {},
   "outputs": [],
   "source": [
    "def generate (count, mini , maxi, average):\n",
    "    arr = []\n",
    "    diff = 1\n",
    "    while len(arr) < count-1:\n",
    "        if mini <= average - diff and average + diff <= maxi:\n",
    "            arr.append(average - diff)\n",
    "            arr.append(average + diff)\n",
    "            diff += 1\n",
    "        else:\n",
    "            arr.append(average)\n",
    "            diff = 1\n",
    "    if len(arr) < count:\n",
    "        arr.append(average)\n",
    "    return arr\n",
    "\n",
    "\n",
    "def replace(data , metric , avg):\n",
    "    data = data\n",
    "    length = len(data)\n",
    "    league = data.describe()\n",
    "    \n",
    "    mi1 = league[[metric]][3:4]\n",
    "    mi = mi1[metric][0] \n",
    "    \n",
    "    ma1 = league[[metric]][7:8] \n",
    "    ma = ma1[metric][0]\n",
    "    \n",
    "    avg = avg\n",
    "    \n",
    "    data.drop(columns = [metric])\n",
    "    \n",
    "    new = generate(length , mi , ma , avg )\n",
    "    \n",
    "    data[metric] = new\n",
    "    \n",
    "    return data\n",
    "    \n",
    "\n",
    "def project(initial, metric1 , avg1 , metric2, avg2, metric3 , avg3):\n",
    "    \n",
    "    t1 = replace(initial , metric1 , avg1)\n",
    "    t2 = replace(t1 , metric2 , avg2)\n",
    "    t3 = replace(t2, metric3 , avg3)\n",
    "    \n",
    "    t3 = t3.drop(columns = ['Season' , 'Week' , 'Game' , 'Team' , 'Opponent'])\n",
    "    t3 = t3[['Shots','Shot%','Efficiency','Possession %',\n",
    "          'Settled Goal','FB Goals','Assisted Goals','Shot Quality Ratio', \n",
    "          'D Efficiency','Turnovers', 'Score Against',\n",
    "          'Expected Goals','Avg Shot Dist','Margin'\n",
    "          ,'Settled Goals agaisnt' , 'Save %']]\n",
    "    \n",
    "    t4 = imp.fit_transform(t3)\n",
    "    t4 = stdscaler.fit_transform(t4)\n",
    "    \n",
    "    \n",
    "    preds = model.predict(t4)\n",
    "    \n",
    "    t3['predictions'] = preds\n",
    "    \n",
    "    \n",
    "    return t3['predictions'].sum()\n",
    "\n",
    "def projectfinal(initial, metric1 , avg1 , metric2, avg2, metric3 , avg3):\n",
    "    \n",
    "    t1 = replace(initial , metric1 , avg1)\n",
    "    t2 = replace(t1 , metric2 , avg2)\n",
    "    t3 = replace(t2, metric3 , avg3)\n",
    "    \n",
    "    t3 = t3.drop(columns = ['Season' , 'Week' , 'Game' , 'Team' , 'Opponent'])\n",
    "    t3 = t3[['Shots','Shot%','Efficiency','Possession %',\n",
    "          'Settled Goal','FB Goals','Assisted Goals','Shot Quality Ratio', \n",
    "          'D Efficiency','Turnovers', 'Score Against',\n",
    "          'Expected Goals','Avg Shot Dist','Margin'\n",
    "          ,'Settled Goals agaisnt' , 'Save %']]\n",
    "    \n",
    "    t4 = imp.fit_transform(t3)\n",
    "    t4 = stdscaler.fit_transform(t4)\n",
    "    \n",
    "    \n",
    "    preds = model.predict(t4)\n",
    "    \n",
    "    t3['predictions'] = preds\n",
    "    \n",
    "    \n",
    "    return t3"
   ]
  },
  {
   "cell_type": "markdown",
   "metadata": {},
   "source": [
    "### Prep for Training"
   ]
  },
  {
   "cell_type": "code",
   "execution_count": 33,
   "metadata": {},
   "outputs": [],
   "source": [
    "#from sklearn.impute import SimpleImputer\n",
    "teamdata['Avg Shot Dist'] = teamdata['Average Shot Distance'].replace('#DIV/0!' , 10.265)"
   ]
  },
  {
   "cell_type": "code",
   "execution_count": 34,
   "metadata": {},
   "outputs": [],
   "source": [
    "teamdata['Avg Shot Dist'] = teamdata['Avg Shot Dist'].astype(float)"
   ]
  },
  {
   "cell_type": "code",
   "execution_count": 35,
   "metadata": {
    "collapsed": true
   },
   "outputs": [
    {
     "name": "stderr",
     "output_type": "stream",
     "text": [
      "<ipython-input-35-cfd1bdf67829>:8: SettingWithCopyWarning: \n",
      "A value is trying to be set on a copy of a slice from a DataFrame.\n",
      "Try using .loc[row_indexer,col_indexer] = value instead\n",
      "\n",
      "See the caveats in the documentation: https://pandas.pydata.org/pandas-docs/stable/user_guide/indexing.html#returning-a-view-versus-a-copy\n",
      "  team['Shot%'] = team['Goals'] / team['Shots']\n",
      "<ipython-input-35-cfd1bdf67829>:9: SettingWithCopyWarning: \n",
      "A value is trying to be set on a copy of a slice from a DataFrame.\n",
      "Try using .loc[row_indexer,col_indexer] = value instead\n",
      "\n",
      "See the caveats in the documentation: https://pandas.pydata.org/pandas-docs/stable/user_guide/indexing.html#returning-a-view-versus-a-copy\n",
      "  team['W/L'] = pd.get_dummies(team.loc[:,'Result'])[['W']]\n"
     ]
    }
   ],
   "source": [
    "team = teamdata[['Season','Week','Game','Team','Opponent', \n",
    "                 'Shots','Goals','Efficiency', \n",
    "                 'Possession %',\n",
    "                 'Settled Goal','FB Goals','Assisted Goals','Shot Quality Ratio', \n",
    "                 'D Efficiency','Turnovers', 'Score Against',\n",
    "                 'Expected Goals','Avg Shot Dist','Margin', 'Settled Goals agaisnt',\n",
    "                 'Score','Result', 'Save %']]\n",
    "team['Shot%'] = team['Goals'] / team['Shots']\n",
    "team['W/L'] = pd.get_dummies(team.loc[:,'Result'])[['W']]\n",
    "#team.head()"
   ]
  },
  {
   "cell_type": "code",
   "execution_count": 36,
   "metadata": {},
   "outputs": [],
   "source": [
    "from sklearn.impute import SimpleImputer\n",
    "imp = SimpleImputer(missing_values = np.nan, strategy ='mean')"
   ]
  },
  {
   "cell_type": "code",
   "execution_count": 37,
   "metadata": {},
   "outputs": [],
   "source": [
    "from sklearn.preprocessing import StandardScaler\n",
    "stdscaler = StandardScaler()\n",
    "\n",
    "from sklearn.model_selection import train_test_split\n",
    "x = team[['Shots','Shot%','Efficiency','Possession %',\n",
    "                 'Settled Goal','FB Goals','Assisted Goals','Shot Quality Ratio', \n",
    "                 'D Efficiency','Turnovers', 'Score Against',\n",
    "                 'Expected Goals','Avg Shot Dist','Margin', 'Save %' , 'Settled Goals agaisnt']]\n",
    "\n",
    "x = imp.fit_transform(x)\n",
    "\n",
    "\n",
    "ylinear = np.array(team[['Score']]).ravel()\n",
    "ylog = team[['W/L']]"
   ]
  },
  {
   "cell_type": "code",
   "execution_count": 38,
   "metadata": {},
   "outputs": [],
   "source": [
    "x1 = stdscaler.fit_transform(x)\n",
    "x_train, x_test, y_train , y_test = train_test_split(x1,ylinear, test_size = .2, random_state = 42)\n",
    "\n",
    "x_valid, x_train1 = x_train[:15] , x_train[15:]\n",
    "y_valid, y_train1 = y_train[:15] , y_train[15:]"
   ]
  },
  {
   "cell_type": "code",
   "execution_count": 39,
   "metadata": {},
   "outputs": [],
   "source": [
    "model = keras.models.Sequential([keras.layers.Dense(50 , activation = 'relu' , input_shape = x_train1.shape[1:]),\n",
    "                                keras.layers.Dense(100 , activation = 'relu'),\n",
    "                                keras.layers.Dense(100 , activation = 'relu'),\n",
    "                                keras.layers.Dense(125 , activation = 'relu'),\n",
    "                                keras.layers.Dense(100 , activation = 'relu'),\n",
    "                                keras.layers.Dense(1)])"
   ]
  },
  {
   "cell_type": "code",
   "execution_count": 40,
   "metadata": {},
   "outputs": [],
   "source": [
    "model.compile(loss = 'mean_squared_error' , \n",
    "             optimizer = keras.optimizers.SGD(learning_rate = .01, clipnorm = 1) ,)"
   ]
  },
  {
   "cell_type": "code",
   "execution_count": 41,
   "metadata": {},
   "outputs": [
    {
     "name": "stdout",
     "output_type": "stream",
     "text": [
      "Epoch 1/200\n",
      "5/5 [==============================] - 1s 72ms/step - loss: 145.8190 - val_loss: 128.5851\n",
      "Epoch 2/200\n",
      "5/5 [==============================] - 0s 13ms/step - loss: 138.0233 - val_loss: 120.7036\n",
      "Epoch 3/200\n",
      "5/5 [==============================] - 0s 14ms/step - loss: 129.0219 - val_loss: 110.9132\n",
      "Epoch 4/200\n",
      "5/5 [==============================] - 0s 11ms/step - loss: 117.6981 - val_loss: 98.9626\n",
      "Epoch 5/200\n",
      "5/5 [==============================] - 0s 13ms/step - loss: 104.1866 - val_loss: 84.9563\n",
      "Epoch 6/200\n",
      "5/5 [==============================] - 0s 11ms/step - loss: 88.7270 - val_loss: 69.2519\n",
      "Epoch 7/200\n",
      "5/5 [==============================] - 0s 13ms/step - loss: 71.5715 - val_loss: 52.5747\n",
      "Epoch 8/200\n",
      "5/5 [==============================] - 0s 14ms/step - loss: 52.8568 - val_loss: 35.9538\n",
      "Epoch 9/200\n",
      "5/5 [==============================] - 0s 13ms/step - loss: 35.1512 - val_loss: 21.3134\n",
      "Epoch 10/200\n",
      "5/5 [==============================] - 0s 11ms/step - loss: 20.6321 - val_loss: 11.1517\n",
      "Epoch 11/200\n",
      "5/5 [==============================] - 0s 13ms/step - loss: 11.7618 - val_loss: 7.5973\n",
      "Epoch 12/200\n",
      "5/5 [==============================] - 0s 16ms/step - loss: 8.9518 - val_loss: 6.5664\n",
      "Epoch 13/200\n",
      "5/5 [==============================] - 0s 16ms/step - loss: 7.7974 - val_loss: 6.0736\n",
      "Epoch 14/200\n",
      "5/5 [==============================] - 0s 13ms/step - loss: 7.1944 - val_loss: 5.5271\n",
      "Epoch 15/200\n",
      "5/5 [==============================] - 0s 15ms/step - loss: 6.4646 - val_loss: 5.1057\n",
      "Epoch 16/200\n",
      "5/5 [==============================] - 0s 13ms/step - loss: 5.6988 - val_loss: 4.7601\n",
      "Epoch 17/200\n",
      "5/5 [==============================] - 0s 14ms/step - loss: 5.3722 - val_loss: 4.3415\n",
      "Epoch 18/200\n",
      "5/5 [==============================] - 0s 14ms/step - loss: 4.7820 - val_loss: 4.2982\n",
      "Epoch 19/200\n",
      "5/5 [==============================] - 0s 13ms/step - loss: 4.4062 - val_loss: 3.9492\n",
      "Epoch 20/200\n",
      "5/5 [==============================] - 0s 13ms/step - loss: 3.9820 - val_loss: 3.7492\n",
      "Epoch 21/200\n",
      "5/5 [==============================] - 0s 14ms/step - loss: 3.7613 - val_loss: 3.4132\n",
      "Epoch 22/200\n",
      "5/5 [==============================] - 0s 14ms/step - loss: 3.3728 - val_loss: 3.2594\n",
      "Epoch 23/200\n",
      "5/5 [==============================] - 0s 14ms/step - loss: 3.2155 - val_loss: 3.0234\n",
      "Epoch 24/200\n",
      "5/5 [==============================] - 0s 16ms/step - loss: 3.0346 - val_loss: 3.2306\n",
      "Epoch 25/200\n",
      "5/5 [==============================] - 0s 15ms/step - loss: 2.9573 - val_loss: 2.8407\n",
      "Epoch 26/200\n",
      "5/5 [==============================] - 0s 12ms/step - loss: 2.8274 - val_loss: 3.0059\n",
      "Epoch 27/200\n",
      "5/5 [==============================] - 0s 12ms/step - loss: 2.7502 - val_loss: 2.7657\n",
      "Epoch 28/200\n",
      "5/5 [==============================] - 0s 13ms/step - loss: 2.5274 - val_loss: 2.5482\n",
      "Epoch 29/200\n",
      "5/5 [==============================] - 0s 11ms/step - loss: 2.2428 - val_loss: 2.6166\n",
      "Epoch 30/200\n",
      "5/5 [==============================] - 0s 12ms/step - loss: 2.2868 - val_loss: 2.4337\n",
      "Epoch 31/200\n",
      "5/5 [==============================] - 0s 13ms/step - loss: 2.1058 - val_loss: 2.4447\n",
      "Epoch 32/200\n",
      "5/5 [==============================] - 0s 11ms/step - loss: 1.9938 - val_loss: 2.3275\n",
      "Epoch 33/200\n",
      "5/5 [==============================] - 0s 12ms/step - loss: 1.9161 - val_loss: 2.3653\n",
      "Epoch 34/200\n",
      "5/5 [==============================] - 0s 21ms/step - loss: 1.7186 - val_loss: 2.2925\n",
      "Epoch 35/200\n",
      "5/5 [==============================] - 0s 15ms/step - loss: 1.7757 - val_loss: 2.4948\n",
      "Epoch 36/200\n",
      "5/5 [==============================] - 0s 14ms/step - loss: 1.6822 - val_loss: 2.1506\n",
      "Epoch 37/200\n",
      "5/5 [==============================] - 0s 13ms/step - loss: 1.4730 - val_loss: 2.0714\n",
      "Epoch 38/200\n",
      "5/5 [==============================] - 0s 14ms/step - loss: 1.4129 - val_loss: 2.1303\n",
      "Epoch 39/200\n",
      "5/5 [==============================] - 0s 15ms/step - loss: 1.2333 - val_loss: 2.2508\n",
      "Epoch 40/200\n",
      "5/5 [==============================] - 0s 12ms/step - loss: 1.1696 - val_loss: 2.0999\n",
      "Epoch 41/200\n",
      "5/5 [==============================] - 0s 24ms/step - loss: 1.1539 - val_loss: 2.0396\n",
      "Epoch 42/200\n",
      "5/5 [==============================] - 0s 17ms/step - loss: 1.0096 - val_loss: 1.9403\n",
      "Epoch 43/200\n",
      "5/5 [==============================] - 0s 14ms/step - loss: 1.0919 - val_loss: 2.0109\n",
      "Epoch 44/200\n",
      "5/5 [==============================] - 0s 16ms/step - loss: 0.8851 - val_loss: 1.9606\n",
      "Epoch 45/200\n",
      "5/5 [==============================] - 0s 14ms/step - loss: 0.8845 - val_loss: 1.9599\n",
      "Epoch 46/200\n",
      "5/5 [==============================] - 0s 14ms/step - loss: 0.8796 - val_loss: 1.8594\n",
      "Epoch 47/200\n",
      "5/5 [==============================] - 0s 16ms/step - loss: 0.8017 - val_loss: 1.9843\n",
      "Epoch 48/200\n",
      "5/5 [==============================] - 0s 15ms/step - loss: 0.8039 - val_loss: 1.9740\n",
      "Epoch 49/200\n",
      "5/5 [==============================] - 0s 14ms/step - loss: 0.7543 - val_loss: 1.9032\n",
      "Epoch 50/200\n",
      "5/5 [==============================] - 0s 13ms/step - loss: 0.6494 - val_loss: 2.1158\n",
      "Epoch 51/200\n",
      "5/5 [==============================] - 0s 14ms/step - loss: 0.7460 - val_loss: 1.8852\n",
      "Epoch 52/200\n",
      "5/5 [==============================] - 0s 15ms/step - loss: 0.6293 - val_loss: 1.9649\n",
      "Epoch 53/200\n",
      "5/5 [==============================] - 0s 14ms/step - loss: 0.6949 - val_loss: 1.9732\n",
      "Epoch 54/200\n",
      "5/5 [==============================] - 0s 11ms/step - loss: 0.5946 - val_loss: 2.0179\n",
      "Epoch 55/200\n",
      "5/5 [==============================] - 0s 20ms/step - loss: 0.7227 - val_loss: 1.7160\n",
      "Epoch 56/200\n",
      "5/5 [==============================] - 0s 12ms/step - loss: 0.5230 - val_loss: 1.7515\n",
      "Epoch 57/200\n",
      "5/5 [==============================] - 0s 10ms/step - loss: 0.5072 - val_loss: 1.7783\n",
      "Epoch 58/200\n",
      "5/5 [==============================] - 0s 10ms/step - loss: 0.4989 - val_loss: 1.7944\n",
      "Epoch 59/200\n",
      "5/5 [==============================] - 0s 10ms/step - loss: 0.4961 - val_loss: 1.9833\n",
      "Epoch 60/200\n",
      "5/5 [==============================] - 0s 10ms/step - loss: 0.5360 - val_loss: 1.7275\n",
      "Epoch 61/200\n",
      "5/5 [==============================] - 0s 12ms/step - loss: 0.5701 - val_loss: 1.8714\n",
      "Epoch 62/200\n",
      "5/5 [==============================] - 0s 10ms/step - loss: 0.4857 - val_loss: 1.8838\n",
      "Epoch 63/200\n",
      "5/5 [==============================] - 0s 10ms/step - loss: 0.4682 - val_loss: 1.6357\n",
      "Epoch 64/200\n",
      "5/5 [==============================] - 0s 11ms/step - loss: 0.4548 - val_loss: 1.6364\n",
      "Epoch 65/200\n",
      "5/5 [==============================] - 0s 11ms/step - loss: 0.4508 - val_loss: 1.8386\n",
      "Epoch 66/200\n",
      "5/5 [==============================] - 0s 12ms/step - loss: 0.3965 - val_loss: 1.6821\n",
      "Epoch 67/200\n",
      "5/5 [==============================] - 0s 13ms/step - loss: 0.4282 - val_loss: 1.7560\n",
      "Epoch 68/200\n",
      "5/5 [==============================] - 0s 12ms/step - loss: 0.4033 - val_loss: 1.6660\n",
      "Epoch 69/200\n",
      "5/5 [==============================] - 0s 11ms/step - loss: 0.3763 - val_loss: 1.7684\n",
      "Epoch 70/200\n",
      "5/5 [==============================] - 0s 12ms/step - loss: 0.3890 - val_loss: 1.6507\n",
      "Epoch 71/200\n",
      "5/5 [==============================] - 0s 13ms/step - loss: 0.3497 - val_loss: 1.7579\n",
      "Epoch 72/200\n",
      "5/5 [==============================] - 0s 12ms/step - loss: 0.3442 - val_loss: 1.5809\n",
      "Epoch 73/200\n",
      "5/5 [==============================] - 0s 13ms/step - loss: 0.4419 - val_loss: 1.6458\n",
      "Epoch 74/200\n",
      "5/5 [==============================] - 0s 11ms/step - loss: 0.3073 - val_loss: 1.5602\n",
      "Epoch 75/200\n",
      "5/5 [==============================] - 0s 11ms/step - loss: 0.3154 - val_loss: 1.5176\n",
      "Epoch 76/200\n",
      "5/5 [==============================] - 0s 11ms/step - loss: 0.3377 - val_loss: 1.5097\n",
      "Epoch 77/200\n",
      "5/5 [==============================] - 0s 11ms/step - loss: 0.3460 - val_loss: 1.5004\n",
      "Epoch 78/200\n",
      "5/5 [==============================] - 0s 13ms/step - loss: 0.3714 - val_loss: 1.6128\n",
      "Epoch 79/200\n",
      "5/5 [==============================] - 0s 12ms/step - loss: 0.2656 - val_loss: 1.4622\n",
      "Epoch 80/200\n",
      "5/5 [==============================] - 0s 12ms/step - loss: 0.3295 - val_loss: 1.5896\n",
      "Epoch 81/200\n",
      "5/5 [==============================] - 0s 13ms/step - loss: 0.2701 - val_loss: 1.5525\n",
      "Epoch 82/200\n",
      "5/5 [==============================] - 0s 12ms/step - loss: 0.2985 - val_loss: 1.6279\n",
      "Epoch 83/200\n",
      "5/5 [==============================] - 0s 12ms/step - loss: 0.2692 - val_loss: 1.4839\n",
      "Epoch 84/200\n",
      "5/5 [==============================] - 0s 12ms/step - loss: 0.2945 - val_loss: 1.5390\n",
      "Epoch 85/200\n",
      "5/5 [==============================] - 0s 10ms/step - loss: 0.3096 - val_loss: 1.3795\n",
      "Epoch 86/200\n",
      "5/5 [==============================] - 0s 10ms/step - loss: 0.3042 - val_loss: 1.4795\n",
      "Epoch 87/200\n",
      "5/5 [==============================] - 0s 12ms/step - loss: 0.2918 - val_loss: 1.3678\n",
      "Epoch 88/200\n",
      "5/5 [==============================] - 0s 12ms/step - loss: 0.2857 - val_loss: 1.5200\n",
      "Epoch 89/200\n",
      "5/5 [==============================] - 0s 12ms/step - loss: 0.2570 - val_loss: 1.4015\n",
      "Epoch 90/200\n",
      "5/5 [==============================] - 0s 11ms/step - loss: 0.2792 - val_loss: 1.5974\n",
      "Epoch 91/200\n",
      "5/5 [==============================] - 0s 11ms/step - loss: 0.2683 - val_loss: 1.4202\n",
      "Epoch 92/200\n",
      "5/5 [==============================] - 0s 11ms/step - loss: 0.2553 - val_loss: 1.5308\n",
      "Epoch 93/200\n",
      "5/5 [==============================] - 0s 11ms/step - loss: 0.2679 - val_loss: 1.3750\n",
      "Epoch 94/200\n",
      "5/5 [==============================] - 0s 11ms/step - loss: 0.2462 - val_loss: 1.4290\n",
      "Epoch 95/200\n",
      "5/5 [==============================] - 0s 10ms/step - loss: 0.2619 - val_loss: 1.3692\n",
      "Epoch 96/200\n",
      "5/5 [==============================] - 0s 11ms/step - loss: 0.2157 - val_loss: 1.4302\n",
      "Epoch 97/200\n",
      "5/5 [==============================] - 0s 11ms/step - loss: 0.2098 - val_loss: 1.2906\n",
      "Epoch 98/200\n",
      "5/5 [==============================] - 0s 10ms/step - loss: 0.2343 - val_loss: 1.4021\n",
      "Epoch 99/200\n",
      "5/5 [==============================] - 0s 11ms/step - loss: 0.2208 - val_loss: 1.2817\n",
      "Epoch 100/200\n",
      "5/5 [==============================] - 0s 12ms/step - loss: 0.2183 - val_loss: 1.4130\n",
      "Epoch 101/200\n",
      "5/5 [==============================] - 0s 12ms/step - loss: 0.2375 - val_loss: 1.2878\n",
      "Epoch 102/200\n",
      "5/5 [==============================] - 0s 10ms/step - loss: 0.2428 - val_loss: 1.4195\n",
      "Epoch 103/200\n",
      "5/5 [==============================] - 0s 10ms/step - loss: 0.2138 - val_loss: 1.3537\n",
      "Epoch 104/200\n",
      "5/5 [==============================] - 0s 10ms/step - loss: 0.2067 - val_loss: 1.4048\n",
      "Epoch 105/200\n",
      "5/5 [==============================] - 0s 12ms/step - loss: 0.1658 - val_loss: 1.3719\n",
      "Epoch 106/200\n",
      "5/5 [==============================] - 0s 12ms/step - loss: 0.2264 - val_loss: 1.4639\n",
      "Epoch 107/200\n",
      "5/5 [==============================] - 0s 12ms/step - loss: 0.2178 - val_loss: 1.3037\n",
      "Epoch 108/200\n",
      "5/5 [==============================] - 0s 12ms/step - loss: 0.2038 - val_loss: 1.4384\n",
      "Epoch 109/200\n",
      "5/5 [==============================] - 0s 10ms/step - loss: 0.1943 - val_loss: 1.3145\n",
      "Epoch 110/200\n",
      "5/5 [==============================] - 0s 10ms/step - loss: 0.2096 - val_loss: 1.4055\n",
      "Epoch 111/200\n",
      "5/5 [==============================] - 0s 12ms/step - loss: 0.2100 - val_loss: 1.3175\n",
      "Epoch 112/200\n",
      "5/5 [==============================] - 0s 11ms/step - loss: 0.1798 - val_loss: 1.4331\n",
      "Epoch 113/200\n",
      "5/5 [==============================] - 0s 12ms/step - loss: 0.1915 - val_loss: 1.2820\n",
      "Epoch 114/200\n",
      "5/5 [==============================] - 0s 12ms/step - loss: 0.1859 - val_loss: 1.3987\n",
      "Epoch 115/200\n",
      "5/5 [==============================] - 0s 12ms/step - loss: 0.1750 - val_loss: 1.3346\n",
      "Epoch 116/200\n",
      "5/5 [==============================] - 0s 11ms/step - loss: 0.1771 - val_loss: 1.3462\n",
      "Epoch 117/200\n",
      "5/5 [==============================] - 0s 10ms/step - loss: 0.1752 - val_loss: 1.2661\n",
      "Epoch 118/200\n",
      "5/5 [==============================] - 0s 13ms/step - loss: 0.1841 - val_loss: 1.3208\n",
      "Epoch 119/200\n",
      "5/5 [==============================] - 0s 12ms/step - loss: 0.2059 - val_loss: 1.2731\n",
      "Epoch 120/200\n",
      "5/5 [==============================] - 0s 12ms/step - loss: 0.1829 - val_loss: 1.3119\n",
      "Epoch 121/200\n",
      "5/5 [==============================] - 0s 12ms/step - loss: 0.1837 - val_loss: 1.2160\n",
      "Epoch 122/200\n",
      "5/5 [==============================] - 0s 10ms/step - loss: 0.1776 - val_loss: 1.3078\n",
      "Epoch 123/200\n",
      "5/5 [==============================] - 0s 10ms/step - loss: 0.1750 - val_loss: 1.2019\n",
      "Epoch 124/200\n",
      "5/5 [==============================] - 0s 11ms/step - loss: 0.1713 - val_loss: 1.3321\n",
      "Epoch 125/200\n",
      "5/5 [==============================] - 0s 11ms/step - loss: 0.1627 - val_loss: 1.2055\n",
      "Epoch 126/200\n",
      "5/5 [==============================] - 0s 12ms/step - loss: 0.1686 - val_loss: 1.3156\n",
      "Epoch 127/200\n",
      "5/5 [==============================] - 0s 12ms/step - loss: 0.1391 - val_loss: 1.1893\n",
      "Epoch 128/200\n",
      "5/5 [==============================] - 0s 13ms/step - loss: 0.1643 - val_loss: 1.1700\n",
      "Epoch 129/200\n",
      "5/5 [==============================] - 0s 12ms/step - loss: 0.1613 - val_loss: 1.1956\n",
      "Epoch 130/200\n",
      "5/5 [==============================] - 0s 11ms/step - loss: 0.1585 - val_loss: 1.3368\n",
      "Epoch 131/200\n",
      "5/5 [==============================] - 0s 11ms/step - loss: 0.1647 - val_loss: 1.2017\n",
      "Epoch 132/200\n",
      "5/5 [==============================] - 0s 11ms/step - loss: 0.1495 - val_loss: 1.3555\n",
      "Epoch 133/200\n",
      "5/5 [==============================] - 0s 12ms/step - loss: 0.1698 - val_loss: 1.1770\n",
      "Epoch 134/200\n",
      "5/5 [==============================] - 0s 13ms/step - loss: 0.1635 - val_loss: 1.2742\n",
      "Epoch 135/200\n",
      "5/5 [==============================] - 0s 11ms/step - loss: 0.1392 - val_loss: 1.1368\n",
      "Epoch 136/200\n",
      "5/5 [==============================] - 0s 12ms/step - loss: 0.1755 - val_loss: 1.2937\n",
      "Epoch 137/200\n",
      "5/5 [==============================] - 0s 13ms/step - loss: 0.1439 - val_loss: 1.2107\n",
      "Epoch 138/200\n",
      "5/5 [==============================] - 0s 11ms/step - loss: 0.1353 - val_loss: 1.3262\n",
      "Epoch 139/200\n",
      "5/5 [==============================] - 0s 20ms/step - loss: 0.1673 - val_loss: 1.1819\n",
      "Epoch 140/200\n",
      "5/5 [==============================] - 0s 20ms/step - loss: 0.1738 - val_loss: 1.2788\n",
      "Epoch 141/200\n",
      "5/5 [==============================] - 0s 14ms/step - loss: 0.1217 - val_loss: 1.2001\n",
      "Epoch 142/200\n",
      "5/5 [==============================] - 0s 16ms/step - loss: 0.1659 - val_loss: 1.2045\n",
      "Epoch 143/200\n",
      "5/5 [==============================] - 0s 14ms/step - loss: 0.1396 - val_loss: 1.1830\n",
      "Epoch 144/200\n",
      "5/5 [==============================] - 0s 13ms/step - loss: 0.1278 - val_loss: 1.2198\n",
      "Epoch 145/200\n",
      "5/5 [==============================] - 0s 11ms/step - loss: 0.1339 - val_loss: 1.1416\n",
      "Epoch 146/200\n",
      "5/5 [==============================] - 0s 15ms/step - loss: 0.1445 - val_loss: 1.2533\n",
      "Epoch 147/200\n",
      "5/5 [==============================] - 0s 14ms/step - loss: 0.1315 - val_loss: 1.1266\n",
      "Epoch 148/200\n",
      "5/5 [==============================] - 0s 13ms/step - loss: 0.1489 - val_loss: 1.2256\n",
      "Epoch 149/200\n",
      "5/5 [==============================] - 0s 51ms/step - loss: 0.1236 - val_loss: 1.1799\n",
      "Epoch 150/200\n",
      "5/5 [==============================] - 0s 11ms/step - loss: 0.1398 - val_loss: 1.2291\n",
      "Epoch 151/200\n",
      "5/5 [==============================] - 0s 11ms/step - loss: 0.1639 - val_loss: 1.1606\n",
      "Epoch 152/200\n",
      "5/5 [==============================] - 0s 16ms/step - loss: 0.1398 - val_loss: 1.2160\n",
      "Epoch 153/200\n",
      "5/5 [==============================] - 0s 18ms/step - loss: 0.1461 - val_loss: 1.1341\n",
      "Epoch 154/200\n",
      "5/5 [==============================] - 0s 13ms/step - loss: 0.1417 - val_loss: 1.2230\n",
      "Epoch 155/200\n",
      "5/5 [==============================] - 0s 12ms/step - loss: 0.1281 - val_loss: 1.1425\n",
      "Epoch 156/200\n",
      "5/5 [==============================] - 0s 12ms/step - loss: 0.1378 - val_loss: 1.2035\n",
      "Epoch 157/200\n",
      "5/5 [==============================] - 0s 12ms/step - loss: 0.1092 - val_loss: 1.1125\n",
      "Epoch 158/200\n",
      "5/5 [==============================] - 0s 11ms/step - loss: 0.1376 - val_loss: 1.2306\n",
      "Epoch 159/200\n",
      "5/5 [==============================] - 0s 11ms/step - loss: 0.1448 - val_loss: 1.1310\n",
      "Epoch 160/200\n",
      "5/5 [==============================] - 0s 11ms/step - loss: 0.1389 - val_loss: 1.2096\n",
      "Epoch 161/200\n",
      "5/5 [==============================] - 0s 10ms/step - loss: 0.1568 - val_loss: 1.0899\n",
      "Epoch 162/200\n",
      "5/5 [==============================] - 0s 11ms/step - loss: 0.1289 - val_loss: 1.1426\n",
      "Epoch 163/200\n",
      "5/5 [==============================] - 0s 12ms/step - loss: 0.1383 - val_loss: 1.1349\n",
      "Epoch 164/200\n",
      "5/5 [==============================] - 0s 13ms/step - loss: 0.1406 - val_loss: 1.2099\n",
      "Epoch 165/200\n"
     ]
    },
    {
     "name": "stdout",
     "output_type": "stream",
     "text": [
      "5/5 [==============================] - 0s 16ms/step - loss: 0.0909 - val_loss: 1.1565\n",
      "Epoch 166/200\n",
      "5/5 [==============================] - 0s 11ms/step - loss: 0.1340 - val_loss: 1.1669\n",
      "Epoch 167/200\n",
      "5/5 [==============================] - 0s 11ms/step - loss: 0.1447 - val_loss: 1.1314\n",
      "Epoch 168/200\n",
      "5/5 [==============================] - 0s 11ms/step - loss: 0.1248 - val_loss: 1.1770\n",
      "Epoch 169/200\n",
      "5/5 [==============================] - 0s 10ms/step - loss: 0.1329 - val_loss: 1.1484\n",
      "Epoch 170/200\n",
      "5/5 [==============================] - 0s 10ms/step - loss: 0.1263 - val_loss: 1.1733\n",
      "Epoch 171/200\n",
      "5/5 [==============================] - 0s 10ms/step - loss: 0.1107 - val_loss: 1.1132\n",
      "Epoch 172/200\n",
      "5/5 [==============================] - 0s 10ms/step - loss: 0.1177 - val_loss: 1.1834\n",
      "Epoch 173/200\n",
      "5/5 [==============================] - 0s 10ms/step - loss: 0.1189 - val_loss: 1.1002\n",
      "Epoch 174/200\n",
      "5/5 [==============================] - 0s 10ms/step - loss: 0.1112 - val_loss: 1.2110\n",
      "Epoch 175/200\n",
      "5/5 [==============================] - 0s 10ms/step - loss: 0.1263 - val_loss: 1.1076\n",
      "Epoch 176/200\n",
      "5/5 [==============================] - 0s 11ms/step - loss: 0.1401 - val_loss: 1.1209\n",
      "Epoch 177/200\n",
      "5/5 [==============================] - 0s 11ms/step - loss: 0.1249 - val_loss: 1.0854\n",
      "Epoch 178/200\n",
      "5/5 [==============================] - 0s 10ms/step - loss: 0.1267 - val_loss: 1.1973\n",
      "Epoch 179/200\n",
      "5/5 [==============================] - 0s 10ms/step - loss: 0.1021 - val_loss: 1.0614\n",
      "Epoch 180/200\n",
      "5/5 [==============================] - 0s 10ms/step - loss: 0.1046 - val_loss: 1.1538\n",
      "Epoch 181/200\n",
      "5/5 [==============================] - 0s 10ms/step - loss: 0.1260 - val_loss: 1.1080\n",
      "Epoch 182/200\n",
      "5/5 [==============================] - 0s 10ms/step - loss: 0.1143 - val_loss: 1.1604\n",
      "Epoch 183/200\n",
      "5/5 [==============================] - 0s 10ms/step - loss: 0.1336 - val_loss: 1.0642\n",
      "Epoch 184/200\n",
      "5/5 [==============================] - 0s 9ms/step - loss: 0.1353 - val_loss: 1.1780\n",
      "Epoch 185/200\n",
      "5/5 [==============================] - 0s 11ms/step - loss: 0.1206 - val_loss: 1.0906\n",
      "Epoch 186/200\n",
      "5/5 [==============================] - 0s 10ms/step - loss: 0.1119 - val_loss: 1.2023\n",
      "Epoch 187/200\n",
      "5/5 [==============================] - 0s 11ms/step - loss: 0.1131 - val_loss: 1.0799\n",
      "Epoch 188/200\n",
      "5/5 [==============================] - 0s 12ms/step - loss: 0.1093 - val_loss: 1.1452\n",
      "Epoch 189/200\n",
      "5/5 [==============================] - 0s 11ms/step - loss: 0.1259 - val_loss: 1.0821\n",
      "Epoch 190/200\n",
      "5/5 [==============================] - 0s 11ms/step - loss: 0.1030 - val_loss: 1.1565\n",
      "Epoch 191/200\n",
      "5/5 [==============================] - 0s 11ms/step - loss: 0.1305 - val_loss: 1.0330\n",
      "Epoch 192/200\n",
      "5/5 [==============================] - 0s 15ms/step - loss: 0.1173 - val_loss: 1.0812\n",
      "Epoch 193/200\n",
      "5/5 [==============================] - 0s 14ms/step - loss: 0.1281 - val_loss: 1.0149\n",
      "Epoch 194/200\n",
      "5/5 [==============================] - 0s 10ms/step - loss: 0.1318 - val_loss: 1.1389\n",
      "Epoch 195/200\n",
      "5/5 [==============================] - 0s 10ms/step - loss: 0.1045 - val_loss: 1.0755\n",
      "Epoch 196/200\n",
      "5/5 [==============================] - 0s 9ms/step - loss: 0.0967 - val_loss: 1.1906\n",
      "Epoch 197/200\n",
      "5/5 [==============================] - 0s 10ms/step - loss: 0.1218 - val_loss: 1.1062\n",
      "Epoch 198/200\n",
      "5/5 [==============================] - 0s 10ms/step - loss: 0.1057 - val_loss: 1.1581\n",
      "Epoch 199/200\n",
      "5/5 [==============================] - 0s 12ms/step - loss: 0.1315 - val_loss: 1.0268\n",
      "Epoch 200/200\n",
      "5/5 [==============================] - 0s 12ms/step - loss: 0.1144 - val_loss: 1.1226\n"
     ]
    }
   ],
   "source": [
    "history = model.fit(x_train1, y_train1, epochs = 200,\n",
    "                  validation_data = (x_valid , y_valid))"
   ]
  },
  {
   "cell_type": "markdown",
   "metadata": {},
   "source": [
    "### Scoring"
   ]
  },
  {
   "cell_type": "markdown",
   "metadata": {},
   "source": [
    "#### Training Data Score + Plot"
   ]
  },
  {
   "cell_type": "code",
   "execution_count": 42,
   "metadata": {},
   "outputs": [
    {
     "name": "stdout",
     "output_type": "stream",
     "text": [
      "5/5 [==============================] - 0s 4ms/step - loss: 0.1068\n",
      "5/5 [==============================] - 0s 2ms/step\n"
     ]
    }
   ],
   "source": [
    "mse_training = model.evaluate(x_train1 , y_train1)\n",
    "y_pred = model.predict(x_train1)"
   ]
  },
  {
   "cell_type": "markdown",
   "metadata": {},
   "source": [
    "#### Testing Data Score + Plot"
   ]
  },
  {
   "cell_type": "code",
   "execution_count": 44,
   "metadata": {},
   "outputs": [
    {
     "name": "stdout",
     "output_type": "stream",
     "text": [
      "2/2 [==============================] - 0s 4ms/step\n"
     ]
    }
   ],
   "source": [
    "y_final = model.predict(x_test)"
   ]
  },
  {
   "cell_type": "code",
   "execution_count": 45,
   "metadata": {},
   "outputs": [
    {
     "name": "stdout",
     "output_type": "stream",
     "text": [
      "2/2 [==============================] - 0s 4ms/step - loss: 1.2671\n"
     ]
    },
    {
     "data": {
      "text/plain": [
       "1.2671000957489014"
      ]
     },
     "execution_count": 45,
     "metadata": {},
     "output_type": "execute_result"
    }
   ],
   "source": [
    "y_test = y_test.reshape(40,1)\n",
    "test_mse = model.evaluate(x_test, y_test)\n",
    "test_mse"
   ]
  },
  {
   "cell_type": "markdown",
   "metadata": {},
   "source": [
    "### Now Tweaking Stats for Season Wide Predictions in the 2022 Season"
   ]
  },
  {
   "cell_type": "code",
   "execution_count": 47,
   "metadata": {},
   "outputs": [],
   "source": [
    "fileName2 = 'PLL Stats Master - Team Game Logs.csv'\n",
    "teamdata2 = pd.read_csv(fileName2)\n",
    "teamdata2 = teamdata2[teamdata2['Season'] == 2022]"
   ]
  },
  {
   "cell_type": "code",
   "execution_count": 48,
   "metadata": {
    "collapsed": true
   },
   "outputs": [
    {
     "name": "stderr",
     "output_type": "stream",
     "text": [
      "<ipython-input-48-7f5c934f4de4>:13: SettingWithCopyWarning: \n",
      "A value is trying to be set on a copy of a slice from a DataFrame.\n",
      "Try using .loc[row_indexer,col_indexer] = value instead\n",
      "\n",
      "See the caveats in the documentation: https://pandas.pydata.org/pandas-docs/stable/user_guide/indexing.html#returning-a-view-versus-a-copy\n",
      "  team2022['Shot%'] = team2022['Goals'] / team2022['Shots']\n",
      "<ipython-input-48-7f5c934f4de4>:14: SettingWithCopyWarning: \n",
      "A value is trying to be set on a copy of a slice from a DataFrame.\n",
      "Try using .loc[row_indexer,col_indexer] = value instead\n",
      "\n",
      "See the caveats in the documentation: https://pandas.pydata.org/pandas-docs/stable/user_guide/indexing.html#returning-a-view-versus-a-copy\n",
      "  team2022['W/L'] = pd.get_dummies(team2022.loc[:,'Result'])[['W']]\n"
     ]
    }
   ],
   "source": [
    "teamdata2['Avg Shot Dist'] = teamdata2['Average Shot Distance'].replace('#DIV/0!' , 10.265)\n",
    "teamdata2['Avg Shot Dist'] = teamdata2['Avg Shot Dist'].astype(float)\n",
    "\n",
    "team2022 = teamdata2[['Season','Week','Game','Team','Opponent', \n",
    "                 'Shots','Goals','Efficiency', \n",
    "                 'Possession %',\n",
    "                 'Settled Goal','FB Goals','Assisted Goals','Shot Quality Ratio', \n",
    "                 'D Efficiency','Turnovers', 'Score Against',\n",
    "                 'Expected Goals','Avg Shot Dist','Margin',\n",
    "                  'Settled Goals agaisnt' , 'Save %',\n",
    "                 'Score','Result']]\n",
    "\n",
    "team2022['Shot%'] = team2022['Goals'] / team2022['Shots']\n",
    "team2022['W/L'] = pd.get_dummies(team2022.loc[:,'Result'])[['W']]"
   ]
  },
  {
   "cell_type": "code",
   "execution_count": 58,
   "metadata": {},
   "outputs": [],
   "source": [
    "archers = team2022[team2022['Team'] == 'Archers']\n",
    "whipsnakes = team2022[team2022['Team'] == 'Whipsnakes']\n",
    "waterdogs = team2022[team2022['Team'] == 'Waterdogs']"
   ]
  },
  {
   "cell_type": "code",
   "execution_count": 63,
   "metadata": {},
   "outputs": [
    {
     "data": {
      "text/html": [
       "<div>\n",
       "<style scoped>\n",
       "    .dataframe tbody tr th:only-of-type {\n",
       "        vertical-align: middle;\n",
       "    }\n",
       "\n",
       "    .dataframe tbody tr th {\n",
       "        vertical-align: top;\n",
       "    }\n",
       "\n",
       "    .dataframe thead th {\n",
       "        text-align: right;\n",
       "    }\n",
       "</style>\n",
       "<table border=\"1\" class=\"dataframe\">\n",
       "  <thead>\n",
       "    <tr style=\"text-align: right;\">\n",
       "      <th></th>\n",
       "      <th>Season</th>\n",
       "      <th>Week</th>\n",
       "      <th>Game</th>\n",
       "      <th>Shots</th>\n",
       "      <th>Goals</th>\n",
       "      <th>Efficiency</th>\n",
       "      <th>Possession %</th>\n",
       "      <th>Settled Goal</th>\n",
       "      <th>FB Goals</th>\n",
       "      <th>Assisted Goals</th>\n",
       "      <th>Shot Quality Ratio</th>\n",
       "      <th>D Efficiency</th>\n",
       "      <th>Turnovers</th>\n",
       "      <th>Score Against</th>\n",
       "      <th>Expected Goals</th>\n",
       "      <th>Avg Shot Dist</th>\n",
       "      <th>Margin</th>\n",
       "      <th>Settled Goals agaisnt</th>\n",
       "      <th>Save %</th>\n",
       "      <th>Score</th>\n",
       "      <th>Shot%</th>\n",
       "      <th>W/L</th>\n",
       "    </tr>\n",
       "  </thead>\n",
       "  <tbody>\n",
       "    <tr>\n",
       "      <th>count</th>\n",
       "      <td>12.0</td>\n",
       "      <td>12.000000</td>\n",
       "      <td>12.000000</td>\n",
       "      <td>12.000000</td>\n",
       "      <td>12.000000</td>\n",
       "      <td>12.000000</td>\n",
       "      <td>12.000000</td>\n",
       "      <td>12.000000</td>\n",
       "      <td>12.000000</td>\n",
       "      <td>12.000000</td>\n",
       "      <td>12.000000</td>\n",
       "      <td>12.000000</td>\n",
       "      <td>12.000000</td>\n",
       "      <td>12.000000</td>\n",
       "      <td>12.000000</td>\n",
       "      <td>12.000000</td>\n",
       "      <td>12.000000</td>\n",
       "      <td>12.000000</td>\n",
       "      <td>12.000000</td>\n",
       "      <td>12.00000</td>\n",
       "      <td>12.000000</td>\n",
       "      <td>12.000000</td>\n",
       "    </tr>\n",
       "    <tr>\n",
       "      <th>mean</th>\n",
       "      <td>2022.0</td>\n",
       "      <td>7.083333</td>\n",
       "      <td>24.833333</td>\n",
       "      <td>37.750000</td>\n",
       "      <td>11.916667</td>\n",
       "      <td>0.320833</td>\n",
       "      <td>0.484167</td>\n",
       "      <td>7.833333</td>\n",
       "      <td>2.583333</td>\n",
       "      <td>6.916667</td>\n",
       "      <td>2.016667</td>\n",
       "      <td>0.260000</td>\n",
       "      <td>13.500000</td>\n",
       "      <td>10.583333</td>\n",
       "      <td>12.741667</td>\n",
       "      <td>10.292910</td>\n",
       "      <td>1.916667</td>\n",
       "      <td>6.916667</td>\n",
       "      <td>0.525000</td>\n",
       "      <td>12.50000</td>\n",
       "      <td>0.316763</td>\n",
       "      <td>0.583333</td>\n",
       "    </tr>\n",
       "    <tr>\n",
       "      <th>std</th>\n",
       "      <td>0.0</td>\n",
       "      <td>4.055486</td>\n",
       "      <td>14.490331</td>\n",
       "      <td>5.029459</td>\n",
       "      <td>3.776924</td>\n",
       "      <td>0.080843</td>\n",
       "      <td>0.034234</td>\n",
       "      <td>1.992410</td>\n",
       "      <td>2.108784</td>\n",
       "      <td>2.843120</td>\n",
       "      <td>0.705605</td>\n",
       "      <td>0.030151</td>\n",
       "      <td>3.343923</td>\n",
       "      <td>2.020726</td>\n",
       "      <td>1.431756</td>\n",
       "      <td>0.499792</td>\n",
       "      <td>4.399552</td>\n",
       "      <td>2.429303</td>\n",
       "      <td>0.086603</td>\n",
       "      <td>4.05642</td>\n",
       "      <td>0.090395</td>\n",
       "      <td>0.514929</td>\n",
       "    </tr>\n",
       "    <tr>\n",
       "      <th>min</th>\n",
       "      <td>2022.0</td>\n",
       "      <td>1.000000</td>\n",
       "      <td>4.000000</td>\n",
       "      <td>30.000000</td>\n",
       "      <td>7.000000</td>\n",
       "      <td>0.200000</td>\n",
       "      <td>0.420000</td>\n",
       "      <td>4.000000</td>\n",
       "      <td>0.000000</td>\n",
       "      <td>2.000000</td>\n",
       "      <td>1.100000</td>\n",
       "      <td>0.220000</td>\n",
       "      <td>7.000000</td>\n",
       "      <td>8.000000</td>\n",
       "      <td>10.700000</td>\n",
       "      <td>9.359275</td>\n",
       "      <td>-5.000000</td>\n",
       "      <td>1.000000</td>\n",
       "      <td>0.300000</td>\n",
       "      <td>7.00000</td>\n",
       "      <td>0.170732</td>\n",
       "      <td>0.000000</td>\n",
       "    </tr>\n",
       "    <tr>\n",
       "      <th>25%</th>\n",
       "      <td>2022.0</td>\n",
       "      <td>3.750000</td>\n",
       "      <td>14.750000</td>\n",
       "      <td>34.000000</td>\n",
       "      <td>9.000000</td>\n",
       "      <td>0.267500</td>\n",
       "      <td>0.467500</td>\n",
       "      <td>6.750000</td>\n",
       "      <td>1.000000</td>\n",
       "      <td>5.500000</td>\n",
       "      <td>1.675000</td>\n",
       "      <td>0.237500</td>\n",
       "      <td>12.000000</td>\n",
       "      <td>9.000000</td>\n",
       "      <td>11.900000</td>\n",
       "      <td>10.186769</td>\n",
       "      <td>-1.250000</td>\n",
       "      <td>6.500000</td>\n",
       "      <td>0.500000</td>\n",
       "      <td>9.75000</td>\n",
       "      <td>0.256960</td>\n",
       "      <td>0.000000</td>\n",
       "    </tr>\n",
       "    <tr>\n",
       "      <th>50%</th>\n",
       "      <td>2022.0</td>\n",
       "      <td>7.500000</td>\n",
       "      <td>24.000000</td>\n",
       "      <td>37.500000</td>\n",
       "      <td>10.000000</td>\n",
       "      <td>0.305000</td>\n",
       "      <td>0.490000</td>\n",
       "      <td>8.000000</td>\n",
       "      <td>2.500000</td>\n",
       "      <td>7.000000</td>\n",
       "      <td>1.850000</td>\n",
       "      <td>0.265000</td>\n",
       "      <td>14.000000</td>\n",
       "      <td>10.500000</td>\n",
       "      <td>12.600000</td>\n",
       "      <td>10.321234</td>\n",
       "      <td>2.000000</td>\n",
       "      <td>7.000000</td>\n",
       "      <td>0.500000</td>\n",
       "      <td>11.00000</td>\n",
       "      <td>0.306250</td>\n",
       "      <td>1.000000</td>\n",
       "    </tr>\n",
       "    <tr>\n",
       "      <th>75%</th>\n",
       "      <td>2022.0</td>\n",
       "      <td>10.250000</td>\n",
       "      <td>35.750000</td>\n",
       "      <td>41.000000</td>\n",
       "      <td>15.000000</td>\n",
       "      <td>0.355000</td>\n",
       "      <td>0.492500</td>\n",
       "      <td>9.250000</td>\n",
       "      <td>4.000000</td>\n",
       "      <td>8.000000</td>\n",
       "      <td>2.200000</td>\n",
       "      <td>0.277500</td>\n",
       "      <td>15.250000</td>\n",
       "      <td>12.000000</td>\n",
       "      <td>13.675000</td>\n",
       "      <td>10.521588</td>\n",
       "      <td>5.000000</td>\n",
       "      <td>8.000000</td>\n",
       "      <td>0.600000</td>\n",
       "      <td>16.25000</td>\n",
       "      <td>0.373227</td>\n",
       "      <td>1.000000</td>\n",
       "    </tr>\n",
       "    <tr>\n",
       "      <th>max</th>\n",
       "      <td>2022.0</td>\n",
       "      <td>13.000000</td>\n",
       "      <td>47.000000</td>\n",
       "      <td>47.000000</td>\n",
       "      <td>19.000000</td>\n",
       "      <td>0.490000</td>\n",
       "      <td>0.560000</td>\n",
       "      <td>10.000000</td>\n",
       "      <td>6.000000</td>\n",
       "      <td>12.000000</td>\n",
       "      <td>3.600000</td>\n",
       "      <td>0.300000</td>\n",
       "      <td>19.000000</td>\n",
       "      <td>14.000000</td>\n",
       "      <td>15.400000</td>\n",
       "      <td>11.282101</td>\n",
       "      <td>11.000000</td>\n",
       "      <td>10.000000</td>\n",
       "      <td>0.600000</td>\n",
       "      <td>20.00000</td>\n",
       "      <td>0.463415</td>\n",
       "      <td>1.000000</td>\n",
       "    </tr>\n",
       "  </tbody>\n",
       "</table>\n",
       "</div>"
      ],
      "text/plain": [
       "       Season       Week       Game      Shots      Goals  Efficiency  \\\n",
       "count    12.0  12.000000  12.000000  12.000000  12.000000   12.000000   \n",
       "mean   2022.0   7.083333  24.833333  37.750000  11.916667    0.320833   \n",
       "std       0.0   4.055486  14.490331   5.029459   3.776924    0.080843   \n",
       "min    2022.0   1.000000   4.000000  30.000000   7.000000    0.200000   \n",
       "25%    2022.0   3.750000  14.750000  34.000000   9.000000    0.267500   \n",
       "50%    2022.0   7.500000  24.000000  37.500000  10.000000    0.305000   \n",
       "75%    2022.0  10.250000  35.750000  41.000000  15.000000    0.355000   \n",
       "max    2022.0  13.000000  47.000000  47.000000  19.000000    0.490000   \n",
       "\n",
       "       Possession %  Settled Goal   FB Goals  Assisted Goals  \\\n",
       "count     12.000000     12.000000  12.000000       12.000000   \n",
       "mean       0.484167      7.833333   2.583333        6.916667   \n",
       "std        0.034234      1.992410   2.108784        2.843120   \n",
       "min        0.420000      4.000000   0.000000        2.000000   \n",
       "25%        0.467500      6.750000   1.000000        5.500000   \n",
       "50%        0.490000      8.000000   2.500000        7.000000   \n",
       "75%        0.492500      9.250000   4.000000        8.000000   \n",
       "max        0.560000     10.000000   6.000000       12.000000   \n",
       "\n",
       "       Shot Quality Ratio  D Efficiency  Turnovers  Score Against  \\\n",
       "count           12.000000     12.000000  12.000000      12.000000   \n",
       "mean             2.016667      0.260000  13.500000      10.583333   \n",
       "std              0.705605      0.030151   3.343923       2.020726   \n",
       "min              1.100000      0.220000   7.000000       8.000000   \n",
       "25%              1.675000      0.237500  12.000000       9.000000   \n",
       "50%              1.850000      0.265000  14.000000      10.500000   \n",
       "75%              2.200000      0.277500  15.250000      12.000000   \n",
       "max              3.600000      0.300000  19.000000      14.000000   \n",
       "\n",
       "       Expected Goals  Avg Shot Dist     Margin  Settled Goals agaisnt  \\\n",
       "count       12.000000      12.000000  12.000000              12.000000   \n",
       "mean        12.741667      10.292910   1.916667               6.916667   \n",
       "std          1.431756       0.499792   4.399552               2.429303   \n",
       "min         10.700000       9.359275  -5.000000               1.000000   \n",
       "25%         11.900000      10.186769  -1.250000               6.500000   \n",
       "50%         12.600000      10.321234   2.000000               7.000000   \n",
       "75%         13.675000      10.521588   5.000000               8.000000   \n",
       "max         15.400000      11.282101  11.000000              10.000000   \n",
       "\n",
       "          Save %     Score      Shot%        W/L  \n",
       "count  12.000000  12.00000  12.000000  12.000000  \n",
       "mean    0.525000  12.50000   0.316763   0.583333  \n",
       "std     0.086603   4.05642   0.090395   0.514929  \n",
       "min     0.300000   7.00000   0.170732   0.000000  \n",
       "25%     0.500000   9.75000   0.256960   0.000000  \n",
       "50%     0.500000  11.00000   0.306250   1.000000  \n",
       "75%     0.600000  16.25000   0.373227   1.000000  \n",
       "max     0.600000  20.00000   0.463415   1.000000  "
      ]
     },
     "execution_count": 63,
     "metadata": {},
     "output_type": "execute_result"
    }
   ],
   "source": [
    "archers.describe()"
   ]
  },
  {
   "cell_type": "code",
   "execution_count": 122,
   "metadata": {},
   "outputs": [
    {
     "data": {
      "text/plain": [
       "1.936363636363636"
      ]
     },
     "execution_count": 122,
     "metadata": {},
     "output_type": "execute_result"
    }
   ],
   "source": [
    "whipsnakes['Shot Quality Ratio'].mean()"
   ]
  },
  {
   "cell_type": "code",
   "execution_count": 62,
   "metadata": {},
   "outputs": [
    {
     "data": {
      "text/plain": [
       "142"
      ]
     },
     "execution_count": 62,
     "metadata": {},
     "output_type": "execute_result"
    }
   ],
   "source": [
    "waterdogs['Goals'].sum()"
   ]
  },
  {
   "cell_type": "code",
   "execution_count": 61,
   "metadata": {},
   "outputs": [
    {
     "data": {
      "text/plain": [
       "143"
      ]
     },
     "execution_count": 61,
     "metadata": {},
     "output_type": "execute_result"
    }
   ],
   "source": [
    "archers['Goals'].sum()"
   ]
  },
  {
   "cell_type": "markdown",
   "metadata": {},
   "source": [
    "#### Manipulating Possession Share"
   ]
  },
  {
   "cell_type": "code",
   "execution_count": 104,
   "metadata": {
    "collapsed": true
   },
   "outputs": [
    {
     "name": "stdout",
     "output_type": "stream",
     "text": [
      "1/1 [==============================] - 0s 27ms/step\n"
     ]
    },
    {
     "name": "stderr",
     "output_type": "stream",
     "text": [
      "<ipython-input-51-bc0e6382ad84>:34: SettingWithCopyWarning: \n",
      "A value is trying to be set on a copy of a slice from a DataFrame.\n",
      "Try using .loc[row_indexer,col_indexer] = value instead\n",
      "\n",
      "See the caveats in the documentation: https://pandas.pydata.org/pandas-docs/stable/user_guide/indexing.html#returning-a-view-versus-a-copy\n",
      "  data[metric] = new\n",
      "<ipython-input-51-bc0e6382ad84>:34: SettingWithCopyWarning: \n",
      "A value is trying to be set on a copy of a slice from a DataFrame.\n",
      "Try using .loc[row_indexer,col_indexer] = value instead\n",
      "\n",
      "See the caveats in the documentation: https://pandas.pydata.org/pandas-docs/stable/user_guide/indexing.html#returning-a-view-versus-a-copy\n",
      "  data[metric] = new\n",
      "<ipython-input-51-bc0e6382ad84>:34: SettingWithCopyWarning: \n",
      "A value is trying to be set on a copy of a slice from a DataFrame.\n",
      "Try using .loc[row_indexer,col_indexer] = value instead\n",
      "\n",
      "See the caveats in the documentation: https://pandas.pydata.org/pandas-docs/stable/user_guide/indexing.html#returning-a-view-versus-a-copy\n",
      "  data[metric] = new\n"
     ]
    },
    {
     "name": "stdout",
     "output_type": "stream",
     "text": [
      "1/1 [==============================] - 0s 24ms/step\n"
     ]
    },
    {
     "name": "stderr",
     "output_type": "stream",
     "text": [
      "<ipython-input-51-bc0e6382ad84>:34: SettingWithCopyWarning: \n",
      "A value is trying to be set on a copy of a slice from a DataFrame.\n",
      "Try using .loc[row_indexer,col_indexer] = value instead\n",
      "\n",
      "See the caveats in the documentation: https://pandas.pydata.org/pandas-docs/stable/user_guide/indexing.html#returning-a-view-versus-a-copy\n",
      "  data[metric] = new\n",
      "<ipython-input-51-bc0e6382ad84>:34: SettingWithCopyWarning: \n",
      "A value is trying to be set on a copy of a slice from a DataFrame.\n",
      "Try using .loc[row_indexer,col_indexer] = value instead\n",
      "\n",
      "See the caveats in the documentation: https://pandas.pydata.org/pandas-docs/stable/user_guide/indexing.html#returning-a-view-versus-a-copy\n",
      "  data[metric] = new\n",
      "<ipython-input-51-bc0e6382ad84>:34: SettingWithCopyWarning: \n",
      "A value is trying to be set on a copy of a slice from a DataFrame.\n",
      "Try using .loc[row_indexer,col_indexer] = value instead\n",
      "\n",
      "See the caveats in the documentation: https://pandas.pydata.org/pandas-docs/stable/user_guide/indexing.html#returning-a-view-versus-a-copy\n",
      "  data[metric] = new\n"
     ]
    },
    {
     "name": "stdout",
     "output_type": "stream",
     "text": [
      "1/1 [==============================] - 0s 28ms/step\n"
     ]
    },
    {
     "name": "stderr",
     "output_type": "stream",
     "text": [
      "<ipython-input-51-bc0e6382ad84>:34: SettingWithCopyWarning: \n",
      "A value is trying to be set on a copy of a slice from a DataFrame.\n",
      "Try using .loc[row_indexer,col_indexer] = value instead\n",
      "\n",
      "See the caveats in the documentation: https://pandas.pydata.org/pandas-docs/stable/user_guide/indexing.html#returning-a-view-versus-a-copy\n",
      "  data[metric] = new\n",
      "<ipython-input-51-bc0e6382ad84>:34: SettingWithCopyWarning: \n",
      "A value is trying to be set on a copy of a slice from a DataFrame.\n",
      "Try using .loc[row_indexer,col_indexer] = value instead\n",
      "\n",
      "See the caveats in the documentation: https://pandas.pydata.org/pandas-docs/stable/user_guide/indexing.html#returning-a-view-versus-a-copy\n",
      "  data[metric] = new\n",
      "<ipython-input-51-bc0e6382ad84>:34: SettingWithCopyWarning: \n",
      "A value is trying to be set on a copy of a slice from a DataFrame.\n",
      "Try using .loc[row_indexer,col_indexer] = value instead\n",
      "\n",
      "See the caveats in the documentation: https://pandas.pydata.org/pandas-docs/stable/user_guide/indexing.html#returning-a-view-versus-a-copy\n",
      "  data[metric] = new\n"
     ]
    },
    {
     "name": "stdout",
     "output_type": "stream",
     "text": [
      "1/1 [==============================] - 0s 26ms/step\n"
     ]
    },
    {
     "name": "stderr",
     "output_type": "stream",
     "text": [
      "<ipython-input-51-bc0e6382ad84>:34: SettingWithCopyWarning: \n",
      "A value is trying to be set on a copy of a slice from a DataFrame.\n",
      "Try using .loc[row_indexer,col_indexer] = value instead\n",
      "\n",
      "See the caveats in the documentation: https://pandas.pydata.org/pandas-docs/stable/user_guide/indexing.html#returning-a-view-versus-a-copy\n",
      "  data[metric] = new\n",
      "<ipython-input-51-bc0e6382ad84>:34: SettingWithCopyWarning: \n",
      "A value is trying to be set on a copy of a slice from a DataFrame.\n",
      "Try using .loc[row_indexer,col_indexer] = value instead\n",
      "\n",
      "See the caveats in the documentation: https://pandas.pydata.org/pandas-docs/stable/user_guide/indexing.html#returning-a-view-versus-a-copy\n",
      "  data[metric] = new\n",
      "<ipython-input-51-bc0e6382ad84>:34: SettingWithCopyWarning: \n",
      "A value is trying to be set on a copy of a slice from a DataFrame.\n",
      "Try using .loc[row_indexer,col_indexer] = value instead\n",
      "\n",
      "See the caveats in the documentation: https://pandas.pydata.org/pandas-docs/stable/user_guide/indexing.html#returning-a-view-versus-a-copy\n",
      "  data[metric] = new\n"
     ]
    },
    {
     "name": "stdout",
     "output_type": "stream",
     "text": [
      "1/1 [==============================] - 0s 24ms/step\n"
     ]
    },
    {
     "name": "stderr",
     "output_type": "stream",
     "text": [
      "<ipython-input-51-bc0e6382ad84>:34: SettingWithCopyWarning: \n",
      "A value is trying to be set on a copy of a slice from a DataFrame.\n",
      "Try using .loc[row_indexer,col_indexer] = value instead\n",
      "\n",
      "See the caveats in the documentation: https://pandas.pydata.org/pandas-docs/stable/user_guide/indexing.html#returning-a-view-versus-a-copy\n",
      "  data[metric] = new\n",
      "<ipython-input-51-bc0e6382ad84>:34: SettingWithCopyWarning: \n",
      "A value is trying to be set on a copy of a slice from a DataFrame.\n",
      "Try using .loc[row_indexer,col_indexer] = value instead\n",
      "\n",
      "See the caveats in the documentation: https://pandas.pydata.org/pandas-docs/stable/user_guide/indexing.html#returning-a-view-versus-a-copy\n",
      "  data[metric] = new\n",
      "<ipython-input-51-bc0e6382ad84>:34: SettingWithCopyWarning: \n",
      "A value is trying to be set on a copy of a slice from a DataFrame.\n",
      "Try using .loc[row_indexer,col_indexer] = value instead\n",
      "\n",
      "See the caveats in the documentation: https://pandas.pydata.org/pandas-docs/stable/user_guide/indexing.html#returning-a-view-versus-a-copy\n",
      "  data[metric] = new\n"
     ]
    },
    {
     "name": "stdout",
     "output_type": "stream",
     "text": [
      "1/1 [==============================] - 0s 25ms/step\n"
     ]
    },
    {
     "name": "stderr",
     "output_type": "stream",
     "text": [
      "<ipython-input-51-bc0e6382ad84>:34: SettingWithCopyWarning: \n",
      "A value is trying to be set on a copy of a slice from a DataFrame.\n",
      "Try using .loc[row_indexer,col_indexer] = value instead\n",
      "\n",
      "See the caveats in the documentation: https://pandas.pydata.org/pandas-docs/stable/user_guide/indexing.html#returning-a-view-versus-a-copy\n",
      "  data[metric] = new\n",
      "<ipython-input-51-bc0e6382ad84>:34: SettingWithCopyWarning: \n",
      "A value is trying to be set on a copy of a slice from a DataFrame.\n",
      "Try using .loc[row_indexer,col_indexer] = value instead\n",
      "\n",
      "See the caveats in the documentation: https://pandas.pydata.org/pandas-docs/stable/user_guide/indexing.html#returning-a-view-versus-a-copy\n",
      "  data[metric] = new\n",
      "<ipython-input-51-bc0e6382ad84>:34: SettingWithCopyWarning: \n",
      "A value is trying to be set on a copy of a slice from a DataFrame.\n",
      "Try using .loc[row_indexer,col_indexer] = value instead\n",
      "\n",
      "See the caveats in the documentation: https://pandas.pydata.org/pandas-docs/stable/user_guide/indexing.html#returning-a-view-versus-a-copy\n",
      "  data[metric] = new\n"
     ]
    },
    {
     "name": "stdout",
     "output_type": "stream",
     "text": [
      "1/1 [==============================] - 0s 26ms/step\n"
     ]
    },
    {
     "name": "stderr",
     "output_type": "stream",
     "text": [
      "<ipython-input-51-bc0e6382ad84>:34: SettingWithCopyWarning: \n",
      "A value is trying to be set on a copy of a slice from a DataFrame.\n",
      "Try using .loc[row_indexer,col_indexer] = value instead\n",
      "\n",
      "See the caveats in the documentation: https://pandas.pydata.org/pandas-docs/stable/user_guide/indexing.html#returning-a-view-versus-a-copy\n",
      "  data[metric] = new\n",
      "<ipython-input-51-bc0e6382ad84>:34: SettingWithCopyWarning: \n",
      "A value is trying to be set on a copy of a slice from a DataFrame.\n",
      "Try using .loc[row_indexer,col_indexer] = value instead\n",
      "\n",
      "See the caveats in the documentation: https://pandas.pydata.org/pandas-docs/stable/user_guide/indexing.html#returning-a-view-versus-a-copy\n",
      "  data[metric] = new\n",
      "<ipython-input-51-bc0e6382ad84>:34: SettingWithCopyWarning: \n",
      "A value is trying to be set on a copy of a slice from a DataFrame.\n",
      "Try using .loc[row_indexer,col_indexer] = value instead\n",
      "\n",
      "See the caveats in the documentation: https://pandas.pydata.org/pandas-docs/stable/user_guide/indexing.html#returning-a-view-versus-a-copy\n",
      "  data[metric] = new\n"
     ]
    },
    {
     "name": "stdout",
     "output_type": "stream",
     "text": [
      "1/1 [==============================] - 0s 29ms/step\n"
     ]
    },
    {
     "name": "stderr",
     "output_type": "stream",
     "text": [
      "<ipython-input-51-bc0e6382ad84>:34: SettingWithCopyWarning: \n",
      "A value is trying to be set on a copy of a slice from a DataFrame.\n",
      "Try using .loc[row_indexer,col_indexer] = value instead\n",
      "\n",
      "See the caveats in the documentation: https://pandas.pydata.org/pandas-docs/stable/user_guide/indexing.html#returning-a-view-versus-a-copy\n",
      "  data[metric] = new\n",
      "<ipython-input-51-bc0e6382ad84>:34: SettingWithCopyWarning: \n",
      "A value is trying to be set on a copy of a slice from a DataFrame.\n",
      "Try using .loc[row_indexer,col_indexer] = value instead\n",
      "\n",
      "See the caveats in the documentation: https://pandas.pydata.org/pandas-docs/stable/user_guide/indexing.html#returning-a-view-versus-a-copy\n",
      "  data[metric] = new\n",
      "<ipython-input-51-bc0e6382ad84>:34: SettingWithCopyWarning: \n",
      "A value is trying to be set on a copy of a slice from a DataFrame.\n",
      "Try using .loc[row_indexer,col_indexer] = value instead\n",
      "\n",
      "See the caveats in the documentation: https://pandas.pydata.org/pandas-docs/stable/user_guide/indexing.html#returning-a-view-versus-a-copy\n",
      "  data[metric] = new\n"
     ]
    },
    {
     "name": "stdout",
     "output_type": "stream",
     "text": [
      "1/1 [==============================] - 0s 28ms/step\n"
     ]
    },
    {
     "name": "stderr",
     "output_type": "stream",
     "text": [
      "<ipython-input-51-bc0e6382ad84>:34: SettingWithCopyWarning: \n",
      "A value is trying to be set on a copy of a slice from a DataFrame.\n",
      "Try using .loc[row_indexer,col_indexer] = value instead\n",
      "\n",
      "See the caveats in the documentation: https://pandas.pydata.org/pandas-docs/stable/user_guide/indexing.html#returning-a-view-versus-a-copy\n",
      "  data[metric] = new\n",
      "<ipython-input-51-bc0e6382ad84>:34: SettingWithCopyWarning: \n",
      "A value is trying to be set on a copy of a slice from a DataFrame.\n",
      "Try using .loc[row_indexer,col_indexer] = value instead\n",
      "\n",
      "See the caveats in the documentation: https://pandas.pydata.org/pandas-docs/stable/user_guide/indexing.html#returning-a-view-versus-a-copy\n",
      "  data[metric] = new\n",
      "<ipython-input-51-bc0e6382ad84>:34: SettingWithCopyWarning: \n",
      "A value is trying to be set on a copy of a slice from a DataFrame.\n",
      "Try using .loc[row_indexer,col_indexer] = value instead\n",
      "\n",
      "See the caveats in the documentation: https://pandas.pydata.org/pandas-docs/stable/user_guide/indexing.html#returning-a-view-versus-a-copy\n",
      "  data[metric] = new\n"
     ]
    },
    {
     "name": "stdout",
     "output_type": "stream",
     "text": [
      "1/1 [==============================] - 0s 24ms/step\n"
     ]
    },
    {
     "name": "stderr",
     "output_type": "stream",
     "text": [
      "<ipython-input-51-bc0e6382ad84>:34: SettingWithCopyWarning: \n",
      "A value is trying to be set on a copy of a slice from a DataFrame.\n",
      "Try using .loc[row_indexer,col_indexer] = value instead\n",
      "\n",
      "See the caveats in the documentation: https://pandas.pydata.org/pandas-docs/stable/user_guide/indexing.html#returning-a-view-versus-a-copy\n",
      "  data[metric] = new\n",
      "<ipython-input-51-bc0e6382ad84>:34: SettingWithCopyWarning: \n",
      "A value is trying to be set on a copy of a slice from a DataFrame.\n",
      "Try using .loc[row_indexer,col_indexer] = value instead\n",
      "\n",
      "See the caveats in the documentation: https://pandas.pydata.org/pandas-docs/stable/user_guide/indexing.html#returning-a-view-versus-a-copy\n",
      "  data[metric] = new\n",
      "<ipython-input-51-bc0e6382ad84>:34: SettingWithCopyWarning: \n",
      "A value is trying to be set on a copy of a slice from a DataFrame.\n",
      "Try using .loc[row_indexer,col_indexer] = value instead\n",
      "\n",
      "See the caveats in the documentation: https://pandas.pydata.org/pandas-docs/stable/user_guide/indexing.html#returning-a-view-versus-a-copy\n",
      "  data[metric] = new\n"
     ]
    },
    {
     "name": "stdout",
     "output_type": "stream",
     "text": [
      "1/1 [==============================] - 0s 25ms/step\n"
     ]
    },
    {
     "name": "stderr",
     "output_type": "stream",
     "text": [
      "<ipython-input-51-bc0e6382ad84>:34: SettingWithCopyWarning: \n",
      "A value is trying to be set on a copy of a slice from a DataFrame.\n",
      "Try using .loc[row_indexer,col_indexer] = value instead\n",
      "\n",
      "See the caveats in the documentation: https://pandas.pydata.org/pandas-docs/stable/user_guide/indexing.html#returning-a-view-versus-a-copy\n",
      "  data[metric] = new\n",
      "<ipython-input-51-bc0e6382ad84>:34: SettingWithCopyWarning: \n",
      "A value is trying to be set on a copy of a slice from a DataFrame.\n",
      "Try using .loc[row_indexer,col_indexer] = value instead\n",
      "\n",
      "See the caveats in the documentation: https://pandas.pydata.org/pandas-docs/stable/user_guide/indexing.html#returning-a-view-versus-a-copy\n",
      "  data[metric] = new\n",
      "<ipython-input-51-bc0e6382ad84>:34: SettingWithCopyWarning: \n",
      "A value is trying to be set on a copy of a slice from a DataFrame.\n",
      "Try using .loc[row_indexer,col_indexer] = value instead\n",
      "\n",
      "See the caveats in the documentation: https://pandas.pydata.org/pandas-docs/stable/user_guide/indexing.html#returning-a-view-versus-a-copy\n",
      "  data[metric] = new\n"
     ]
    }
   ],
   "source": [
    "lists = [\n",
    "        [0.45, 2.01 , 7.8],\n",
    "        [0.48, 2.01 , 7.8],\n",
    "        [0.50, 2.01 , 7.8],\n",
    "        [0.51, 2.01 , 7.8],\n",
    "        [0.52, 2.01 , 7.8],\n",
    "        [0.53, 2.01 , 7.8],\n",
    "        [0.54, 2.01 , 7.8],\n",
    "        [0.55, 2.01 , 7.8],\n",
    "        [0.56, 2.01 , 7.8],\n",
    "        [0.57, 2.01 , 7.8],\n",
    "        [0.58, 2.01 , 7.8]]\n",
    "index = pd.DataFrame(lists, columns = ['poss', 'sqr' , 'sg'])\n",
    "\n",
    "run = [0,1,2,3,4,5,6,7,8,9,10]\n",
    "\n",
    "result = list()\n",
    "for i in run:\n",
    "    w = project(archers , 'Possession %' , index['poss'][i] , 'Shot Quality Ratio', index['sqr'][i] , 'Settled Goal' , index['sg'][i])\n",
    "    result.append(w)"
   ]
  },
  {
   "cell_type": "code",
   "execution_count": 112,
   "metadata": {},
   "outputs": [
    {
     "data": {
      "text/html": [
       "<div>\n",
       "<style scoped>\n",
       "    .dataframe tbody tr th:only-of-type {\n",
       "        vertical-align: middle;\n",
       "    }\n",
       "\n",
       "    .dataframe tbody tr th {\n",
       "        vertical-align: top;\n",
       "    }\n",
       "\n",
       "    .dataframe thead th {\n",
       "        text-align: right;\n",
       "    }\n",
       "</style>\n",
       "<table border=\"1\" class=\"dataframe\">\n",
       "  <thead>\n",
       "    <tr style=\"text-align: right;\">\n",
       "      <th></th>\n",
       "      <th>poss</th>\n",
       "      <th>sqr</th>\n",
       "      <th>sg</th>\n",
       "      <th>Prediction</th>\n",
       "    </tr>\n",
       "  </thead>\n",
       "  <tbody>\n",
       "    <tr>\n",
       "      <th>0</th>\n",
       "      <td>0.45</td>\n",
       "      <td>2.01</td>\n",
       "      <td>7.8</td>\n",
       "      <td>147.814194</td>\n",
       "    </tr>\n",
       "    <tr>\n",
       "      <th>1</th>\n",
       "      <td>0.48</td>\n",
       "      <td>2.01</td>\n",
       "      <td>7.8</td>\n",
       "      <td>151.190857</td>\n",
       "    </tr>\n",
       "    <tr>\n",
       "      <th>2</th>\n",
       "      <td>0.50</td>\n",
       "      <td>2.01</td>\n",
       "      <td>7.8</td>\n",
       "      <td>147.814194</td>\n",
       "    </tr>\n",
       "    <tr>\n",
       "      <th>3</th>\n",
       "      <td>0.51</td>\n",
       "      <td>2.01</td>\n",
       "      <td>7.8</td>\n",
       "      <td>146.781555</td>\n",
       "    </tr>\n",
       "    <tr>\n",
       "      <th>4</th>\n",
       "      <td>0.52</td>\n",
       "      <td>2.01</td>\n",
       "      <td>7.8</td>\n",
       "      <td>146.781555</td>\n",
       "    </tr>\n",
       "    <tr>\n",
       "      <th>5</th>\n",
       "      <td>0.53</td>\n",
       "      <td>2.01</td>\n",
       "      <td>7.8</td>\n",
       "      <td>151.190857</td>\n",
       "    </tr>\n",
       "    <tr>\n",
       "      <th>6</th>\n",
       "      <td>0.54</td>\n",
       "      <td>2.01</td>\n",
       "      <td>7.8</td>\n",
       "      <td>147.814194</td>\n",
       "    </tr>\n",
       "    <tr>\n",
       "      <th>7</th>\n",
       "      <td>0.55</td>\n",
       "      <td>2.01</td>\n",
       "      <td>7.8</td>\n",
       "      <td>146.781555</td>\n",
       "    </tr>\n",
       "    <tr>\n",
       "      <th>8</th>\n",
       "      <td>0.56</td>\n",
       "      <td>2.01</td>\n",
       "      <td>7.8</td>\n",
       "      <td>151.190857</td>\n",
       "    </tr>\n",
       "    <tr>\n",
       "      <th>9</th>\n",
       "      <td>0.57</td>\n",
       "      <td>2.01</td>\n",
       "      <td>7.8</td>\n",
       "      <td>151.190857</td>\n",
       "    </tr>\n",
       "    <tr>\n",
       "      <th>10</th>\n",
       "      <td>0.58</td>\n",
       "      <td>2.01</td>\n",
       "      <td>7.8</td>\n",
       "      <td>147.814194</td>\n",
       "    </tr>\n",
       "  </tbody>\n",
       "</table>\n",
       "</div>"
      ],
      "text/plain": [
       "    poss   sqr   sg  Prediction\n",
       "0   0.45  2.01  7.8  147.814194\n",
       "1   0.48  2.01  7.8  151.190857\n",
       "2   0.50  2.01  7.8  147.814194\n",
       "3   0.51  2.01  7.8  146.781555\n",
       "4   0.52  2.01  7.8  146.781555\n",
       "5   0.53  2.01  7.8  151.190857\n",
       "6   0.54  2.01  7.8  147.814194\n",
       "7   0.55  2.01  7.8  146.781555\n",
       "8   0.56  2.01  7.8  151.190857\n",
       "9   0.57  2.01  7.8  151.190857\n",
       "10  0.58  2.01  7.8  147.814194"
      ]
     },
     "execution_count": 112,
     "metadata": {},
     "output_type": "execute_result"
    }
   ],
   "source": [
    "index['Prediction'] = result\n",
    "index"
   ]
  },
  {
   "cell_type": "code",
   "execution_count": 110,
   "metadata": {},
   "outputs": [],
   "source": [
    "def deepplot(index , x , title):\n",
    "    \n",
    "    fig, ax = plt.subplots()\n",
    "\n",
    "\n",
    "    x = index[x]\n",
    "    y = index['Prediction']\n",
    "\n",
    "    ax.plot(x,y, c = 'black')\n",
    "\n",
    "\n",
    "    ax.set_title(title)\n",
    "    ax.set_xlabel('Possession Share')\n",
    "    ax.set_ylabel('Prediction')\n",
    "    \n",
    "    \n",
    "    plt.ylim([140, 160])\n",
    "    plt.xlim([x.min(),x.max()])\n",
    "\n",
    "    plt.show()"
   ]
  },
  {
   "cell_type": "code",
   "execution_count": 111,
   "metadata": {},
   "outputs": [
    {
     "data": {
      "image/png": "[encoded data removed]",
      "text/plain": [
       "<Figure size 432x288 with 1 Axes>"
      ]
     },
     "metadata": {
      "needs_background": "light"
     },
     "output_type": "display_data"
    }
   ],
   "source": [
    "deepplot(index , 'poss' , 'Possession share vs. Predicted Goal Totals')"
   ]
  },
  {
   "cell_type": "markdown",
   "metadata": {},
   "source": [
    "#### Possession Share Summary \n",
    "\n",
    "- After 53% possession we stop seeing real improvement\n",
    "- That is okay, because 53% possession per game is a realistic goal, whereas 55% + is a much more difficult ask than the already difficult 53%.\n",
    "- We essentially see no gain (other metrics constant) in predicted goals past, 53% possession, so we will hold that constant in the next round of projections\n",
    "- A logical assumption would be that now that this team has the ball more, they will score more settled goals with that time, so we will manipulate settled goals next."
   ]
  },
  {
   "cell_type": "markdown",
   "metadata": {},
   "source": [
    "#### Manipulating Settled Goals"
   ]
  },
  {
   "cell_type": "code",
   "execution_count": 115,
   "metadata": {
    "collapsed": true
   },
   "outputs": [
    {
     "name": "stdout",
     "output_type": "stream",
     "text": [
      "1/1 [==============================] - 0s 25ms/step\n"
     ]
    },
    {
     "name": "stderr",
     "output_type": "stream",
     "text": [
      "<ipython-input-51-bc0e6382ad84>:34: SettingWithCopyWarning: \n",
      "A value is trying to be set on a copy of a slice from a DataFrame.\n",
      "Try using .loc[row_indexer,col_indexer] = value instead\n",
      "\n",
      "See the caveats in the documentation: https://pandas.pydata.org/pandas-docs/stable/user_guide/indexing.html#returning-a-view-versus-a-copy\n",
      "  data[metric] = new\n",
      "<ipython-input-51-bc0e6382ad84>:34: SettingWithCopyWarning: \n",
      "A value is trying to be set on a copy of a slice from a DataFrame.\n",
      "Try using .loc[row_indexer,col_indexer] = value instead\n",
      "\n",
      "See the caveats in the documentation: https://pandas.pydata.org/pandas-docs/stable/user_guide/indexing.html#returning-a-view-versus-a-copy\n",
      "  data[metric] = new\n",
      "<ipython-input-51-bc0e6382ad84>:34: SettingWithCopyWarning: \n",
      "A value is trying to be set on a copy of a slice from a DataFrame.\n",
      "Try using .loc[row_indexer,col_indexer] = value instead\n",
      "\n",
      "See the caveats in the documentation: https://pandas.pydata.org/pandas-docs/stable/user_guide/indexing.html#returning-a-view-versus-a-copy\n",
      "  data[metric] = new\n"
     ]
    },
    {
     "name": "stdout",
     "output_type": "stream",
     "text": [
      "1/1 [==============================] - 0s 24ms/step\n"
     ]
    },
    {
     "name": "stderr",
     "output_type": "stream",
     "text": [
      "<ipython-input-51-bc0e6382ad84>:34: SettingWithCopyWarning: \n",
      "A value is trying to be set on a copy of a slice from a DataFrame.\n",
      "Try using .loc[row_indexer,col_indexer] = value instead\n",
      "\n",
      "See the caveats in the documentation: https://pandas.pydata.org/pandas-docs/stable/user_guide/indexing.html#returning-a-view-versus-a-copy\n",
      "  data[metric] = new\n",
      "<ipython-input-51-bc0e6382ad84>:34: SettingWithCopyWarning: \n",
      "A value is trying to be set on a copy of a slice from a DataFrame.\n",
      "Try using .loc[row_indexer,col_indexer] = value instead\n",
      "\n",
      "See the caveats in the documentation: https://pandas.pydata.org/pandas-docs/stable/user_guide/indexing.html#returning-a-view-versus-a-copy\n",
      "  data[metric] = new\n",
      "<ipython-input-51-bc0e6382ad84>:34: SettingWithCopyWarning: \n",
      "A value is trying to be set on a copy of a slice from a DataFrame.\n",
      "Try using .loc[row_indexer,col_indexer] = value instead\n",
      "\n",
      "See the caveats in the documentation: https://pandas.pydata.org/pandas-docs/stable/user_guide/indexing.html#returning-a-view-versus-a-copy\n",
      "  data[metric] = new\n"
     ]
    },
    {
     "name": "stdout",
     "output_type": "stream",
     "text": [
      "1/1 [==============================] - 0s 26ms/step\n"
     ]
    },
    {
     "name": "stderr",
     "output_type": "stream",
     "text": [
      "<ipython-input-51-bc0e6382ad84>:34: SettingWithCopyWarning: \n",
      "A value is trying to be set on a copy of a slice from a DataFrame.\n",
      "Try using .loc[row_indexer,col_indexer] = value instead\n",
      "\n",
      "See the caveats in the documentation: https://pandas.pydata.org/pandas-docs/stable/user_guide/indexing.html#returning-a-view-versus-a-copy\n",
      "  data[metric] = new\n",
      "<ipython-input-51-bc0e6382ad84>:34: SettingWithCopyWarning: \n",
      "A value is trying to be set on a copy of a slice from a DataFrame.\n",
      "Try using .loc[row_indexer,col_indexer] = value instead\n",
      "\n",
      "See the caveats in the documentation: https://pandas.pydata.org/pandas-docs/stable/user_guide/indexing.html#returning-a-view-versus-a-copy\n",
      "  data[metric] = new\n",
      "<ipython-input-51-bc0e6382ad84>:34: SettingWithCopyWarning: \n",
      "A value is trying to be set on a copy of a slice from a DataFrame.\n",
      "Try using .loc[row_indexer,col_indexer] = value instead\n",
      "\n",
      "See the caveats in the documentation: https://pandas.pydata.org/pandas-docs/stable/user_guide/indexing.html#returning-a-view-versus-a-copy\n",
      "  data[metric] = new\n"
     ]
    },
    {
     "name": "stdout",
     "output_type": "stream",
     "text": [
      "1/1 [==============================] - 0s 24ms/step\n"
     ]
    },
    {
     "name": "stderr",
     "output_type": "stream",
     "text": [
      "<ipython-input-51-bc0e6382ad84>:34: SettingWithCopyWarning: \n",
      "A value is trying to be set on a copy of a slice from a DataFrame.\n",
      "Try using .loc[row_indexer,col_indexer] = value instead\n",
      "\n",
      "See the caveats in the documentation: https://pandas.pydata.org/pandas-docs/stable/user_guide/indexing.html#returning-a-view-versus-a-copy\n",
      "  data[metric] = new\n",
      "<ipython-input-51-bc0e6382ad84>:34: SettingWithCopyWarning: \n",
      "A value is trying to be set on a copy of a slice from a DataFrame.\n",
      "Try using .loc[row_indexer,col_indexer] = value instead\n",
      "\n",
      "See the caveats in the documentation: https://pandas.pydata.org/pandas-docs/stable/user_guide/indexing.html#returning-a-view-versus-a-copy\n",
      "  data[metric] = new\n",
      "<ipython-input-51-bc0e6382ad84>:34: SettingWithCopyWarning: \n",
      "A value is trying to be set on a copy of a slice from a DataFrame.\n",
      "Try using .loc[row_indexer,col_indexer] = value instead\n",
      "\n",
      "See the caveats in the documentation: https://pandas.pydata.org/pandas-docs/stable/user_guide/indexing.html#returning-a-view-versus-a-copy\n",
      "  data[metric] = new\n"
     ]
    },
    {
     "name": "stdout",
     "output_type": "stream",
     "text": [
      "1/1 [==============================] - 0s 24ms/step\n"
     ]
    },
    {
     "name": "stderr",
     "output_type": "stream",
     "text": [
      "<ipython-input-51-bc0e6382ad84>:34: SettingWithCopyWarning: \n",
      "A value is trying to be set on a copy of a slice from a DataFrame.\n",
      "Try using .loc[row_indexer,col_indexer] = value instead\n",
      "\n",
      "See the caveats in the documentation: https://pandas.pydata.org/pandas-docs/stable/user_guide/indexing.html#returning-a-view-versus-a-copy\n",
      "  data[metric] = new\n",
      "<ipython-input-51-bc0e6382ad84>:34: SettingWithCopyWarning: \n",
      "A value is trying to be set on a copy of a slice from a DataFrame.\n",
      "Try using .loc[row_indexer,col_indexer] = value instead\n",
      "\n",
      "See the caveats in the documentation: https://pandas.pydata.org/pandas-docs/stable/user_guide/indexing.html#returning-a-view-versus-a-copy\n",
      "  data[metric] = new\n",
      "<ipython-input-51-bc0e6382ad84>:34: SettingWithCopyWarning: \n",
      "A value is trying to be set on a copy of a slice from a DataFrame.\n",
      "Try using .loc[row_indexer,col_indexer] = value instead\n",
      "\n",
      "See the caveats in the documentation: https://pandas.pydata.org/pandas-docs/stable/user_guide/indexing.html#returning-a-view-versus-a-copy\n",
      "  data[metric] = new\n"
     ]
    },
    {
     "name": "stdout",
     "output_type": "stream",
     "text": [
      "1/1 [==============================] - 0s 24ms/step\n"
     ]
    },
    {
     "name": "stderr",
     "output_type": "stream",
     "text": [
      "<ipython-input-51-bc0e6382ad84>:34: SettingWithCopyWarning: \n",
      "A value is trying to be set on a copy of a slice from a DataFrame.\n",
      "Try using .loc[row_indexer,col_indexer] = value instead\n",
      "\n",
      "See the caveats in the documentation: https://pandas.pydata.org/pandas-docs/stable/user_guide/indexing.html#returning-a-view-versus-a-copy\n",
      "  data[metric] = new\n",
      "<ipython-input-51-bc0e6382ad84>:34: SettingWithCopyWarning: \n",
      "A value is trying to be set on a copy of a slice from a DataFrame.\n",
      "Try using .loc[row_indexer,col_indexer] = value instead\n",
      "\n",
      "See the caveats in the documentation: https://pandas.pydata.org/pandas-docs/stable/user_guide/indexing.html#returning-a-view-versus-a-copy\n",
      "  data[metric] = new\n",
      "<ipython-input-51-bc0e6382ad84>:34: SettingWithCopyWarning: \n",
      "A value is trying to be set on a copy of a slice from a DataFrame.\n",
      "Try using .loc[row_indexer,col_indexer] = value instead\n",
      "\n",
      "See the caveats in the documentation: https://pandas.pydata.org/pandas-docs/stable/user_guide/indexing.html#returning-a-view-versus-a-copy\n",
      "  data[metric] = new\n"
     ]
    },
    {
     "name": "stdout",
     "output_type": "stream",
     "text": [
      "1/1 [==============================] - 0s 36ms/step\n"
     ]
    },
    {
     "name": "stderr",
     "output_type": "stream",
     "text": [
      "<ipython-input-51-bc0e6382ad84>:34: SettingWithCopyWarning: \n",
      "A value is trying to be set on a copy of a slice from a DataFrame.\n",
      "Try using .loc[row_indexer,col_indexer] = value instead\n",
      "\n",
      "See the caveats in the documentation: https://pandas.pydata.org/pandas-docs/stable/user_guide/indexing.html#returning-a-view-versus-a-copy\n",
      "  data[metric] = new\n",
      "<ipython-input-51-bc0e6382ad84>:34: SettingWithCopyWarning: \n",
      "A value is trying to be set on a copy of a slice from a DataFrame.\n",
      "Try using .loc[row_indexer,col_indexer] = value instead\n",
      "\n",
      "See the caveats in the documentation: https://pandas.pydata.org/pandas-docs/stable/user_guide/indexing.html#returning-a-view-versus-a-copy\n",
      "  data[metric] = new\n",
      "<ipython-input-51-bc0e6382ad84>:34: SettingWithCopyWarning: \n",
      "A value is trying to be set on a copy of a slice from a DataFrame.\n",
      "Try using .loc[row_indexer,col_indexer] = value instead\n",
      "\n",
      "See the caveats in the documentation: https://pandas.pydata.org/pandas-docs/stable/user_guide/indexing.html#returning-a-view-versus-a-copy\n",
      "  data[metric] = new\n"
     ]
    },
    {
     "name": "stdout",
     "output_type": "stream",
     "text": [
      "1/1 [==============================] - 0s 27ms/step\n"
     ]
    },
    {
     "name": "stderr",
     "output_type": "stream",
     "text": [
      "<ipython-input-51-bc0e6382ad84>:34: SettingWithCopyWarning: \n",
      "A value is trying to be set on a copy of a slice from a DataFrame.\n",
      "Try using .loc[row_indexer,col_indexer] = value instead\n",
      "\n",
      "See the caveats in the documentation: https://pandas.pydata.org/pandas-docs/stable/user_guide/indexing.html#returning-a-view-versus-a-copy\n",
      "  data[metric] = new\n",
      "<ipython-input-51-bc0e6382ad84>:34: SettingWithCopyWarning: \n",
      "A value is trying to be set on a copy of a slice from a DataFrame.\n",
      "Try using .loc[row_indexer,col_indexer] = value instead\n",
      "\n",
      "See the caveats in the documentation: https://pandas.pydata.org/pandas-docs/stable/user_guide/indexing.html#returning-a-view-versus-a-copy\n",
      "  data[metric] = new\n",
      "<ipython-input-51-bc0e6382ad84>:34: SettingWithCopyWarning: \n",
      "A value is trying to be set on a copy of a slice from a DataFrame.\n",
      "Try using .loc[row_indexer,col_indexer] = value instead\n",
      "\n",
      "See the caveats in the documentation: https://pandas.pydata.org/pandas-docs/stable/user_guide/indexing.html#returning-a-view-versus-a-copy\n",
      "  data[metric] = new\n"
     ]
    },
    {
     "name": "stdout",
     "output_type": "stream",
     "text": [
      "1/1 [==============================] - 0s 26ms/step\n"
     ]
    },
    {
     "name": "stderr",
     "output_type": "stream",
     "text": [
      "<ipython-input-51-bc0e6382ad84>:34: SettingWithCopyWarning: \n",
      "A value is trying to be set on a copy of a slice from a DataFrame.\n",
      "Try using .loc[row_indexer,col_indexer] = value instead\n",
      "\n",
      "See the caveats in the documentation: https://pandas.pydata.org/pandas-docs/stable/user_guide/indexing.html#returning-a-view-versus-a-copy\n",
      "  data[metric] = new\n",
      "<ipython-input-51-bc0e6382ad84>:34: SettingWithCopyWarning: \n",
      "A value is trying to be set on a copy of a slice from a DataFrame.\n",
      "Try using .loc[row_indexer,col_indexer] = value instead\n",
      "\n",
      "See the caveats in the documentation: https://pandas.pydata.org/pandas-docs/stable/user_guide/indexing.html#returning-a-view-versus-a-copy\n",
      "  data[metric] = new\n",
      "<ipython-input-51-bc0e6382ad84>:34: SettingWithCopyWarning: \n",
      "A value is trying to be set on a copy of a slice from a DataFrame.\n",
      "Try using .loc[row_indexer,col_indexer] = value instead\n",
      "\n",
      "See the caveats in the documentation: https://pandas.pydata.org/pandas-docs/stable/user_guide/indexing.html#returning-a-view-versus-a-copy\n",
      "  data[metric] = new\n"
     ]
    },
    {
     "name": "stdout",
     "output_type": "stream",
     "text": [
      "1/1 [==============================] - 0s 25ms/step\n"
     ]
    },
    {
     "name": "stderr",
     "output_type": "stream",
     "text": [
      "<ipython-input-51-bc0e6382ad84>:34: SettingWithCopyWarning: \n",
      "A value is trying to be set on a copy of a slice from a DataFrame.\n",
      "Try using .loc[row_indexer,col_indexer] = value instead\n",
      "\n",
      "See the caveats in the documentation: https://pandas.pydata.org/pandas-docs/stable/user_guide/indexing.html#returning-a-view-versus-a-copy\n",
      "  data[metric] = new\n",
      "<ipython-input-51-bc0e6382ad84>:34: SettingWithCopyWarning: \n",
      "A value is trying to be set on a copy of a slice from a DataFrame.\n",
      "Try using .loc[row_indexer,col_indexer] = value instead\n",
      "\n",
      "See the caveats in the documentation: https://pandas.pydata.org/pandas-docs/stable/user_guide/indexing.html#returning-a-view-versus-a-copy\n",
      "  data[metric] = new\n",
      "<ipython-input-51-bc0e6382ad84>:34: SettingWithCopyWarning: \n",
      "A value is trying to be set on a copy of a slice from a DataFrame.\n",
      "Try using .loc[row_indexer,col_indexer] = value instead\n",
      "\n",
      "See the caveats in the documentation: https://pandas.pydata.org/pandas-docs/stable/user_guide/indexing.html#returning-a-view-versus-a-copy\n",
      "  data[metric] = new\n"
     ]
    },
    {
     "name": "stdout",
     "output_type": "stream",
     "text": [
      "1/1 [==============================] - 0s 29ms/step\n"
     ]
    },
    {
     "name": "stderr",
     "output_type": "stream",
     "text": [
      "<ipython-input-51-bc0e6382ad84>:34: SettingWithCopyWarning: \n",
      "A value is trying to be set on a copy of a slice from a DataFrame.\n",
      "Try using .loc[row_indexer,col_indexer] = value instead\n",
      "\n",
      "See the caveats in the documentation: https://pandas.pydata.org/pandas-docs/stable/user_guide/indexing.html#returning-a-view-versus-a-copy\n",
      "  data[metric] = new\n",
      "<ipython-input-51-bc0e6382ad84>:34: SettingWithCopyWarning: \n",
      "A value is trying to be set on a copy of a slice from a DataFrame.\n",
      "Try using .loc[row_indexer,col_indexer] = value instead\n",
      "\n",
      "See the caveats in the documentation: https://pandas.pydata.org/pandas-docs/stable/user_guide/indexing.html#returning-a-view-versus-a-copy\n",
      "  data[metric] = new\n",
      "<ipython-input-51-bc0e6382ad84>:34: SettingWithCopyWarning: \n",
      "A value is trying to be set on a copy of a slice from a DataFrame.\n",
      "Try using .loc[row_indexer,col_indexer] = value instead\n",
      "\n",
      "See the caveats in the documentation: https://pandas.pydata.org/pandas-docs/stable/user_guide/indexing.html#returning-a-view-versus-a-copy\n",
      "  data[metric] = new\n"
     ]
    }
   ],
   "source": [
    "lists = [\n",
    "        [0.53, 2.01 , 7.8],\n",
    "        [0.53, 2.01 , 7.9],\n",
    "        [0.53, 2.01 , 8.0],\n",
    "        [0.53, 2.01 , 8.1],\n",
    "        [0.53, 2.01 , 8.2],\n",
    "        [0.53, 2.01 , 8.3],\n",
    "        [0.53, 2.01 , 8.4],\n",
    "        [0.53, 2.01 , 8.5],\n",
    "        [0.53, 2.01 , 8.6],\n",
    "        [0.53, 2.01 , 8.7],\n",
    "        [0.53, 2.01 , 8.8]]\n",
    "index = pd.DataFrame(lists, columns = ['poss', 'sqr' , 'sg'])\n",
    "\n",
    "run = [0,1,2,3,4,5,6,7,8,9,10]\n",
    "\n",
    "result = list()\n",
    "for i in run:\n",
    "    w = project(archers , 'Possession %' , index['poss'][i] , 'Shot Quality Ratio', index['sqr'][i] , 'Settled Goal' , index['sg'][i])\n",
    "    result.append(w)"
   ]
  },
  {
   "cell_type": "code",
   "execution_count": 116,
   "metadata": {},
   "outputs": [
    {
     "data": {
      "text/html": [
       "<div>\n",
       "<style scoped>\n",
       "    .dataframe tbody tr th:only-of-type {\n",
       "        vertical-align: middle;\n",
       "    }\n",
       "\n",
       "    .dataframe tbody tr th {\n",
       "        vertical-align: top;\n",
       "    }\n",
       "\n",
       "    .dataframe thead th {\n",
       "        text-align: right;\n",
       "    }\n",
       "</style>\n",
       "<table border=\"1\" class=\"dataframe\">\n",
       "  <thead>\n",
       "    <tr style=\"text-align: right;\">\n",
       "      <th></th>\n",
       "      <th>poss</th>\n",
       "      <th>sqr</th>\n",
       "      <th>sg</th>\n",
       "      <th>Prediction</th>\n",
       "    </tr>\n",
       "  </thead>\n",
       "  <tbody>\n",
       "    <tr>\n",
       "      <th>0</th>\n",
       "      <td>0.53</td>\n",
       "      <td>2.01</td>\n",
       "      <td>7.8</td>\n",
       "      <td>151.190857</td>\n",
       "    </tr>\n",
       "    <tr>\n",
       "      <th>1</th>\n",
       "      <td>0.53</td>\n",
       "      <td>2.01</td>\n",
       "      <td>7.9</td>\n",
       "      <td>147.866028</td>\n",
       "    </tr>\n",
       "    <tr>\n",
       "      <th>2</th>\n",
       "      <td>0.53</td>\n",
       "      <td>2.01</td>\n",
       "      <td>8.0</td>\n",
       "      <td>151.190857</td>\n",
       "    </tr>\n",
       "    <tr>\n",
       "      <th>3</th>\n",
       "      <td>0.53</td>\n",
       "      <td>2.01</td>\n",
       "      <td>8.1</td>\n",
       "      <td>154.970108</td>\n",
       "    </tr>\n",
       "    <tr>\n",
       "      <th>4</th>\n",
       "      <td>0.53</td>\n",
       "      <td>2.01</td>\n",
       "      <td>8.2</td>\n",
       "      <td>147.866028</td>\n",
       "    </tr>\n",
       "    <tr>\n",
       "      <th>5</th>\n",
       "      <td>0.53</td>\n",
       "      <td>2.01</td>\n",
       "      <td>8.3</td>\n",
       "      <td>154.970108</td>\n",
       "    </tr>\n",
       "    <tr>\n",
       "      <th>6</th>\n",
       "      <td>0.53</td>\n",
       "      <td>2.01</td>\n",
       "      <td>8.4</td>\n",
       "      <td>147.866028</td>\n",
       "    </tr>\n",
       "    <tr>\n",
       "      <th>7</th>\n",
       "      <td>0.53</td>\n",
       "      <td>2.01</td>\n",
       "      <td>8.5</td>\n",
       "      <td>151.190857</td>\n",
       "    </tr>\n",
       "    <tr>\n",
       "      <th>8</th>\n",
       "      <td>0.53</td>\n",
       "      <td>2.01</td>\n",
       "      <td>8.6</td>\n",
       "      <td>154.970108</td>\n",
       "    </tr>\n",
       "    <tr>\n",
       "      <th>9</th>\n",
       "      <td>0.53</td>\n",
       "      <td>2.01</td>\n",
       "      <td>8.7</td>\n",
       "      <td>147.866028</td>\n",
       "    </tr>\n",
       "    <tr>\n",
       "      <th>10</th>\n",
       "      <td>0.53</td>\n",
       "      <td>2.01</td>\n",
       "      <td>8.8</td>\n",
       "      <td>154.970108</td>\n",
       "    </tr>\n",
       "  </tbody>\n",
       "</table>\n",
       "</div>"
      ],
      "text/plain": [
       "    poss   sqr   sg  Prediction\n",
       "0   0.53  2.01  7.8  151.190857\n",
       "1   0.53  2.01  7.9  147.866028\n",
       "2   0.53  2.01  8.0  151.190857\n",
       "3   0.53  2.01  8.1  154.970108\n",
       "4   0.53  2.01  8.2  147.866028\n",
       "5   0.53  2.01  8.3  154.970108\n",
       "6   0.53  2.01  8.4  147.866028\n",
       "7   0.53  2.01  8.5  151.190857\n",
       "8   0.53  2.01  8.6  154.970108\n",
       "9   0.53  2.01  8.7  147.866028\n",
       "10  0.53  2.01  8.8  154.970108"
      ]
     },
     "execution_count": 116,
     "metadata": {},
     "output_type": "execute_result"
    }
   ],
   "source": [
    "index['Prediction'] = result\n",
    "index"
   ]
  },
  {
   "cell_type": "code",
   "execution_count": 117,
   "metadata": {},
   "outputs": [],
   "source": [
    "def deepplot(index , x , title):\n",
    "    \n",
    "    fig, ax = plt.subplots()\n",
    "\n",
    "\n",
    "    x = index[x]\n",
    "    y = index['Prediction']\n",
    "\n",
    "    ax.plot(x,y, c = 'black')\n",
    "\n",
    "\n",
    "    ax.set_title(title)\n",
    "    ax.set_xlabel('Settled Goals')\n",
    "    ax.set_ylabel('Prediction')\n",
    "    \n",
    "    \n",
    "    plt.ylim([140, 160])\n",
    "    plt.xlim([x.min(),x.max()])\n",
    "\n",
    "    plt.show()"
   ]
  },
  {
   "cell_type": "code",
   "execution_count": 118,
   "metadata": {},
   "outputs": [
    {
     "data": {
      "image/png": "[encoded data removed]",
      "text/plain": [
       "<Figure size 432x288 with 1 Axes>"
      ]
     },
     "metadata": {
      "needs_background": "light"
     },
     "output_type": "display_data"
    }
   ],
   "source": [
    "deepplot(index , 'sg' , 'Settled Goals vs. Predicted Goal Totals')"
   ]
  },
  {
   "cell_type": "markdown",
   "metadata": {},
   "source": [
    "#### Settled Goals Summary\n",
    "\n",
    "- This is a goal metric, so we want to be conservative while manipulating it.\n",
    "- Noticeable improvement stops once settled goals is at 8.3 per game. That is a realistic improvement over the 7.8 that the archers were getting with 48% posession per game\n",
    "- We will use 8.3 going forward"
   ]
  },
  {
   "cell_type": "markdown",
   "metadata": {},
   "source": [
    "#### Manipulating Shot Quality Ratio"
   ]
  },
  {
   "cell_type": "code",
   "execution_count": 123,
   "metadata": {
    "collapsed": true
   },
   "outputs": [
    {
     "name": "stdout",
     "output_type": "stream",
     "text": [
      "1/1 [==============================] - 0s 40ms/step\n"
     ]
    },
    {
     "name": "stderr",
     "output_type": "stream",
     "text": [
      "<ipython-input-51-bc0e6382ad84>:34: SettingWithCopyWarning: \n",
      "A value is trying to be set on a copy of a slice from a DataFrame.\n",
      "Try using .loc[row_indexer,col_indexer] = value instead\n",
      "\n",
      "See the caveats in the documentation: https://pandas.pydata.org/pandas-docs/stable/user_guide/indexing.html#returning-a-view-versus-a-copy\n",
      "  data[metric] = new\n",
      "<ipython-input-51-bc0e6382ad84>:34: SettingWithCopyWarning: \n",
      "A value is trying to be set on a copy of a slice from a DataFrame.\n",
      "Try using .loc[row_indexer,col_indexer] = value instead\n",
      "\n",
      "See the caveats in the documentation: https://pandas.pydata.org/pandas-docs/stable/user_guide/indexing.html#returning-a-view-versus-a-copy\n",
      "  data[metric] = new\n",
      "<ipython-input-51-bc0e6382ad84>:34: SettingWithCopyWarning: \n",
      "A value is trying to be set on a copy of a slice from a DataFrame.\n",
      "Try using .loc[row_indexer,col_indexer] = value instead\n",
      "\n",
      "See the caveats in the documentation: https://pandas.pydata.org/pandas-docs/stable/user_guide/indexing.html#returning-a-view-versus-a-copy\n",
      "  data[metric] = new\n"
     ]
    },
    {
     "name": "stdout",
     "output_type": "stream",
     "text": [
      "1/1 [==============================] - 0s 25ms/step\n"
     ]
    },
    {
     "name": "stderr",
     "output_type": "stream",
     "text": [
      "<ipython-input-51-bc0e6382ad84>:34: SettingWithCopyWarning: \n",
      "A value is trying to be set on a copy of a slice from a DataFrame.\n",
      "Try using .loc[row_indexer,col_indexer] = value instead\n",
      "\n",
      "See the caveats in the documentation: https://pandas.pydata.org/pandas-docs/stable/user_guide/indexing.html#returning-a-view-versus-a-copy\n",
      "  data[metric] = new\n",
      "<ipython-input-51-bc0e6382ad84>:34: SettingWithCopyWarning: \n",
      "A value is trying to be set on a copy of a slice from a DataFrame.\n",
      "Try using .loc[row_indexer,col_indexer] = value instead\n",
      "\n",
      "See the caveats in the documentation: https://pandas.pydata.org/pandas-docs/stable/user_guide/indexing.html#returning-a-view-versus-a-copy\n",
      "  data[metric] = new\n",
      "<ipython-input-51-bc0e6382ad84>:34: SettingWithCopyWarning: \n",
      "A value is trying to be set on a copy of a slice from a DataFrame.\n",
      "Try using .loc[row_indexer,col_indexer] = value instead\n",
      "\n",
      "See the caveats in the documentation: https://pandas.pydata.org/pandas-docs/stable/user_guide/indexing.html#returning-a-view-versus-a-copy\n",
      "  data[metric] = new\n"
     ]
    },
    {
     "name": "stdout",
     "output_type": "stream",
     "text": [
      "1/1 [==============================] - 0s 25ms/step\n"
     ]
    },
    {
     "name": "stderr",
     "output_type": "stream",
     "text": [
      "<ipython-input-51-bc0e6382ad84>:34: SettingWithCopyWarning: \n",
      "A value is trying to be set on a copy of a slice from a DataFrame.\n",
      "Try using .loc[row_indexer,col_indexer] = value instead\n",
      "\n",
      "See the caveats in the documentation: https://pandas.pydata.org/pandas-docs/stable/user_guide/indexing.html#returning-a-view-versus-a-copy\n",
      "  data[metric] = new\n",
      "<ipython-input-51-bc0e6382ad84>:34: SettingWithCopyWarning: \n",
      "A value is trying to be set on a copy of a slice from a DataFrame.\n",
      "Try using .loc[row_indexer,col_indexer] = value instead\n",
      "\n",
      "See the caveats in the documentation: https://pandas.pydata.org/pandas-docs/stable/user_guide/indexing.html#returning-a-view-versus-a-copy\n",
      "  data[metric] = new\n",
      "<ipython-input-51-bc0e6382ad84>:34: SettingWithCopyWarning: \n",
      "A value is trying to be set on a copy of a slice from a DataFrame.\n",
      "Try using .loc[row_indexer,col_indexer] = value instead\n",
      "\n",
      "See the caveats in the documentation: https://pandas.pydata.org/pandas-docs/stable/user_guide/indexing.html#returning-a-view-versus-a-copy\n",
      "  data[metric] = new\n"
     ]
    },
    {
     "name": "stdout",
     "output_type": "stream",
     "text": [
      "1/1 [==============================] - 0s 41ms/step\n"
     ]
    },
    {
     "name": "stderr",
     "output_type": "stream",
     "text": [
      "<ipython-input-51-bc0e6382ad84>:34: SettingWithCopyWarning: \n",
      "A value is trying to be set on a copy of a slice from a DataFrame.\n",
      "Try using .loc[row_indexer,col_indexer] = value instead\n",
      "\n",
      "See the caveats in the documentation: https://pandas.pydata.org/pandas-docs/stable/user_guide/indexing.html#returning-a-view-versus-a-copy\n",
      "  data[metric] = new\n",
      "<ipython-input-51-bc0e6382ad84>:34: SettingWithCopyWarning: \n",
      "A value is trying to be set on a copy of a slice from a DataFrame.\n",
      "Try using .loc[row_indexer,col_indexer] = value instead\n",
      "\n",
      "See the caveats in the documentation: https://pandas.pydata.org/pandas-docs/stable/user_guide/indexing.html#returning-a-view-versus-a-copy\n",
      "  data[metric] = new\n",
      "<ipython-input-51-bc0e6382ad84>:34: SettingWithCopyWarning: \n",
      "A value is trying to be set on a copy of a slice from a DataFrame.\n",
      "Try using .loc[row_indexer,col_indexer] = value instead\n",
      "\n",
      "See the caveats in the documentation: https://pandas.pydata.org/pandas-docs/stable/user_guide/indexing.html#returning-a-view-versus-a-copy\n",
      "  data[metric] = new\n",
      "<ipython-input-51-bc0e6382ad84>:34: SettingWithCopyWarning: \n",
      "A value is trying to be set on a copy of a slice from a DataFrame.\n",
      "Try using .loc[row_indexer,col_indexer] = value instead\n",
      "\n",
      "See the caveats in the documentation: https://pandas.pydata.org/pandas-docs/stable/user_guide/indexing.html#returning-a-view-versus-a-copy\n",
      "  data[metric] = new\n",
      "<ipython-input-51-bc0e6382ad84>:34: SettingWithCopyWarning: \n",
      "A value is trying to be set on a copy of a slice from a DataFrame.\n",
      "Try using .loc[row_indexer,col_indexer] = value instead\n",
      "\n",
      "See the caveats in the documentation: https://pandas.pydata.org/pandas-docs/stable/user_guide/indexing.html#returning-a-view-versus-a-copy\n",
      "  data[metric] = new\n"
     ]
    },
    {
     "name": "stdout",
     "output_type": "stream",
     "text": [
      "1/1 [==============================] - 0s 43ms/step\n"
     ]
    },
    {
     "name": "stderr",
     "output_type": "stream",
     "text": [
      "<ipython-input-51-bc0e6382ad84>:34: SettingWithCopyWarning: \n",
      "A value is trying to be set on a copy of a slice from a DataFrame.\n",
      "Try using .loc[row_indexer,col_indexer] = value instead\n",
      "\n",
      "See the caveats in the documentation: https://pandas.pydata.org/pandas-docs/stable/user_guide/indexing.html#returning-a-view-versus-a-copy\n",
      "  data[metric] = new\n",
      "<ipython-input-51-bc0e6382ad84>:34: SettingWithCopyWarning: \n",
      "A value is trying to be set on a copy of a slice from a DataFrame.\n",
      "Try using .loc[row_indexer,col_indexer] = value instead\n",
      "\n",
      "See the caveats in the documentation: https://pandas.pydata.org/pandas-docs/stable/user_guide/indexing.html#returning-a-view-versus-a-copy\n",
      "  data[metric] = new\n",
      "<ipython-input-51-bc0e6382ad84>:34: SettingWithCopyWarning: \n",
      "A value is trying to be set on a copy of a slice from a DataFrame.\n",
      "Try using .loc[row_indexer,col_indexer] = value instead\n",
      "\n",
      "See the caveats in the documentation: https://pandas.pydata.org/pandas-docs/stable/user_guide/indexing.html#returning-a-view-versus-a-copy\n",
      "  data[metric] = new\n"
     ]
    },
    {
     "name": "stdout",
     "output_type": "stream",
     "text": [
      "1/1 [==============================] - 0s 25ms/step\n"
     ]
    },
    {
     "name": "stderr",
     "output_type": "stream",
     "text": [
      "<ipython-input-51-bc0e6382ad84>:34: SettingWithCopyWarning: \n",
      "A value is trying to be set on a copy of a slice from a DataFrame.\n",
      "Try using .loc[row_indexer,col_indexer] = value instead\n",
      "\n",
      "See the caveats in the documentation: https://pandas.pydata.org/pandas-docs/stable/user_guide/indexing.html#returning-a-view-versus-a-copy\n",
      "  data[metric] = new\n",
      "<ipython-input-51-bc0e6382ad84>:34: SettingWithCopyWarning: \n",
      "A value is trying to be set on a copy of a slice from a DataFrame.\n",
      "Try using .loc[row_indexer,col_indexer] = value instead\n",
      "\n",
      "See the caveats in the documentation: https://pandas.pydata.org/pandas-docs/stable/user_guide/indexing.html#returning-a-view-versus-a-copy\n",
      "  data[metric] = new\n",
      "<ipython-input-51-bc0e6382ad84>:34: SettingWithCopyWarning: \n",
      "A value is trying to be set on a copy of a slice from a DataFrame.\n",
      "Try using .loc[row_indexer,col_indexer] = value instead\n",
      "\n",
      "See the caveats in the documentation: https://pandas.pydata.org/pandas-docs/stable/user_guide/indexing.html#returning-a-view-versus-a-copy\n",
      "  data[metric] = new\n"
     ]
    },
    {
     "name": "stdout",
     "output_type": "stream",
     "text": [
      "1/1 [==============================] - 0s 25ms/step\n"
     ]
    },
    {
     "name": "stderr",
     "output_type": "stream",
     "text": [
      "<ipython-input-51-bc0e6382ad84>:34: SettingWithCopyWarning: \n",
      "A value is trying to be set on a copy of a slice from a DataFrame.\n",
      "Try using .loc[row_indexer,col_indexer] = value instead\n",
      "\n",
      "See the caveats in the documentation: https://pandas.pydata.org/pandas-docs/stable/user_guide/indexing.html#returning-a-view-versus-a-copy\n",
      "  data[metric] = new\n",
      "<ipython-input-51-bc0e6382ad84>:34: SettingWithCopyWarning: \n",
      "A value is trying to be set on a copy of a slice from a DataFrame.\n",
      "Try using .loc[row_indexer,col_indexer] = value instead\n",
      "\n",
      "See the caveats in the documentation: https://pandas.pydata.org/pandas-docs/stable/user_guide/indexing.html#returning-a-view-versus-a-copy\n",
      "  data[metric] = new\n",
      "<ipython-input-51-bc0e6382ad84>:34: SettingWithCopyWarning: \n",
      "A value is trying to be set on a copy of a slice from a DataFrame.\n",
      "Try using .loc[row_indexer,col_indexer] = value instead\n",
      "\n",
      "See the caveats in the documentation: https://pandas.pydata.org/pandas-docs/stable/user_guide/indexing.html#returning-a-view-versus-a-copy\n",
      "  data[metric] = new\n"
     ]
    },
    {
     "name": "stdout",
     "output_type": "stream",
     "text": [
      "1/1 [==============================] - 0s 25ms/step\n"
     ]
    },
    {
     "name": "stderr",
     "output_type": "stream",
     "text": [
      "<ipython-input-51-bc0e6382ad84>:34: SettingWithCopyWarning: \n",
      "A value is trying to be set on a copy of a slice from a DataFrame.\n",
      "Try using .loc[row_indexer,col_indexer] = value instead\n",
      "\n",
      "See the caveats in the documentation: https://pandas.pydata.org/pandas-docs/stable/user_guide/indexing.html#returning-a-view-versus-a-copy\n",
      "  data[metric] = new\n",
      "<ipython-input-51-bc0e6382ad84>:34: SettingWithCopyWarning: \n",
      "A value is trying to be set on a copy of a slice from a DataFrame.\n",
      "Try using .loc[row_indexer,col_indexer] = value instead\n",
      "\n",
      "See the caveats in the documentation: https://pandas.pydata.org/pandas-docs/stable/user_guide/indexing.html#returning-a-view-versus-a-copy\n",
      "  data[metric] = new\n",
      "<ipython-input-51-bc0e6382ad84>:34: SettingWithCopyWarning: \n",
      "A value is trying to be set on a copy of a slice from a DataFrame.\n",
      "Try using .loc[row_indexer,col_indexer] = value instead\n",
      "\n",
      "See the caveats in the documentation: https://pandas.pydata.org/pandas-docs/stable/user_guide/indexing.html#returning-a-view-versus-a-copy\n",
      "  data[metric] = new\n"
     ]
    },
    {
     "name": "stdout",
     "output_type": "stream",
     "text": [
      "1/1 [==============================] - 0s 26ms/step\n"
     ]
    },
    {
     "name": "stderr",
     "output_type": "stream",
     "text": [
      "<ipython-input-51-bc0e6382ad84>:34: SettingWithCopyWarning: \n",
      "A value is trying to be set on a copy of a slice from a DataFrame.\n",
      "Try using .loc[row_indexer,col_indexer] = value instead\n",
      "\n",
      "See the caveats in the documentation: https://pandas.pydata.org/pandas-docs/stable/user_guide/indexing.html#returning-a-view-versus-a-copy\n",
      "  data[metric] = new\n",
      "<ipython-input-51-bc0e6382ad84>:34: SettingWithCopyWarning: \n",
      "A value is trying to be set on a copy of a slice from a DataFrame.\n",
      "Try using .loc[row_indexer,col_indexer] = value instead\n",
      "\n",
      "See the caveats in the documentation: https://pandas.pydata.org/pandas-docs/stable/user_guide/indexing.html#returning-a-view-versus-a-copy\n",
      "  data[metric] = new\n",
      "<ipython-input-51-bc0e6382ad84>:34: SettingWithCopyWarning: \n",
      "A value is trying to be set on a copy of a slice from a DataFrame.\n",
      "Try using .loc[row_indexer,col_indexer] = value instead\n",
      "\n",
      "See the caveats in the documentation: https://pandas.pydata.org/pandas-docs/stable/user_guide/indexing.html#returning-a-view-versus-a-copy\n",
      "  data[metric] = new\n"
     ]
    },
    {
     "name": "stdout",
     "output_type": "stream",
     "text": [
      "1/1 [==============================] - 0s 26ms/step\n"
     ]
    },
    {
     "name": "stderr",
     "output_type": "stream",
     "text": [
      "<ipython-input-51-bc0e6382ad84>:34: SettingWithCopyWarning: \n",
      "A value is trying to be set on a copy of a slice from a DataFrame.\n",
      "Try using .loc[row_indexer,col_indexer] = value instead\n",
      "\n",
      "See the caveats in the documentation: https://pandas.pydata.org/pandas-docs/stable/user_guide/indexing.html#returning-a-view-versus-a-copy\n",
      "  data[metric] = new\n",
      "<ipython-input-51-bc0e6382ad84>:34: SettingWithCopyWarning: \n",
      "A value is trying to be set on a copy of a slice from a DataFrame.\n",
      "Try using .loc[row_indexer,col_indexer] = value instead\n",
      "\n",
      "See the caveats in the documentation: https://pandas.pydata.org/pandas-docs/stable/user_guide/indexing.html#returning-a-view-versus-a-copy\n",
      "  data[metric] = new\n",
      "<ipython-input-51-bc0e6382ad84>:34: SettingWithCopyWarning: \n",
      "A value is trying to be set on a copy of a slice from a DataFrame.\n",
      "Try using .loc[row_indexer,col_indexer] = value instead\n",
      "\n",
      "See the caveats in the documentation: https://pandas.pydata.org/pandas-docs/stable/user_guide/indexing.html#returning-a-view-versus-a-copy\n",
      "  data[metric] = new\n"
     ]
    },
    {
     "name": "stdout",
     "output_type": "stream",
     "text": [
      "1/1 [==============================] - 0s 28ms/step\n"
     ]
    },
    {
     "name": "stderr",
     "output_type": "stream",
     "text": [
      "<ipython-input-51-bc0e6382ad84>:34: SettingWithCopyWarning: \n",
      "A value is trying to be set on a copy of a slice from a DataFrame.\n",
      "Try using .loc[row_indexer,col_indexer] = value instead\n",
      "\n",
      "See the caveats in the documentation: https://pandas.pydata.org/pandas-docs/stable/user_guide/indexing.html#returning-a-view-versus-a-copy\n",
      "  data[metric] = new\n"
     ]
    }
   ],
   "source": [
    "lists = [\n",
    "        [0.53, 1.50 , 8.3],\n",
    "        [0.53, 1.60 , 8.3],\n",
    "        [0.53, 1.70 , 8.3],\n",
    "        [0.53, 1.80 , 8.3],\n",
    "        [0.53, 1.90 , 8.3],\n",
    "        [0.53, 2.00 , 8.3],\n",
    "        [0.53, 2.10 , 8.3],\n",
    "        [0.53, 2.20 , 8.3],\n",
    "        [0.53, 2.25 , 8.3],\n",
    "        [0.53, 2.30 , 8.3],\n",
    "        [0.53, 2.40 , 8.3]]\n",
    "index = pd.DataFrame(lists, columns = ['poss', 'sqr' , 'sg'])\n",
    "\n",
    "run = [0,1,2,3,4,5,6,7,8,9,10]\n",
    "\n",
    "result = list()\n",
    "for i in run:\n",
    "    w = project(archers , 'Possession %' , index['poss'][i] , 'Shot Quality Ratio', index['sqr'][i] , 'Settled Goal' , index['sg'][i])\n",
    "    result.append(w)"
   ]
  },
  {
   "cell_type": "code",
   "execution_count": 124,
   "metadata": {},
   "outputs": [
    {
     "data": {
      "text/html": [
       "<div>\n",
       "<style scoped>\n",
       "    .dataframe tbody tr th:only-of-type {\n",
       "        vertical-align: middle;\n",
       "    }\n",
       "\n",
       "    .dataframe tbody tr th {\n",
       "        vertical-align: top;\n",
       "    }\n",
       "\n",
       "    .dataframe thead th {\n",
       "        text-align: right;\n",
       "    }\n",
       "</style>\n",
       "<table border=\"1\" class=\"dataframe\">\n",
       "  <thead>\n",
       "    <tr style=\"text-align: right;\">\n",
       "      <th></th>\n",
       "      <th>poss</th>\n",
       "      <th>sqr</th>\n",
       "      <th>sg</th>\n",
       "      <th>Prediction</th>\n",
       "    </tr>\n",
       "  </thead>\n",
       "  <tbody>\n",
       "    <tr>\n",
       "      <th>0</th>\n",
       "      <td>0.53</td>\n",
       "      <td>1.50</td>\n",
       "      <td>8.3</td>\n",
       "      <td>155.249619</td>\n",
       "    </tr>\n",
       "    <tr>\n",
       "      <th>1</th>\n",
       "      <td>0.53</td>\n",
       "      <td>1.60</td>\n",
       "      <td>8.3</td>\n",
       "      <td>154.689575</td>\n",
       "    </tr>\n",
       "    <tr>\n",
       "      <th>2</th>\n",
       "      <td>0.53</td>\n",
       "      <td>1.70</td>\n",
       "      <td>8.3</td>\n",
       "      <td>155.249619</td>\n",
       "    </tr>\n",
       "    <tr>\n",
       "      <th>3</th>\n",
       "      <td>0.53</td>\n",
       "      <td>1.80</td>\n",
       "      <td>8.3</td>\n",
       "      <td>155.249619</td>\n",
       "    </tr>\n",
       "    <tr>\n",
       "      <th>4</th>\n",
       "      <td>0.53</td>\n",
       "      <td>1.90</td>\n",
       "      <td>8.3</td>\n",
       "      <td>154.970108</td>\n",
       "    </tr>\n",
       "    <tr>\n",
       "      <th>5</th>\n",
       "      <td>0.53</td>\n",
       "      <td>2.00</td>\n",
       "      <td>8.3</td>\n",
       "      <td>155.249619</td>\n",
       "    </tr>\n",
       "    <tr>\n",
       "      <th>6</th>\n",
       "      <td>0.53</td>\n",
       "      <td>2.10</td>\n",
       "      <td>8.3</td>\n",
       "      <td>154.689575</td>\n",
       "    </tr>\n",
       "    <tr>\n",
       "      <th>7</th>\n",
       "      <td>0.53</td>\n",
       "      <td>2.20</td>\n",
       "      <td>8.3</td>\n",
       "      <td>154.970108</td>\n",
       "    </tr>\n",
       "    <tr>\n",
       "      <th>8</th>\n",
       "      <td>0.53</td>\n",
       "      <td>2.25</td>\n",
       "      <td>8.3</td>\n",
       "      <td>155.249619</td>\n",
       "    </tr>\n",
       "    <tr>\n",
       "      <th>9</th>\n",
       "      <td>0.53</td>\n",
       "      <td>2.30</td>\n",
       "      <td>8.3</td>\n",
       "      <td>154.689575</td>\n",
       "    </tr>\n",
       "    <tr>\n",
       "      <th>10</th>\n",
       "      <td>0.53</td>\n",
       "      <td>2.40</td>\n",
       "      <td>8.3</td>\n",
       "      <td>154.970108</td>\n",
       "    </tr>\n",
       "  </tbody>\n",
       "</table>\n",
       "</div>"
      ],
      "text/plain": [
       "    poss   sqr   sg  Prediction\n",
       "0   0.53  1.50  8.3  155.249619\n",
       "1   0.53  1.60  8.3  154.689575\n",
       "2   0.53  1.70  8.3  155.249619\n",
       "3   0.53  1.80  8.3  155.249619\n",
       "4   0.53  1.90  8.3  154.970108\n",
       "5   0.53  2.00  8.3  155.249619\n",
       "6   0.53  2.10  8.3  154.689575\n",
       "7   0.53  2.20  8.3  154.970108\n",
       "8   0.53  2.25  8.3  155.249619\n",
       "9   0.53  2.30  8.3  154.689575\n",
       "10  0.53  2.40  8.3  154.970108"
      ]
     },
     "execution_count": 124,
     "metadata": {},
     "output_type": "execute_result"
    }
   ],
   "source": [
    "index['Prediction'] = result\n",
    "index"
   ]
  },
  {
   "cell_type": "code",
   "execution_count": 125,
   "metadata": {},
   "outputs": [],
   "source": [
    "def deepplot(index , x , title):\n",
    "    \n",
    "    fig, ax = plt.subplots()\n",
    "\n",
    "\n",
    "    x = index[x]\n",
    "    y = index['Prediction']\n",
    "\n",
    "    ax.plot(x,y, c = 'black')\n",
    "\n",
    "\n",
    "    ax.set_title(title)\n",
    "    ax.set_xlabel('Shot Quality Ratio')\n",
    "    ax.set_ylabel('Prediction')\n",
    "    \n",
    "    \n",
    "    plt.ylim([140, 160])\n",
    "    plt.xlim([x.min(),x.max()])\n",
    "\n",
    "    plt.show()"
   ]
  },
  {
   "cell_type": "code",
   "execution_count": 126,
   "metadata": {},
   "outputs": [
    {
     "data": {
      "image/png": "[encoded data removed]",
      "text/plain": [
       "<Figure size 432x288 with 1 Axes>"
      ]
     },
     "metadata": {
      "needs_background": "light"
     },
     "output_type": "display_data"
    }
   ],
   "source": [
    "deepplot(index , 'sqr' , 'Shot Quality Ratio vs. Predicted Goal Totals')"
   ]
  },
  {
   "cell_type": "markdown",
   "metadata": {},
   "source": [
    "#### Summary\n",
    "- With the other maniuplated metrics, there was not a ton of impact made by shot quality ratio here.\n",
    "- Keeping that in mind, that does send the message, that as long as the archers can maintain possession share and continue to score settled goals, they can improve their output drastically\n",
    "- SQR of 2.0 provided one of the highest predictions, with no drastic improvement above or below it. 2.0 was attainable for the Archers with their current stats, so this is a realistic number as well"
   ]
  },
  {
   "cell_type": "markdown",
   "metadata": {},
   "source": [
    "#### Wrapping Up"
   ]
  },
  {
   "cell_type": "code",
   "execution_count": 129,
   "metadata": {
    "collapsed": true
   },
   "outputs": [
    {
     "name": "stdout",
     "output_type": "stream",
     "text": [
      "1/1 [==============================] - 0s 24ms/step\n"
     ]
    },
    {
     "name": "stderr",
     "output_type": "stream",
     "text": [
      "<ipython-input-127-34d8a6aff0ab>:34: SettingWithCopyWarning: \n",
      "A value is trying to be set on a copy of a slice from a DataFrame.\n",
      "Try using .loc[row_indexer,col_indexer] = value instead\n",
      "\n",
      "See the caveats in the documentation: https://pandas.pydata.org/pandas-docs/stable/user_guide/indexing.html#returning-a-view-versus-a-copy\n",
      "  data[metric] = new\n",
      "<ipython-input-127-34d8a6aff0ab>:34: SettingWithCopyWarning: \n",
      "A value is trying to be set on a copy of a slice from a DataFrame.\n",
      "Try using .loc[row_indexer,col_indexer] = value instead\n",
      "\n",
      "See the caveats in the documentation: https://pandas.pydata.org/pandas-docs/stable/user_guide/indexing.html#returning-a-view-versus-a-copy\n",
      "  data[metric] = new\n",
      "<ipython-input-127-34d8a6aff0ab>:34: SettingWithCopyWarning: \n",
      "A value is trying to be set on a copy of a slice from a DataFrame.\n",
      "Try using .loc[row_indexer,col_indexer] = value instead\n",
      "\n",
      "See the caveats in the documentation: https://pandas.pydata.org/pandas-docs/stable/user_guide/indexing.html#returning-a-view-versus-a-copy\n",
      "  data[metric] = new\n"
     ]
    }
   ],
   "source": [
    "archers = team2022[team2022['Team'] == 'Archers']\n",
    "v2archers = projectfinal(archers ,\n",
    "        'Possession %' , .53 ,\n",
    "        'Shot Quality Ratio', 2.0 ,\n",
    "        'Settled Goal' , 8.3)"
   ]
  },
  {
   "cell_type": "code",
   "execution_count": 154,
   "metadata": {},
   "outputs": [
    {
     "name": "stdout",
     "output_type": "stream",
     "text": [
      "Projected Goals per Game 12.701079368591309\n",
      "Projected Total Goals 152.41295\n",
      "Goals per Game 11.916666666666666\n",
      "Total Goals 143\n",
      "Goals per Game Delta -0.7844127019246425\n"
     ]
    }
   ],
   "source": [
    "print('Projected Goals per Game', v2archers['predictions'].mean())\n",
    "print('Projected Total Goals' , v2archers['predictions'].sum())\n",
    "print('Goals per Game',archers['Goals'].mean())\n",
    "print('Total Goals',archers['Goals'].sum())\n",
    "print('Goals per Game Delta', archers['Goals'].mean() - v2archers['predictions'].mean() )"
   ]
  },
  {
   "cell_type": "code",
   "execution_count": 156,
   "metadata": {},
   "outputs": [
    {
     "data": {
      "text/html": [
       "<div>\n",
       "<style scoped>\n",
       "    .dataframe tbody tr th:only-of-type {\n",
       "        vertical-align: middle;\n",
       "    }\n",
       "\n",
       "    .dataframe tbody tr th {\n",
       "        vertical-align: top;\n",
       "    }\n",
       "\n",
       "    .dataframe thead th {\n",
       "        text-align: right;\n",
       "    }\n",
       "</style>\n",
       "<table border=\"1\" class=\"dataframe\">\n",
       "  <thead>\n",
       "    <tr style=\"text-align: right;\">\n",
       "      <th></th>\n",
       "      <th>Margin</th>\n",
       "    </tr>\n",
       "    <tr>\n",
       "      <th>Team</th>\n",
       "      <th></th>\n",
       "    </tr>\n",
       "  </thead>\n",
       "  <tbody>\n",
       "    <tr>\n",
       "      <th>Archers</th>\n",
       "      <td>1.916667</td>\n",
       "    </tr>\n",
       "    <tr>\n",
       "      <th>Atlas</th>\n",
       "      <td>0.900000</td>\n",
       "    </tr>\n",
       "    <tr>\n",
       "      <th>Cannons</th>\n",
       "      <td>-2.700000</td>\n",
       "    </tr>\n",
       "    <tr>\n",
       "      <th>Chaos</th>\n",
       "      <td>-1.307692</td>\n",
       "    </tr>\n",
       "    <tr>\n",
       "      <th>Chrome</th>\n",
       "      <td>0.909091</td>\n",
       "    </tr>\n",
       "    <tr>\n",
       "      <th>Redwoods</th>\n",
       "      <td>-1.272727</td>\n",
       "    </tr>\n",
       "    <tr>\n",
       "      <th>Waterdogs</th>\n",
       "      <td>-0.250000</td>\n",
       "    </tr>\n",
       "    <tr>\n",
       "      <th>Whipsnakes</th>\n",
       "      <td>1.727273</td>\n",
       "    </tr>\n",
       "  </tbody>\n",
       "</table>\n",
       "</div>"
      ],
      "text/plain": [
       "              Margin\n",
       "Team                \n",
       "Archers     1.916667\n",
       "Atlas       0.900000\n",
       "Cannons    -2.700000\n",
       "Chaos      -1.307692\n",
       "Chrome      0.909091\n",
       "Redwoods   -1.272727\n",
       "Waterdogs  -0.250000\n",
       "Whipsnakes  1.727273"
      ]
     },
     "execution_count": 156,
     "metadata": {},
     "output_type": "execute_result"
    }
   ],
   "source": [
    "team2022.groupby(['Team']).mean()[['Margin']]"
   ]
  },
  {
   "cell_type": "markdown",
   "metadata": {},
   "source": [
    "#### Final Summary\n",
    "\n",
    "Through attainable projected improvements to a few metrics, we were able to project the Archers scoring +0.78 goals per game. When looking at the average margins for each team it is easy to see how close these games are and those extra goals through the year can definitley add up. The continuation of this analysis would dive into the defensive benefits of these changes to see the full holistic impact we could see on the archers game. \n",
    "\n",
    "\n",
    "Final thoughts. With the archers keeping their shot quality ratio in the same bucket, scoring 0.50 more settled goals per game, and finding a way to achieve around 53% possession (for the year) , they can increase their yearly goal total by over 9 total goals. This league is dominated by tight margins and one goal games, finding an extra 9 goals through realistic level changes could prove beneficial to the team in the future and provide some insight into ways they can improve their already formidable offense next year. \n",
    "\n",
    "Points of focus for the Archers in 2023:\n",
    "- Possession: whether it be faceoffs or slowing down pace of play, improving time on the ball will lead to more goals. They are on the lower end of the league in this currently. \n",
    "\n",
    "- Settled goals: Translate that increased possession into more settled goals, already a strong suite of the archers, combined with extra possessions can lead to a dangerous team. 2022 Champion Waterdogs dominated in this category."
   ]
  },
  {
   "cell_type": "code",
   "execution_count": 163,
   "metadata": {},
   "outputs": [
    {
     "data": {
      "image/png": "[encoded data removed]",
      "text/plain": [
       "<Figure size 432x288 with 1 Axes>"
      ]
     },
     "metadata": {
      "needs_background": "light"
     },
     "output_type": "display_data"
    }
   ],
   "source": [
    "plotter(v2archers['predictions'] , archers['Goals'])"
   ]
  },
  {
   "cell_type": "code",
   "execution_count": null,
   "metadata": {},
   "outputs": [],
   "source": []
  }
 ],
 "metadata": {
  "kernelspec": {
   "display_name": "Python 3",
   "language": "python",
   "name": "python3"
  },
  "language_info": {
   "codemirror_mode": {
    "name": "ipython",
    "version": 3
   },
   "file_extension": ".py",
   "mimetype": "text/x-python",
   "name": "python",
   "nbconvert_exporter": "python",
   "pygments_lexer": "ipython3",
   "version": "3.8.5"
  }
 },
 "nbformat": 4,
 "nbformat_minor": 4
}
