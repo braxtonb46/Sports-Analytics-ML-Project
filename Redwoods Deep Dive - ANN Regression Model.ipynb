{
 "cells": [
  {
   "cell_type": "markdown",
   "metadata": {},
   "source": [
    "#### Imports, file loading, and function definitions"
   ]
  },
  {
   "cell_type": "code",
   "execution_count": 1,
   "metadata": {},
   "outputs": [],
   "source": [
    "import pandas as pd\n",
    "import numpy as np\n",
    "import matplotlib.pyplot as plt\n",
    "import seaborn as sns\n",
    "import sklearn\n",
    "import tensorflow as tf\n",
    "from tensorflow import keras\n",
    "from sklearn.model_selection import GridSearchCV\n",
    "from sklearn.metrics import mean_squared_error"
   ]
  },
  {
   "cell_type": "code",
   "execution_count": 2,
   "metadata": {},
   "outputs": [],
   "source": [
    "pd.options.display.max_columns = 100 \n",
    "pd.options.display.max_rows = 300 "
   ]
  },
  {
   "cell_type": "code",
   "execution_count": 3,
   "metadata": {},
   "outputs": [],
   "source": [
    "fileName = 'PLL Stats Master - Player Game Logs.csv'\n",
    "playerdata = pd.read_csv(fileName)\n",
    "playerdata = playerdata[0:3770]\n",
    "\n",
    "fileName2 = 'PLL Stats Master - Team Game Logs.csv'\n",
    "teamdata = pd.read_csv(fileName2)\n",
    "teamdata = teamdata[teamdata['Season'] != 2022]"
   ]
  },
  {
   "cell_type": "code",
   "execution_count": 81,
   "metadata": {},
   "outputs": [],
   "source": [
    "def plotter(pred , true):\n",
    "\n",
    "    plt.plot(true , c = 'green', label = 'True')\n",
    "    plt.plot(pred, c = 'yellow', label = 'Predicted', linestyle = \"--\")\n",
    "    plt.ylim([0,30])\n",
    "    plt.xlabel('Games')\n",
    "    plt.ylabel('Goals')\n",
    "    plt.legend()\n",
    "    plt.xticks(ticks = [],labels = [])\n",
    "    plt.savefig(\"redwoodsplot.jpg\")\n",
    "    plt.show()"
   ]
  },
  {
   "cell_type": "code",
   "execution_count": 5,
   "metadata": {},
   "outputs": [],
   "source": [
    "def generate (count, mini , maxi, average):\n",
    "    arr = []\n",
    "    diff = 1\n",
    "    while len(arr) < count-1:\n",
    "        if mini <= average - diff and average + diff <= maxi:\n",
    "            arr.append(average - diff)\n",
    "            arr.append(average + diff)\n",
    "            diff += 1\n",
    "        else:\n",
    "            arr.append(average)\n",
    "            diff = 1\n",
    "    if len(arr) < count:\n",
    "        arr.append(average)\n",
    "    return arr\n",
    "\n",
    "\n",
    "def replace(data , metric , avg):\n",
    "    data = data\n",
    "    length = len(data)\n",
    "    league = data.describe()\n",
    "    \n",
    "    mi1 = league[[metric]][3:4]\n",
    "    mi = mi1[metric][0] \n",
    "    \n",
    "    ma1 = league[[metric]][7:8] \n",
    "    ma = ma1[metric][0]\n",
    "    \n",
    "    avg = avg\n",
    "    \n",
    "    data.drop(columns = [metric])\n",
    "    \n",
    "    new = generate(length , mi , ma , avg )\n",
    "    \n",
    "    data[metric] = new\n",
    "    \n",
    "    return data\n",
    "    \n",
    "\n",
    "def project(initial, metric1 , avg1 , metric2, avg2, metric3 , avg3):\n",
    "    \n",
    "    t1 = replace(initial , metric1 , avg1)\n",
    "    t2 = replace(t1 , metric2 , avg2)\n",
    "    t3 = replace(t2, metric3 , avg3)\n",
    "    \n",
    "    t3 = t3.drop(columns = ['Season' , 'Week' , 'Game' , 'Team' , 'Opponent'])\n",
    "    t3 = t3[['Shots','Shot%','Efficiency','Possession %',\n",
    "          'Settled Goal','FB Goals','Assisted Goals','Shot Quality Ratio', \n",
    "          'D Efficiency','Turnovers', 'Score Against',\n",
    "          'Expected Goals','Avg Shot Dist','Margin'\n",
    "          ,'Settled Goals agaisnt' , 'Save %']]\n",
    "    \n",
    "    t4 = imp.fit_transform(t3)\n",
    "    t4 = stdscaler.fit_transform(t4)\n",
    "    \n",
    "    \n",
    "    preds = model.predict(t4)\n",
    "    \n",
    "    t3['predictions'] = preds\n",
    "    \n",
    "    \n",
    "    return t3['predictions'].sum()\n",
    "\n",
    "def projectfinal(initial, metric1 , avg1 , metric2, avg2, metric3 , avg3):\n",
    "    \n",
    "    t1 = replace(initial , metric1 , avg1)\n",
    "    t2 = replace(t1 , metric2 , avg2)\n",
    "    t3 = replace(t2, metric3 , avg3)\n",
    "    \n",
    "    t3 = t3.drop(columns = ['Season' , 'Week' , 'Game' , 'Team' , 'Opponent'])\n",
    "    t3 = t3[['Shots','Shot%','Efficiency','Possession %',\n",
    "          'Settled Goal','FB Goals','Assisted Goals','Shot Quality Ratio', \n",
    "          'D Efficiency','Turnovers', 'Score Against',\n",
    "          'Expected Goals','Avg Shot Dist','Margin'\n",
    "          ,'Settled Goals agaisnt' , 'Save %']]\n",
    "    \n",
    "    t4 = imp.fit_transform(t3)\n",
    "    t4 = stdscaler.fit_transform(t4)\n",
    "    \n",
    "    \n",
    "    preds = model.predict(t4)\n",
    "    \n",
    "    t3['predictions'] = preds\n",
    "    \n",
    "    \n",
    "    return t3"
   ]
  },
  {
   "cell_type": "markdown",
   "metadata": {},
   "source": [
    "### Prep for Training"
   ]
  },
  {
   "cell_type": "code",
   "execution_count": 6,
   "metadata": {},
   "outputs": [],
   "source": [
    "#from sklearn.impute import SimpleImputer\n",
    "teamdata['Avg Shot Dist'] = teamdata['Average Shot Distance'].replace('#DIV/0!' , 10.265)"
   ]
  },
  {
   "cell_type": "code",
   "execution_count": 7,
   "metadata": {},
   "outputs": [],
   "source": [
    "teamdata['Avg Shot Dist'] = teamdata['Avg Shot Dist'].astype(float)"
   ]
  },
  {
   "cell_type": "code",
   "execution_count": 8,
   "metadata": {
    "collapsed": true
   },
   "outputs": [
    {
     "name": "stderr",
     "output_type": "stream",
     "text": [
      "<ipython-input-8-cfd1bdf67829>:8: SettingWithCopyWarning: \n",
      "A value is trying to be set on a copy of a slice from a DataFrame.\n",
      "Try using .loc[row_indexer,col_indexer] = value instead\n",
      "\n",
      "See the caveats in the documentation: https://pandas.pydata.org/pandas-docs/stable/user_guide/indexing.html#returning-a-view-versus-a-copy\n",
      "  team['Shot%'] = team['Goals'] / team['Shots']\n",
      "<ipython-input-8-cfd1bdf67829>:9: SettingWithCopyWarning: \n",
      "A value is trying to be set on a copy of a slice from a DataFrame.\n",
      "Try using .loc[row_indexer,col_indexer] = value instead\n",
      "\n",
      "See the caveats in the documentation: https://pandas.pydata.org/pandas-docs/stable/user_guide/indexing.html#returning-a-view-versus-a-copy\n",
      "  team['W/L'] = pd.get_dummies(team.loc[:,'Result'])[['W']]\n"
     ]
    }
   ],
   "source": [
    "team = teamdata[['Season','Week','Game','Team','Opponent', \n",
    "                 'Shots','Goals','Efficiency', \n",
    "                 'Possession %',\n",
    "                 'Settled Goal','FB Goals','Assisted Goals','Shot Quality Ratio', \n",
    "                 'D Efficiency','Turnovers', 'Score Against',\n",
    "                 'Expected Goals','Avg Shot Dist','Margin', 'Settled Goals agaisnt',\n",
    "                 'Score','Result', 'Save %']]\n",
    "team['Shot%'] = team['Goals'] / team['Shots']\n",
    "team['W/L'] = pd.get_dummies(team.loc[:,'Result'])[['W']]\n",
    "#team.head()"
   ]
  },
  {
   "cell_type": "code",
   "execution_count": 9,
   "metadata": {},
   "outputs": [],
   "source": [
    "from sklearn.impute import SimpleImputer\n",
    "imp = SimpleImputer(missing_values = np.nan, strategy ='mean')"
   ]
  },
  {
   "cell_type": "code",
   "execution_count": 10,
   "metadata": {},
   "outputs": [],
   "source": [
    "from sklearn.preprocessing import StandardScaler\n",
    "stdscaler = StandardScaler()\n",
    "\n",
    "from sklearn.model_selection import train_test_split\n",
    "x = team[['Shots','Shot%','Efficiency','Possession %',\n",
    "                 'Settled Goal','FB Goals','Assisted Goals','Shot Quality Ratio', \n",
    "                 'D Efficiency','Turnovers', 'Score Against',\n",
    "                 'Expected Goals','Avg Shot Dist','Margin', 'Save %' , 'Settled Goals agaisnt']]\n",
    "\n",
    "x = imp.fit_transform(x)\n",
    "\n",
    "\n",
    "ylinear = np.array(team[['Score']]).ravel()\n",
    "ylog = team[['W/L']]"
   ]
  },
  {
   "cell_type": "code",
   "execution_count": 11,
   "metadata": {},
   "outputs": [],
   "source": [
    "x1 = stdscaler.fit_transform(x)\n",
    "x_train, x_test, y_train , y_test = train_test_split(x1,ylinear, test_size = .2, random_state = 42)\n",
    "\n",
    "x_valid, x_train1 = x_train[:15] , x_train[15:]\n",
    "y_valid, y_train1 = y_train[:15] , y_train[15:]"
   ]
  },
  {
   "cell_type": "code",
   "execution_count": 12,
   "metadata": {},
   "outputs": [],
   "source": [
    "model = keras.models.Sequential([keras.layers.Dense(50 , activation = 'relu' , input_shape = x_train1.shape[1:]),\n",
    "                                keras.layers.Dense(100 , activation = 'relu'),\n",
    "                                keras.layers.Dense(100 , activation = 'relu'),\n",
    "                                keras.layers.Dense(125 , activation = 'relu'),\n",
    "                                keras.layers.Dense(100 , activation = 'relu'),\n",
    "                                keras.layers.Dense(1)])"
   ]
  },
  {
   "cell_type": "code",
   "execution_count": 13,
   "metadata": {},
   "outputs": [],
   "source": [
    "model.compile(loss = 'mean_squared_error' , \n",
    "             optimizer = keras.optimizers.SGD(learning_rate = .01, clipnorm = 1) ,)"
   ]
  },
  {
   "cell_type": "code",
   "execution_count": 15,
   "metadata": {},
   "outputs": [
    {
     "name": "stdout",
     "output_type": "stream",
     "text": [
      "Epoch 1/200\n",
      "5/5 [==============================] - 0s 22ms/step - loss: 0.1045 - val_loss: 0.8884\n",
      "Epoch 2/200\n",
      "5/5 [==============================] - 0s 18ms/step - loss: 0.1009 - val_loss: 0.9747\n",
      "Epoch 3/200\n",
      "5/5 [==============================] - 0s 13ms/step - loss: 0.1099 - val_loss: 0.9049\n",
      "Epoch 4/200\n",
      "5/5 [==============================] - 0s 12ms/step - loss: 0.1239 - val_loss: 1.0155\n",
      "Epoch 5/200\n",
      "5/5 [==============================] - 0s 16ms/step - loss: 0.1001 - val_loss: 0.9172\n",
      "Epoch 6/200\n",
      "5/5 [==============================] - 0s 17ms/step - loss: 0.1055 - val_loss: 1.0195\n",
      "Epoch 7/200\n",
      "5/5 [==============================] - 0s 18ms/step - loss: 0.1029 - val_loss: 0.8931\n",
      "Epoch 8/200\n",
      "5/5 [==============================] - 0s 13ms/step - loss: 0.0999 - val_loss: 0.9821\n",
      "Epoch 9/200\n",
      "5/5 [==============================] - 0s 14ms/step - loss: 0.1041 - val_loss: 0.8924\n",
      "Epoch 10/200\n",
      "5/5 [==============================] - 0s 14ms/step - loss: 0.0874 - val_loss: 1.0019\n",
      "Epoch 11/200\n",
      "5/5 [==============================] - 0s 17ms/step - loss: 0.1152 - val_loss: 0.8727\n",
      "Epoch 12/200\n",
      "5/5 [==============================] - 0s 12ms/step - loss: 0.1041 - val_loss: 1.0341\n",
      "Epoch 13/200\n",
      "5/5 [==============================] - 0s 20ms/step - loss: 0.0944 - val_loss: 0.8879\n",
      "Epoch 14/200\n",
      "5/5 [==============================] - 0s 19ms/step - loss: 0.1132 - val_loss: 1.0275\n",
      "Epoch 15/200\n",
      "5/5 [==============================] - 0s 18ms/step - loss: 0.1131 - val_loss: 0.8931\n",
      "Epoch 16/200\n",
      "5/5 [==============================] - 0s 21ms/step - loss: 0.1009 - val_loss: 1.0037\n",
      "Epoch 17/200\n",
      "5/5 [==============================] - 0s 13ms/step - loss: 0.1032 - val_loss: 0.9002\n",
      "Epoch 18/200\n",
      "5/5 [==============================] - 0s 12ms/step - loss: 0.1053 - val_loss: 1.0098\n",
      "Epoch 19/200\n",
      "5/5 [==============================] - 0s 12ms/step - loss: 0.1007 - val_loss: 0.8931\n",
      "Epoch 20/200\n",
      "5/5 [==============================] - 0s 18ms/step - loss: 0.1063 - val_loss: 1.0049\n",
      "Epoch 21/200\n",
      "5/5 [==============================] - 0s 18ms/step - loss: 0.0944 - val_loss: 0.9250\n",
      "Epoch 22/200\n",
      "5/5 [==============================] - 0s 20ms/step - loss: 0.0969 - val_loss: 0.9926\n",
      "Epoch 23/200\n",
      "5/5 [==============================] - 0s 18ms/step - loss: 0.1040 - val_loss: 0.8991\n",
      "Epoch 24/200\n",
      "5/5 [==============================] - 0s 24ms/step - loss: 0.1129 - val_loss: 0.9756\n",
      "Epoch 25/200\n",
      "5/5 [==============================] - 0s 19ms/step - loss: 0.0985 - val_loss: 0.8529\n",
      "Epoch 26/200\n",
      "5/5 [==============================] - 0s 18ms/step - loss: 0.1073 - val_loss: 0.9969\n",
      "Epoch 27/200\n",
      "5/5 [==============================] - 0s 18ms/step - loss: 0.1025 - val_loss: 0.8785\n",
      "Epoch 28/200\n",
      "5/5 [==============================] - 0s 19ms/step - loss: 0.1033 - val_loss: 0.9750\n",
      "Epoch 29/200\n",
      "5/5 [==============================] - 0s 21ms/step - loss: 0.1011 - val_loss: 0.8647\n",
      "Epoch 30/200\n",
      "5/5 [==============================] - 0s 18ms/step - loss: 0.0970 - val_loss: 0.9664\n",
      "Epoch 31/200\n",
      "5/5 [==============================] - 0s 18ms/step - loss: 0.0937 - val_loss: 0.8518\n",
      "Epoch 32/200\n",
      "5/5 [==============================] - 0s 19ms/step - loss: 0.1001 - val_loss: 1.0283\n",
      "Epoch 33/200\n",
      "5/5 [==============================] - 0s 18ms/step - loss: 0.0999 - val_loss: 0.8753\n",
      "Epoch 34/200\n",
      "5/5 [==============================] - 0s 17ms/step - loss: 0.0922 - val_loss: 1.0147\n",
      "Epoch 35/200\n",
      "5/5 [==============================] - 0s 15ms/step - loss: 0.1024 - val_loss: 0.8931\n",
      "Epoch 36/200\n",
      "5/5 [==============================] - 0s 31ms/step - loss: 0.1121 - val_loss: 0.9808\n",
      "Epoch 37/200\n",
      "5/5 [==============================] - 0s 17ms/step - loss: 0.0937 - val_loss: 0.8585\n",
      "Epoch 38/200\n",
      "5/5 [==============================] - 0s 14ms/step - loss: 0.1044 - val_loss: 1.0115\n",
      "Epoch 39/200\n",
      "5/5 [==============================] - 0s 15ms/step - loss: 0.1094 - val_loss: 0.8670\n",
      "Epoch 40/200\n",
      "5/5 [==============================] - 0s 15ms/step - loss: 0.0983 - val_loss: 0.9780\n",
      "Epoch 41/200\n",
      "5/5 [==============================] - 0s 16ms/step - loss: 0.0963 - val_loss: 0.8855\n",
      "Epoch 42/200\n",
      "5/5 [==============================] - 0s 23ms/step - loss: 0.1136 - val_loss: 1.0215\n",
      "Epoch 43/200\n",
      "5/5 [==============================] - 0s 12ms/step - loss: 0.0935 - val_loss: 0.8850\n",
      "Epoch 44/200\n",
      "5/5 [==============================] - 0s 21ms/step - loss: 0.0864 - val_loss: 1.0277\n",
      "Epoch 45/200\n",
      "5/5 [==============================] - 0s 14ms/step - loss: 0.0906 - val_loss: 0.9404\n",
      "Epoch 46/200\n",
      "5/5 [==============================] - 0s 12ms/step - loss: 0.0979 - val_loss: 1.0316\n",
      "Epoch 47/200\n",
      "5/5 [==============================] - 0s 15ms/step - loss: 0.0937 - val_loss: 0.8808\n",
      "Epoch 48/200\n",
      "5/5 [==============================] - 0s 15ms/step - loss: 0.0927 - val_loss: 1.0179\n",
      "Epoch 49/200\n",
      "5/5 [==============================] - 0s 19ms/step - loss: 0.1038 - val_loss: 0.8636\n",
      "Epoch 50/200\n",
      "5/5 [==============================] - 0s 16ms/step - loss: 0.1119 - val_loss: 0.9953\n",
      "Epoch 51/200\n",
      "5/5 [==============================] - 0s 14ms/step - loss: 0.0892 - val_loss: 0.8791\n",
      "Epoch 52/200\n",
      "5/5 [==============================] - 0s 17ms/step - loss: 0.0880 - val_loss: 1.0329\n",
      "Epoch 53/200\n",
      "5/5 [==============================] - 0s 14ms/step - loss: 0.1025 - val_loss: 0.9116\n",
      "Epoch 54/200\n",
      "5/5 [==============================] - 0s 16ms/step - loss: 0.0937 - val_loss: 1.0215\n",
      "Epoch 55/200\n",
      "5/5 [==============================] - 0s 11ms/step - loss: 0.0944 - val_loss: 0.9155\n",
      "Epoch 56/200\n",
      "5/5 [==============================] - 0s 12ms/step - loss: 0.0978 - val_loss: 1.0204\n",
      "Epoch 57/200\n",
      "5/5 [==============================] - 0s 11ms/step - loss: 0.1104 - val_loss: 0.9064\n",
      "Epoch 58/200\n",
      "5/5 [==============================] - 0s 11ms/step - loss: 0.0889 - val_loss: 0.9871\n",
      "Epoch 59/200\n",
      "5/5 [==============================] - 0s 11ms/step - loss: 0.0879 - val_loss: 0.8933\n",
      "Epoch 60/200\n",
      "5/5 [==============================] - 0s 11ms/step - loss: 0.0891 - val_loss: 0.9867\n",
      "Epoch 61/200\n",
      "5/5 [==============================] - 0s 12ms/step - loss: 0.0865 - val_loss: 0.8937\n",
      "Epoch 62/200\n",
      "5/5 [==============================] - 0s 11ms/step - loss: 0.0972 - val_loss: 1.0068\n",
      "Epoch 63/200\n",
      "5/5 [==============================] - 0s 10ms/step - loss: 0.0871 - val_loss: 0.8944\n",
      "Epoch 64/200\n",
      "5/5 [==============================] - 0s 11ms/step - loss: 0.0963 - val_loss: 0.9881\n",
      "Epoch 65/200\n",
      "5/5 [==============================] - 0s 11ms/step - loss: 0.0885 - val_loss: 0.8756\n",
      "Epoch 66/200\n",
      "5/5 [==============================] - 0s 10ms/step - loss: 0.0972 - val_loss: 1.0140\n",
      "Epoch 67/200\n",
      "5/5 [==============================] - 0s 13ms/step - loss: 0.0925 - val_loss: 0.8997\n",
      "Epoch 68/200\n",
      "5/5 [==============================] - 0s 11ms/step - loss: 0.0944 - val_loss: 0.9530\n",
      "Epoch 69/200\n",
      "5/5 [==============================] - 0s 12ms/step - loss: 0.0873 - val_loss: 0.8786\n",
      "Epoch 70/200\n",
      "5/5 [==============================] - 0s 11ms/step - loss: 0.0918 - val_loss: 0.9747\n",
      "Epoch 71/200\n",
      "5/5 [==============================] - 0s 11ms/step - loss: 0.0988 - val_loss: 0.8433\n",
      "Epoch 72/200\n",
      "5/5 [==============================] - 0s 11ms/step - loss: 0.0946 - val_loss: 0.9844\n",
      "Epoch 73/200\n",
      "5/5 [==============================] - 0s 11ms/step - loss: 0.0911 - val_loss: 0.8455\n",
      "Epoch 74/200\n",
      "5/5 [==============================] - 0s 11ms/step - loss: 0.0818 - val_loss: 0.9772\n",
      "Epoch 75/200\n",
      "5/5 [==============================] - 0s 13ms/step - loss: 0.0873 - val_loss: 0.8166\n",
      "Epoch 76/200\n",
      "5/5 [==============================] - 0s 11ms/step - loss: 0.0913 - val_loss: 0.9833\n",
      "Epoch 77/200\n",
      "5/5 [==============================] - 0s 12ms/step - loss: 0.0885 - val_loss: 0.8530\n",
      "Epoch 78/200\n",
      "5/5 [==============================] - 0s 12ms/step - loss: 0.0885 - val_loss: 0.9489\n",
      "Epoch 79/200\n",
      "5/5 [==============================] - 0s 14ms/step - loss: 0.0922 - val_loss: 0.8257\n",
      "Epoch 80/200\n",
      "5/5 [==============================] - 0s 14ms/step - loss: 0.0925 - val_loss: 0.9421\n",
      "Epoch 81/200\n",
      "5/5 [==============================] - 0s 13ms/step - loss: 0.0836 - val_loss: 0.8645\n",
      "Epoch 82/200\n",
      "5/5 [==============================] - 0s 14ms/step - loss: 0.0843 - val_loss: 0.9747\n",
      "Epoch 83/200\n",
      "5/5 [==============================] - 0s 15ms/step - loss: 0.0907 - val_loss: 0.8759\n"
     ]
    },
    {
     "name": "stdout",
     "output_type": "stream",
     "text": [
      "Epoch 84/200\n",
      "5/5 [==============================] - 0s 14ms/step - loss: 0.0911 - val_loss: 0.9759\n",
      "Epoch 85/200\n",
      "5/5 [==============================] - 0s 12ms/step - loss: 0.0949 - val_loss: 0.8624\n",
      "Epoch 86/200\n",
      "5/5 [==============================] - 0s 11ms/step - loss: 0.0900 - val_loss: 1.0093\n",
      "Epoch 87/200\n",
      "5/5 [==============================] - 0s 12ms/step - loss: 0.0830 - val_loss: 0.8464\n",
      "Epoch 88/200\n",
      "5/5 [==============================] - 0s 11ms/step - loss: 0.0943 - val_loss: 0.9961\n",
      "Epoch 89/200\n",
      "5/5 [==============================] - 0s 11ms/step - loss: 0.0811 - val_loss: 0.8406\n",
      "Epoch 90/200\n",
      "5/5 [==============================] - 0s 11ms/step - loss: 0.0896 - val_loss: 0.9790\n",
      "Epoch 91/200\n",
      "5/5 [==============================] - 0s 13ms/step - loss: 0.0960 - val_loss: 0.8384\n",
      "Epoch 92/200\n",
      "5/5 [==============================] - 0s 12ms/step - loss: 0.0803 - val_loss: 0.9524\n",
      "Epoch 93/200\n",
      "5/5 [==============================] - 0s 11ms/step - loss: 0.0831 - val_loss: 0.8271\n",
      "Epoch 94/200\n",
      "5/5 [==============================] - 0s 10ms/step - loss: 0.0853 - val_loss: 0.9485\n",
      "Epoch 95/200\n",
      "5/5 [==============================] - 0s 10ms/step - loss: 0.0794 - val_loss: 0.8684\n",
      "Epoch 96/200\n",
      "5/5 [==============================] - 0s 10ms/step - loss: 0.0879 - val_loss: 0.9769\n",
      "Epoch 97/200\n",
      "5/5 [==============================] - 0s 12ms/step - loss: 0.0753 - val_loss: 0.8058\n",
      "Epoch 98/200\n",
      "5/5 [==============================] - 0s 13ms/step - loss: 0.0923 - val_loss: 0.9855\n",
      "Epoch 99/200\n",
      "5/5 [==============================] - 0s 12ms/step - loss: 0.0859 - val_loss: 0.8562\n",
      "Epoch 100/200\n",
      "5/5 [==============================] - 0s 11ms/step - loss: 0.0967 - val_loss: 0.9645\n",
      "Epoch 101/200\n",
      "5/5 [==============================] - 0s 11ms/step - loss: 0.0858 - val_loss: 0.8655\n",
      "Epoch 102/200\n",
      "5/5 [==============================] - 0s 18ms/step - loss: 0.0925 - val_loss: 0.9605\n",
      "Epoch 103/200\n",
      "5/5 [==============================] - 0s 12ms/step - loss: 0.0769 - val_loss: 0.8436\n",
      "Epoch 104/200\n",
      "5/5 [==============================] - 0s 14ms/step - loss: 0.0856 - val_loss: 0.9909\n",
      "Epoch 105/200\n",
      "5/5 [==============================] - 0s 12ms/step - loss: 0.0847 - val_loss: 0.8328\n",
      "Epoch 106/200\n",
      "5/5 [==============================] - 0s 11ms/step - loss: 0.0819 - val_loss: 0.9741\n",
      "Epoch 107/200\n",
      "5/5 [==============================] - 0s 13ms/step - loss: 0.0995 - val_loss: 0.8128\n",
      "Epoch 108/200\n",
      "5/5 [==============================] - 0s 13ms/step - loss: 0.0951 - val_loss: 0.9856\n",
      "Epoch 109/200\n",
      "5/5 [==============================] - 0s 14ms/step - loss: 0.0884 - val_loss: 0.8067\n",
      "Epoch 110/200\n",
      "5/5 [==============================] - 0s 13ms/step - loss: 0.0764 - val_loss: 1.0326\n",
      "Epoch 111/200\n",
      "5/5 [==============================] - 0s 12ms/step - loss: 0.0881 - val_loss: 0.8335\n",
      "Epoch 112/200\n",
      "5/5 [==============================] - 0s 12ms/step - loss: 0.0937 - val_loss: 1.0031\n",
      "Epoch 113/200\n",
      "5/5 [==============================] - 0s 16ms/step - loss: 0.0917 - val_loss: 0.8585\n",
      "Epoch 114/200\n",
      "5/5 [==============================] - 0s 14ms/step - loss: 0.0911 - val_loss: 1.0146\n",
      "Epoch 115/200\n",
      "5/5 [==============================] - 0s 12ms/step - loss: 0.0875 - val_loss: 0.8544\n",
      "Epoch 116/200\n",
      "5/5 [==============================] - 0s 11ms/step - loss: 0.0960 - val_loss: 0.9531\n",
      "Epoch 117/200\n",
      "5/5 [==============================] - 0s 11ms/step - loss: 0.0807 - val_loss: 0.8390\n",
      "Epoch 118/200\n",
      "5/5 [==============================] - 0s 11ms/step - loss: 0.0851 - val_loss: 0.9599\n",
      "Epoch 119/200\n",
      "5/5 [==============================] - 0s 11ms/step - loss: 0.0890 - val_loss: 0.8575\n",
      "Epoch 120/200\n",
      "5/5 [==============================] - 0s 13ms/step - loss: 0.0848 - val_loss: 0.9611\n",
      "Epoch 121/200\n",
      "5/5 [==============================] - 0s 12ms/step - loss: 0.0883 - val_loss: 0.8172\n",
      "Epoch 122/200\n",
      "5/5 [==============================] - 0s 11ms/step - loss: 0.0836 - val_loss: 0.9486\n",
      "Epoch 123/200\n",
      "5/5 [==============================] - 0s 14ms/step - loss: 0.0826 - val_loss: 0.8047\n",
      "Epoch 124/200\n",
      "5/5 [==============================] - 0s 12ms/step - loss: 0.0802 - val_loss: 0.9896\n",
      "Epoch 125/200\n",
      "5/5 [==============================] - 0s 11ms/step - loss: 0.0845 - val_loss: 0.8410\n",
      "Epoch 126/200\n",
      "5/5 [==============================] - 0s 37ms/step - loss: 0.0943 - val_loss: 0.9472\n",
      "Epoch 127/200\n",
      "5/5 [==============================] - 0s 13ms/step - loss: 0.0819 - val_loss: 0.8197\n",
      "Epoch 128/200\n",
      "5/5 [==============================] - 0s 12ms/step - loss: 0.0820 - val_loss: 0.9536\n",
      "Epoch 129/200\n",
      "5/5 [==============================] - 0s 11ms/step - loss: 0.0857 - val_loss: 0.8479\n",
      "Epoch 130/200\n",
      "5/5 [==============================] - 0s 11ms/step - loss: 0.0874 - val_loss: 0.9899\n",
      "Epoch 131/200\n",
      "5/5 [==============================] - 0s 11ms/step - loss: 0.0884 - val_loss: 0.8431\n",
      "Epoch 132/200\n",
      "5/5 [==============================] - 0s 11ms/step - loss: 0.0831 - val_loss: 0.9438\n",
      "Epoch 133/200\n",
      "5/5 [==============================] - 0s 11ms/step - loss: 0.0842 - val_loss: 0.8306\n",
      "Epoch 134/200\n",
      "5/5 [==============================] - 0s 11ms/step - loss: 0.0811 - val_loss: 0.9381\n",
      "Epoch 135/200\n",
      "5/5 [==============================] - 0s 11ms/step - loss: 0.0803 - val_loss: 0.8368\n",
      "Epoch 136/200\n",
      "5/5 [==============================] - 0s 11ms/step - loss: 0.0874 - val_loss: 0.9516\n",
      "Epoch 137/200\n",
      "5/5 [==============================] - 0s 11ms/step - loss: 0.0946 - val_loss: 0.8330\n",
      "Epoch 138/200\n",
      "5/5 [==============================] - 0s 11ms/step - loss: 0.0783 - val_loss: 0.9493\n",
      "Epoch 139/200\n",
      "5/5 [==============================] - 0s 11ms/step - loss: 0.0855 - val_loss: 0.8307\n",
      "Epoch 140/200\n",
      "5/5 [==============================] - 0s 11ms/step - loss: 0.0816 - val_loss: 0.9622\n",
      "Epoch 141/200\n",
      "5/5 [==============================] - 0s 10ms/step - loss: 0.0829 - val_loss: 0.8260\n",
      "Epoch 142/200\n",
      "5/5 [==============================] - 0s 15ms/step - loss: 0.0880 - val_loss: 0.9829\n",
      "Epoch 143/200\n",
      "5/5 [==============================] - 0s 13ms/step - loss: 0.0869 - val_loss: 0.8457\n",
      "Epoch 144/200\n",
      "5/5 [==============================] - 0s 11ms/step - loss: 0.0814 - val_loss: 1.0018\n",
      "Epoch 145/200\n",
      "5/5 [==============================] - 0s 15ms/step - loss: 0.0831 - val_loss: 0.8677\n",
      "Epoch 146/200\n",
      "5/5 [==============================] - 0s 12ms/step - loss: 0.1019 - val_loss: 1.0068\n",
      "Epoch 147/200\n",
      "5/5 [==============================] - 0s 11ms/step - loss: 0.0791 - val_loss: 0.8275\n",
      "Epoch 148/200\n",
      "5/5 [==============================] - 0s 11ms/step - loss: 0.0789 - val_loss: 1.0151\n",
      "Epoch 149/200\n",
      "5/5 [==============================] - 0s 11ms/step - loss: 0.0863 - val_loss: 0.8209\n",
      "Epoch 150/200\n",
      "5/5 [==============================] - 0s 10ms/step - loss: 0.0832 - val_loss: 0.9751\n",
      "Epoch 151/200\n",
      "5/5 [==============================] - 0s 11ms/step - loss: 0.0934 - val_loss: 0.7940\n",
      "Epoch 152/200\n",
      "5/5 [==============================] - 0s 11ms/step - loss: 0.0815 - val_loss: 0.9710\n",
      "Epoch 153/200\n",
      "5/5 [==============================] - 0s 14ms/step - loss: 0.0852 - val_loss: 0.7915\n",
      "Epoch 154/200\n",
      "5/5 [==============================] - 0s 12ms/step - loss: 0.0823 - val_loss: 0.9862\n",
      "Epoch 155/200\n",
      "5/5 [==============================] - 0s 11ms/step - loss: 0.0852 - val_loss: 0.8537\n",
      "Epoch 156/200\n",
      "5/5 [==============================] - 0s 11ms/step - loss: 0.0837 - val_loss: 1.0140\n",
      "Epoch 157/200\n",
      "5/5 [==============================] - 0s 11ms/step - loss: 0.0891 - val_loss: 0.8100\n",
      "Epoch 158/200\n",
      "5/5 [==============================] - 0s 11ms/step - loss: 0.0897 - val_loss: 0.9941\n",
      "Epoch 159/200\n",
      "5/5 [==============================] - 0s 11ms/step - loss: 0.0901 - val_loss: 0.8443\n",
      "Epoch 160/200\n",
      "5/5 [==============================] - 0s 11ms/step - loss: 0.0684 - val_loss: 0.9781\n",
      "Epoch 161/200\n",
      "5/5 [==============================] - 0s 11ms/step - loss: 0.0893 - val_loss: 0.8542\n",
      "Epoch 162/200\n",
      "5/5 [==============================] - 0s 11ms/step - loss: 0.0795 - val_loss: 1.0280\n",
      "Epoch 163/200\n",
      "5/5 [==============================] - 0s 12ms/step - loss: 0.0871 - val_loss: 0.8428\n",
      "Epoch 164/200\n",
      "5/5 [==============================] - 0s 12ms/step - loss: 0.0918 - val_loss: 1.0131\n",
      "Epoch 165/200\n",
      "5/5 [==============================] - 0s 12ms/step - loss: 0.0802 - val_loss: 0.8298\n",
      "Epoch 166/200\n"
     ]
    },
    {
     "name": "stdout",
     "output_type": "stream",
     "text": [
      "5/5 [==============================] - 0s 12ms/step - loss: 0.0906 - val_loss: 0.9617\n",
      "Epoch 167/200\n",
      "5/5 [==============================] - 0s 11ms/step - loss: 0.0903 - val_loss: 0.7939\n",
      "Epoch 168/200\n",
      "5/5 [==============================] - 0s 10ms/step - loss: 0.0791 - val_loss: 1.0054\n",
      "Epoch 169/200\n",
      "5/5 [==============================] - 0s 10ms/step - loss: 0.0868 - val_loss: 0.8463\n",
      "Epoch 170/200\n",
      "5/5 [==============================] - 0s 12ms/step - loss: 0.0876 - val_loss: 0.9768\n",
      "Epoch 171/200\n",
      "5/5 [==============================] - 0s 11ms/step - loss: 0.0809 - val_loss: 0.8531\n",
      "Epoch 172/200\n",
      "5/5 [==============================] - 0s 11ms/step - loss: 0.0890 - val_loss: 1.0503\n",
      "Epoch 173/200\n",
      "5/5 [==============================] - 0s 11ms/step - loss: 0.0914 - val_loss: 0.8932\n",
      "Epoch 174/200\n",
      "5/5 [==============================] - 0s 12ms/step - loss: 0.0872 - val_loss: 1.0193\n",
      "Epoch 175/200\n",
      "5/5 [==============================] - 0s 12ms/step - loss: 0.0860 - val_loss: 0.8572\n",
      "Epoch 176/200\n",
      "5/5 [==============================] - 0s 11ms/step - loss: 0.0903 - val_loss: 0.9998\n",
      "Epoch 177/200\n",
      "5/5 [==============================] - 0s 11ms/step - loss: 0.0818 - val_loss: 0.8849\n",
      "Epoch 178/200\n",
      "5/5 [==============================] - 0s 11ms/step - loss: 0.0885 - val_loss: 1.0497\n",
      "Epoch 179/200\n",
      "5/5 [==============================] - 0s 10ms/step - loss: 0.0859 - val_loss: 0.8409\n",
      "Epoch 180/200\n",
      "5/5 [==============================] - 0s 10ms/step - loss: 0.0819 - val_loss: 0.9629\n",
      "Epoch 181/200\n",
      "5/5 [==============================] - 0s 11ms/step - loss: 0.0820 - val_loss: 0.8500\n",
      "Epoch 182/200\n",
      "5/5 [==============================] - 0s 11ms/step - loss: 0.0925 - val_loss: 0.9932\n",
      "Epoch 183/200\n",
      "5/5 [==============================] - 0s 12ms/step - loss: 0.0889 - val_loss: 0.8567\n",
      "Epoch 184/200\n",
      "5/5 [==============================] - 0s 13ms/step - loss: 0.0879 - val_loss: 1.0070\n",
      "Epoch 185/200\n",
      "5/5 [==============================] - 0s 12ms/step - loss: 0.0799 - val_loss: 0.8871\n",
      "Epoch 186/200\n",
      "5/5 [==============================] - 0s 16ms/step - loss: 0.0932 - val_loss: 1.0100\n",
      "Epoch 187/200\n",
      "5/5 [==============================] - 0s 12ms/step - loss: 0.0869 - val_loss: 0.8663\n",
      "Epoch 188/200\n",
      "5/5 [==============================] - 0s 12ms/step - loss: 0.0838 - val_loss: 1.0240\n",
      "Epoch 189/200\n",
      "5/5 [==============================] - 0s 11ms/step - loss: 0.0834 - val_loss: 0.8514\n",
      "Epoch 190/200\n",
      "5/5 [==============================] - 0s 12ms/step - loss: 0.0897 - val_loss: 0.9596\n",
      "Epoch 191/200\n",
      "5/5 [==============================] - 0s 11ms/step - loss: 0.0882 - val_loss: 0.8716\n",
      "Epoch 192/200\n",
      "5/5 [==============================] - 0s 12ms/step - loss: 0.0755 - val_loss: 1.0013\n",
      "Epoch 193/200\n",
      "5/5 [==============================] - 0s 10ms/step - loss: 0.0763 - val_loss: 0.8223\n",
      "Epoch 194/200\n",
      "5/5 [==============================] - 0s 14ms/step - loss: 0.0827 - val_loss: 0.9619\n",
      "Epoch 195/200\n",
      "5/5 [==============================] - 0s 12ms/step - loss: 0.0956 - val_loss: 0.8565\n",
      "Epoch 196/200\n",
      "5/5 [==============================] - 0s 11ms/step - loss: 0.0879 - val_loss: 0.9924\n",
      "Epoch 197/200\n",
      "5/5 [==============================] - 0s 11ms/step - loss: 0.0886 - val_loss: 0.8534\n",
      "Epoch 198/200\n",
      "5/5 [==============================] - 0s 11ms/step - loss: 0.0762 - val_loss: 1.0099\n",
      "Epoch 199/200\n",
      "5/5 [==============================] - 0s 11ms/step - loss: 0.0894 - val_loss: 0.8402\n",
      "Epoch 200/200\n",
      "5/5 [==============================] - 0s 10ms/step - loss: 0.0808 - val_loss: 1.0256\n"
     ]
    }
   ],
   "source": [
    "history = model.fit(x_train1, y_train1, epochs = 200,\n",
    "                  validation_data = (x_valid , y_valid))"
   ]
  },
  {
   "cell_type": "markdown",
   "metadata": {},
   "source": [
    "### Scoring"
   ]
  },
  {
   "cell_type": "markdown",
   "metadata": {},
   "source": [
    "#### Training Data Score + Plot"
   ]
  },
  {
   "cell_type": "code",
   "execution_count": 16,
   "metadata": {},
   "outputs": [
    {
     "name": "stdout",
     "output_type": "stream",
     "text": [
      "5/5 [==============================] - 0s 3ms/step - loss: 0.0865\n",
      "5/5 [==============================] - 0s 2ms/step\n"
     ]
    }
   ],
   "source": [
    "mse_training = model.evaluate(x_train1 , y_train1)\n",
    "y_pred = model.predict(x_train1)"
   ]
  },
  {
   "cell_type": "markdown",
   "metadata": {},
   "source": [
    "#### Testing Data Score + Plot"
   ]
  },
  {
   "cell_type": "code",
   "execution_count": 18,
   "metadata": {},
   "outputs": [
    {
     "name": "stdout",
     "output_type": "stream",
     "text": [
      "2/2 [==============================] - 0s 5ms/step\n"
     ]
    }
   ],
   "source": [
    "y_final = model.predict(x_test)"
   ]
  },
  {
   "cell_type": "code",
   "execution_count": 19,
   "metadata": {},
   "outputs": [
    {
     "name": "stdout",
     "output_type": "stream",
     "text": [
      "2/2 [==============================] - 0s 4ms/step - loss: 0.9356\n"
     ]
    },
    {
     "data": {
      "text/plain": [
       "0.9356139302253723"
      ]
     },
     "execution_count": 19,
     "metadata": {},
     "output_type": "execute_result"
    }
   ],
   "source": [
    "y_test = y_test.reshape(40,1)\n",
    "test_mse = model.evaluate(x_test, y_test)\n",
    "test_mse"
   ]
  },
  {
   "cell_type": "markdown",
   "metadata": {},
   "source": [
    "### Now Tweaking Stats for Season Wide Predictions in the 2022 Season"
   ]
  },
  {
   "cell_type": "code",
   "execution_count": 21,
   "metadata": {},
   "outputs": [],
   "source": [
    "fileName2 = 'PLL Stats Master - Team Game Logs.csv'\n",
    "teamdata2 = pd.read_csv(fileName2)\n",
    "teamdata2 = teamdata2[teamdata2['Season'] == 2022]"
   ]
  },
  {
   "cell_type": "code",
   "execution_count": 22,
   "metadata": {
    "collapsed": true
   },
   "outputs": [
    {
     "name": "stderr",
     "output_type": "stream",
     "text": [
      "<ipython-input-22-7f5c934f4de4>:13: SettingWithCopyWarning: \n",
      "A value is trying to be set on a copy of a slice from a DataFrame.\n",
      "Try using .loc[row_indexer,col_indexer] = value instead\n",
      "\n",
      "See the caveats in the documentation: https://pandas.pydata.org/pandas-docs/stable/user_guide/indexing.html#returning-a-view-versus-a-copy\n",
      "  team2022['Shot%'] = team2022['Goals'] / team2022['Shots']\n",
      "<ipython-input-22-7f5c934f4de4>:14: SettingWithCopyWarning: \n",
      "A value is trying to be set on a copy of a slice from a DataFrame.\n",
      "Try using .loc[row_indexer,col_indexer] = value instead\n",
      "\n",
      "See the caveats in the documentation: https://pandas.pydata.org/pandas-docs/stable/user_guide/indexing.html#returning-a-view-versus-a-copy\n",
      "  team2022['W/L'] = pd.get_dummies(team2022.loc[:,'Result'])[['W']]\n"
     ]
    }
   ],
   "source": [
    "teamdata2['Avg Shot Dist'] = teamdata2['Average Shot Distance'].replace('#DIV/0!' , 10.265)\n",
    "teamdata2['Avg Shot Dist'] = teamdata2['Avg Shot Dist'].astype(float)\n",
    "\n",
    "team2022 = teamdata2[['Season','Week','Game','Team','Opponent', \n",
    "                 'Shots','Goals','Efficiency', \n",
    "                 'Possession %',\n",
    "                 'Settled Goal','FB Goals','Assisted Goals','Shot Quality Ratio', \n",
    "                 'D Efficiency','Turnovers', 'Score Against',\n",
    "                 'Expected Goals','Avg Shot Dist','Margin',\n",
    "                  'Settled Goals agaisnt' , 'Save %',\n",
    "                 'Score','Result']]\n",
    "\n",
    "team2022['Shot%'] = team2022['Goals'] / team2022['Shots']\n",
    "team2022['W/L'] = pd.get_dummies(team2022.loc[:,'Result'])[['W']]"
   ]
  },
  {
   "cell_type": "code",
   "execution_count": 24,
   "metadata": {},
   "outputs": [],
   "source": [
    "redwoods = team2022[team2022['Team'] == 'Redwoods']\n",
    "whipsnakes = team2022[team2022['Team'] == 'Whipsnakes']\n",
    "waterdogs = team2022[team2022['Team'] == 'Waterdogs']"
   ]
  },
  {
   "cell_type": "code",
   "execution_count": 26,
   "metadata": {},
   "outputs": [
    {
     "data": {
      "text/html": [
       "<div>\n",
       "<style scoped>\n",
       "    .dataframe tbody tr th:only-of-type {\n",
       "        vertical-align: middle;\n",
       "    }\n",
       "\n",
       "    .dataframe tbody tr th {\n",
       "        vertical-align: top;\n",
       "    }\n",
       "\n",
       "    .dataframe thead th {\n",
       "        text-align: right;\n",
       "    }\n",
       "</style>\n",
       "<table border=\"1\" class=\"dataframe\">\n",
       "  <thead>\n",
       "    <tr style=\"text-align: right;\">\n",
       "      <th></th>\n",
       "      <th>Season</th>\n",
       "      <th>Week</th>\n",
       "      <th>Game</th>\n",
       "      <th>Shots</th>\n",
       "      <th>Goals</th>\n",
       "      <th>Efficiency</th>\n",
       "      <th>Possession %</th>\n",
       "      <th>Settled Goal</th>\n",
       "      <th>FB Goals</th>\n",
       "      <th>Assisted Goals</th>\n",
       "      <th>Shot Quality Ratio</th>\n",
       "      <th>D Efficiency</th>\n",
       "      <th>Turnovers</th>\n",
       "      <th>Score Against</th>\n",
       "      <th>Expected Goals</th>\n",
       "      <th>Avg Shot Dist</th>\n",
       "      <th>Margin</th>\n",
       "      <th>Settled Goals agaisnt</th>\n",
       "      <th>Save %</th>\n",
       "      <th>Score</th>\n",
       "      <th>Shot%</th>\n",
       "      <th>W/L</th>\n",
       "    </tr>\n",
       "    <tr>\n",
       "      <th>Team</th>\n",
       "      <th></th>\n",
       "      <th></th>\n",
       "      <th></th>\n",
       "      <th></th>\n",
       "      <th></th>\n",
       "      <th></th>\n",
       "      <th></th>\n",
       "      <th></th>\n",
       "      <th></th>\n",
       "      <th></th>\n",
       "      <th></th>\n",
       "      <th></th>\n",
       "      <th></th>\n",
       "      <th></th>\n",
       "      <th></th>\n",
       "      <th></th>\n",
       "      <th></th>\n",
       "      <th></th>\n",
       "      <th></th>\n",
       "      <th></th>\n",
       "      <th></th>\n",
       "      <th></th>\n",
       "    </tr>\n",
       "  </thead>\n",
       "  <tbody>\n",
       "    <tr>\n",
       "      <th>Archers</th>\n",
       "      <td>2022.0</td>\n",
       "      <td>7.083333</td>\n",
       "      <td>24.833333</td>\n",
       "      <td>37.750000</td>\n",
       "      <td>11.916667</td>\n",
       "      <td>0.320833</td>\n",
       "      <td>0.484167</td>\n",
       "      <td>7.833333</td>\n",
       "      <td>2.583333</td>\n",
       "      <td>6.916667</td>\n",
       "      <td>2.016667</td>\n",
       "      <td>0.260000</td>\n",
       "      <td>13.500000</td>\n",
       "      <td>10.583333</td>\n",
       "      <td>12.741667</td>\n",
       "      <td>10.292910</td>\n",
       "      <td>1.916667</td>\n",
       "      <td>6.916667</td>\n",
       "      <td>0.525000</td>\n",
       "      <td>12.500000</td>\n",
       "      <td>0.316763</td>\n",
       "      <td>0.583333</td>\n",
       "    </tr>\n",
       "    <tr>\n",
       "      <th>Atlas</th>\n",
       "      <td>2022.0</td>\n",
       "      <td>6.000000</td>\n",
       "      <td>20.300000</td>\n",
       "      <td>38.600000</td>\n",
       "      <td>11.500000</td>\n",
       "      <td>0.290000</td>\n",
       "      <td>0.524000</td>\n",
       "      <td>6.900000</td>\n",
       "      <td>3.100000</td>\n",
       "      <td>7.100000</td>\n",
       "      <td>1.460000</td>\n",
       "      <td>0.298000</td>\n",
       "      <td>17.000000</td>\n",
       "      <td>11.900000</td>\n",
       "      <td>14.120000</td>\n",
       "      <td>10.225421</td>\n",
       "      <td>0.900000</td>\n",
       "      <td>7.600000</td>\n",
       "      <td>0.570000</td>\n",
       "      <td>12.800000</td>\n",
       "      <td>0.312475</td>\n",
       "      <td>0.600000</td>\n",
       "    </tr>\n",
       "    <tr>\n",
       "      <th>Cannons</th>\n",
       "      <td>2022.0</td>\n",
       "      <td>6.000000</td>\n",
       "      <td>20.900000</td>\n",
       "      <td>38.900000</td>\n",
       "      <td>10.800000</td>\n",
       "      <td>0.280000</td>\n",
       "      <td>0.485000</td>\n",
       "      <td>7.800000</td>\n",
       "      <td>2.200000</td>\n",
       "      <td>5.600000</td>\n",
       "      <td>1.970000</td>\n",
       "      <td>0.320000</td>\n",
       "      <td>15.700000</td>\n",
       "      <td>13.700000</td>\n",
       "      <td>14.310000</td>\n",
       "      <td>9.714420</td>\n",
       "      <td>-2.700000</td>\n",
       "      <td>7.200000</td>\n",
       "      <td>0.510000</td>\n",
       "      <td>11.000000</td>\n",
       "      <td>0.280016</td>\n",
       "      <td>0.100000</td>\n",
       "    </tr>\n",
       "    <tr>\n",
       "      <th>Chaos</th>\n",
       "      <td>2022.0</td>\n",
       "      <td>7.615385</td>\n",
       "      <td>26.538462</td>\n",
       "      <td>32.692308</td>\n",
       "      <td>9.615385</td>\n",
       "      <td>0.263077</td>\n",
       "      <td>0.490000</td>\n",
       "      <td>6.000000</td>\n",
       "      <td>1.846154</td>\n",
       "      <td>5.461538</td>\n",
       "      <td>1.846154</td>\n",
       "      <td>0.277692</td>\n",
       "      <td>16.538462</td>\n",
       "      <td>11.307692</td>\n",
       "      <td>12.446154</td>\n",
       "      <td>10.431058</td>\n",
       "      <td>-1.307692</td>\n",
       "      <td>7.769231</td>\n",
       "      <td>0.553846</td>\n",
       "      <td>10.000000</td>\n",
       "      <td>0.300193</td>\n",
       "      <td>0.307692</td>\n",
       "    </tr>\n",
       "    <tr>\n",
       "      <th>Chrome</th>\n",
       "      <td>2022.0</td>\n",
       "      <td>6.545455</td>\n",
       "      <td>22.454545</td>\n",
       "      <td>36.181818</td>\n",
       "      <td>10.909091</td>\n",
       "      <td>0.281818</td>\n",
       "      <td>0.509091</td>\n",
       "      <td>6.545455</td>\n",
       "      <td>2.636364</td>\n",
       "      <td>6.454545</td>\n",
       "      <td>1.530000</td>\n",
       "      <td>0.263636</td>\n",
       "      <td>15.909091</td>\n",
       "      <td>10.272727</td>\n",
       "      <td>13.180000</td>\n",
       "      <td>9.722711</td>\n",
       "      <td>0.909091</td>\n",
       "      <td>6.636364</td>\n",
       "      <td>0.536364</td>\n",
       "      <td>11.181818</td>\n",
       "      <td>0.304329</td>\n",
       "      <td>0.636364</td>\n",
       "    </tr>\n",
       "    <tr>\n",
       "      <th>Redwoods</th>\n",
       "      <td>2022.0</td>\n",
       "      <td>6.545455</td>\n",
       "      <td>22.000000</td>\n",
       "      <td>37.454545</td>\n",
       "      <td>10.272727</td>\n",
       "      <td>0.269091</td>\n",
       "      <td>0.500000</td>\n",
       "      <td>7.909091</td>\n",
       "      <td>0.909091</td>\n",
       "      <td>5.090909</td>\n",
       "      <td>2.045455</td>\n",
       "      <td>0.318182</td>\n",
       "      <td>14.818182</td>\n",
       "      <td>12.363636</td>\n",
       "      <td>12.918182</td>\n",
       "      <td>10.309797</td>\n",
       "      <td>-1.272727</td>\n",
       "      <td>8.454545</td>\n",
       "      <td>0.445455</td>\n",
       "      <td>11.090909</td>\n",
       "      <td>0.275028</td>\n",
       "      <td>0.363636</td>\n",
       "    </tr>\n",
       "    <tr>\n",
       "      <th>Waterdogs</th>\n",
       "      <td>2022.0</td>\n",
       "      <td>7.250000</td>\n",
       "      <td>25.166667</td>\n",
       "      <td>41.833333</td>\n",
       "      <td>11.833333</td>\n",
       "      <td>0.303333</td>\n",
       "      <td>0.489167</td>\n",
       "      <td>8.250000</td>\n",
       "      <td>2.166667</td>\n",
       "      <td>6.833333</td>\n",
       "      <td>2.108333</td>\n",
       "      <td>0.299167</td>\n",
       "      <td>14.166667</td>\n",
       "      <td>12.750000</td>\n",
       "      <td>13.816667</td>\n",
       "      <td>9.926386</td>\n",
       "      <td>-0.250000</td>\n",
       "      <td>7.583333</td>\n",
       "      <td>0.508333</td>\n",
       "      <td>12.500000</td>\n",
       "      <td>0.285345</td>\n",
       "      <td>0.583333</td>\n",
       "    </tr>\n",
       "    <tr>\n",
       "      <th>Whipsnakes</th>\n",
       "      <td>2022.0</td>\n",
       "      <td>6.636364</td>\n",
       "      <td>22.727273</td>\n",
       "      <td>41.454545</td>\n",
       "      <td>10.909091</td>\n",
       "      <td>0.278182</td>\n",
       "      <td>0.523636</td>\n",
       "      <td>7.818182</td>\n",
       "      <td>1.818182</td>\n",
       "      <td>5.363636</td>\n",
       "      <td>1.936364</td>\n",
       "      <td>0.257273</td>\n",
       "      <td>16.000000</td>\n",
       "      <td>9.818182</td>\n",
       "      <td>14.872727</td>\n",
       "      <td>9.955256</td>\n",
       "      <td>1.727273</td>\n",
       "      <td>6.727273</td>\n",
       "      <td>0.581818</td>\n",
       "      <td>11.545455</td>\n",
       "      <td>0.270540</td>\n",
       "      <td>0.818182</td>\n",
       "    </tr>\n",
       "  </tbody>\n",
       "</table>\n",
       "</div>"
      ],
      "text/plain": [
       "            Season      Week       Game      Shots      Goals  Efficiency  \\\n",
       "Team                                                                        \n",
       "Archers     2022.0  7.083333  24.833333  37.750000  11.916667    0.320833   \n",
       "Atlas       2022.0  6.000000  20.300000  38.600000  11.500000    0.290000   \n",
       "Cannons     2022.0  6.000000  20.900000  38.900000  10.800000    0.280000   \n",
       "Chaos       2022.0  7.615385  26.538462  32.692308   9.615385    0.263077   \n",
       "Chrome      2022.0  6.545455  22.454545  36.181818  10.909091    0.281818   \n",
       "Redwoods    2022.0  6.545455  22.000000  37.454545  10.272727    0.269091   \n",
       "Waterdogs   2022.0  7.250000  25.166667  41.833333  11.833333    0.303333   \n",
       "Whipsnakes  2022.0  6.636364  22.727273  41.454545  10.909091    0.278182   \n",
       "\n",
       "            Possession %  Settled Goal  FB Goals  Assisted Goals  \\\n",
       "Team                                                               \n",
       "Archers         0.484167      7.833333  2.583333        6.916667   \n",
       "Atlas           0.524000      6.900000  3.100000        7.100000   \n",
       "Cannons         0.485000      7.800000  2.200000        5.600000   \n",
       "Chaos           0.490000      6.000000  1.846154        5.461538   \n",
       "Chrome          0.509091      6.545455  2.636364        6.454545   \n",
       "Redwoods        0.500000      7.909091  0.909091        5.090909   \n",
       "Waterdogs       0.489167      8.250000  2.166667        6.833333   \n",
       "Whipsnakes      0.523636      7.818182  1.818182        5.363636   \n",
       "\n",
       "            Shot Quality Ratio  D Efficiency  Turnovers  Score Against  \\\n",
       "Team                                                                     \n",
       "Archers               2.016667      0.260000  13.500000      10.583333   \n",
       "Atlas                 1.460000      0.298000  17.000000      11.900000   \n",
       "Cannons               1.970000      0.320000  15.700000      13.700000   \n",
       "Chaos                 1.846154      0.277692  16.538462      11.307692   \n",
       "Chrome                1.530000      0.263636  15.909091      10.272727   \n",
       "Redwoods              2.045455      0.318182  14.818182      12.363636   \n",
       "Waterdogs             2.108333      0.299167  14.166667      12.750000   \n",
       "Whipsnakes            1.936364      0.257273  16.000000       9.818182   \n",
       "\n",
       "            Expected Goals  Avg Shot Dist    Margin  Settled Goals agaisnt  \\\n",
       "Team                                                                         \n",
       "Archers          12.741667      10.292910  1.916667               6.916667   \n",
       "Atlas            14.120000      10.225421  0.900000               7.600000   \n",
       "Cannons          14.310000       9.714420 -2.700000               7.200000   \n",
       "Chaos            12.446154      10.431058 -1.307692               7.769231   \n",
       "Chrome           13.180000       9.722711  0.909091               6.636364   \n",
       "Redwoods         12.918182      10.309797 -1.272727               8.454545   \n",
       "Waterdogs        13.816667       9.926386 -0.250000               7.583333   \n",
       "Whipsnakes       14.872727       9.955256  1.727273               6.727273   \n",
       "\n",
       "              Save %      Score     Shot%       W/L  \n",
       "Team                                                 \n",
       "Archers     0.525000  12.500000  0.316763  0.583333  \n",
       "Atlas       0.570000  12.800000  0.312475  0.600000  \n",
       "Cannons     0.510000  11.000000  0.280016  0.100000  \n",
       "Chaos       0.553846  10.000000  0.300193  0.307692  \n",
       "Chrome      0.536364  11.181818  0.304329  0.636364  \n",
       "Redwoods    0.445455  11.090909  0.275028  0.363636  \n",
       "Waterdogs   0.508333  12.500000  0.285345  0.583333  \n",
       "Whipsnakes  0.581818  11.545455  0.270540  0.818182  "
      ]
     },
     "execution_count": 26,
     "metadata": {},
     "output_type": "execute_result"
    }
   ],
   "source": [
    "team2022.groupby('Team').mean()"
   ]
  },
  {
   "cell_type": "code",
   "execution_count": 28,
   "metadata": {},
   "outputs": [
    {
     "data": {
      "text/plain": [
       "120"
      ]
     },
     "execution_count": 28,
     "metadata": {},
     "output_type": "execute_result"
    }
   ],
   "source": [
    "whipsnakes['Goals'].sum()"
   ]
  },
  {
   "cell_type": "code",
   "execution_count": 62,
   "metadata": {},
   "outputs": [
    {
     "data": {
      "text/plain": [
       "142"
      ]
     },
     "execution_count": 62,
     "metadata": {},
     "output_type": "execute_result"
    }
   ],
   "source": [
    "waterdogs['Goals'].sum()"
   ]
  },
  {
   "cell_type": "code",
   "execution_count": 27,
   "metadata": {},
   "outputs": [
    {
     "data": {
      "text/plain": [
       "113"
      ]
     },
     "execution_count": 27,
     "metadata": {},
     "output_type": "execute_result"
    }
   ],
   "source": [
    "redwoods['Goals'].sum()"
   ]
  },
  {
   "cell_type": "markdown",
   "metadata": {},
   "source": [
    "#### Choosing Metrics\n",
    "- Taking a look at season long averages and comparing how the redwoods stacked up to other teams\n",
    "- They were right at 50% possession, no issues there, but their Efficiency was right down at 26% very nearly worst in the league. This will be the first metric to manipulate.\n",
    "- They also had a 45% save % which was worst in the league by far, so that will be the next metric to manipulate.\n",
    "- Finally they were the only team to score less than 1 Fast break goal per game, that will be the final metric in play here. \n",
    "- Efficiency , Save % , FB Goals"
   ]
  },
  {
   "cell_type": "markdown",
   "metadata": {},
   "source": [
    "#### Manipulating Possession Share"
   ]
  },
  {
   "cell_type": "code",
   "execution_count": 31,
   "metadata": {
    "collapsed": true
   },
   "outputs": [
    {
     "name": "stdout",
     "output_type": "stream",
     "text": [
      "1/1 [==============================] - 0s 27ms/step\n"
     ]
    },
    {
     "name": "stderr",
     "output_type": "stream",
     "text": [
      "<ipython-input-5-34d8a6aff0ab>:34: SettingWithCopyWarning: \n",
      "A value is trying to be set on a copy of a slice from a DataFrame.\n",
      "Try using .loc[row_indexer,col_indexer] = value instead\n",
      "\n",
      "See the caveats in the documentation: https://pandas.pydata.org/pandas-docs/stable/user_guide/indexing.html#returning-a-view-versus-a-copy\n",
      "  data[metric] = new\n",
      "<ipython-input-5-34d8a6aff0ab>:34: SettingWithCopyWarning: \n",
      "A value is trying to be set on a copy of a slice from a DataFrame.\n",
      "Try using .loc[row_indexer,col_indexer] = value instead\n",
      "\n",
      "See the caveats in the documentation: https://pandas.pydata.org/pandas-docs/stable/user_guide/indexing.html#returning-a-view-versus-a-copy\n",
      "  data[metric] = new\n",
      "<ipython-input-5-34d8a6aff0ab>:34: SettingWithCopyWarning: \n",
      "A value is trying to be set on a copy of a slice from a DataFrame.\n",
      "Try using .loc[row_indexer,col_indexer] = value instead\n",
      "\n",
      "See the caveats in the documentation: https://pandas.pydata.org/pandas-docs/stable/user_guide/indexing.html#returning-a-view-versus-a-copy\n",
      "  data[metric] = new\n"
     ]
    },
    {
     "name": "stdout",
     "output_type": "stream",
     "text": [
      "1/1 [==============================] - 0s 24ms/step\n"
     ]
    },
    {
     "name": "stderr",
     "output_type": "stream",
     "text": [
      "<ipython-input-5-34d8a6aff0ab>:34: SettingWithCopyWarning: \n",
      "A value is trying to be set on a copy of a slice from a DataFrame.\n",
      "Try using .loc[row_indexer,col_indexer] = value instead\n",
      "\n",
      "See the caveats in the documentation: https://pandas.pydata.org/pandas-docs/stable/user_guide/indexing.html#returning-a-view-versus-a-copy\n",
      "  data[metric] = new\n",
      "<ipython-input-5-34d8a6aff0ab>:34: SettingWithCopyWarning: \n",
      "A value is trying to be set on a copy of a slice from a DataFrame.\n",
      "Try using .loc[row_indexer,col_indexer] = value instead\n",
      "\n",
      "See the caveats in the documentation: https://pandas.pydata.org/pandas-docs/stable/user_guide/indexing.html#returning-a-view-versus-a-copy\n",
      "  data[metric] = new\n",
      "<ipython-input-5-34d8a6aff0ab>:34: SettingWithCopyWarning: \n",
      "A value is trying to be set on a copy of a slice from a DataFrame.\n",
      "Try using .loc[row_indexer,col_indexer] = value instead\n",
      "\n",
      "See the caveats in the documentation: https://pandas.pydata.org/pandas-docs/stable/user_guide/indexing.html#returning-a-view-versus-a-copy\n",
      "  data[metric] = new\n"
     ]
    },
    {
     "name": "stdout",
     "output_type": "stream",
     "text": [
      "1/1 [==============================] - 0s 27ms/step\n"
     ]
    },
    {
     "name": "stderr",
     "output_type": "stream",
     "text": [
      "<ipython-input-5-34d8a6aff0ab>:34: SettingWithCopyWarning: \n",
      "A value is trying to be set on a copy of a slice from a DataFrame.\n",
      "Try using .loc[row_indexer,col_indexer] = value instead\n",
      "\n",
      "See the caveats in the documentation: https://pandas.pydata.org/pandas-docs/stable/user_guide/indexing.html#returning-a-view-versus-a-copy\n",
      "  data[metric] = new\n",
      "<ipython-input-5-34d8a6aff0ab>:34: SettingWithCopyWarning: \n",
      "A value is trying to be set on a copy of a slice from a DataFrame.\n",
      "Try using .loc[row_indexer,col_indexer] = value instead\n",
      "\n",
      "See the caveats in the documentation: https://pandas.pydata.org/pandas-docs/stable/user_guide/indexing.html#returning-a-view-versus-a-copy\n",
      "  data[metric] = new\n",
      "<ipython-input-5-34d8a6aff0ab>:34: SettingWithCopyWarning: \n",
      "A value is trying to be set on a copy of a slice from a DataFrame.\n",
      "Try using .loc[row_indexer,col_indexer] = value instead\n",
      "\n",
      "See the caveats in the documentation: https://pandas.pydata.org/pandas-docs/stable/user_guide/indexing.html#returning-a-view-versus-a-copy\n",
      "  data[metric] = new\n"
     ]
    },
    {
     "name": "stdout",
     "output_type": "stream",
     "text": [
      "1/1 [==============================] - 0s 26ms/step\n"
     ]
    },
    {
     "name": "stderr",
     "output_type": "stream",
     "text": [
      "<ipython-input-5-34d8a6aff0ab>:34: SettingWithCopyWarning: \n",
      "A value is trying to be set on a copy of a slice from a DataFrame.\n",
      "Try using .loc[row_indexer,col_indexer] = value instead\n",
      "\n",
      "See the caveats in the documentation: https://pandas.pydata.org/pandas-docs/stable/user_guide/indexing.html#returning-a-view-versus-a-copy\n",
      "  data[metric] = new\n",
      "<ipython-input-5-34d8a6aff0ab>:34: SettingWithCopyWarning: \n",
      "A value is trying to be set on a copy of a slice from a DataFrame.\n",
      "Try using .loc[row_indexer,col_indexer] = value instead\n",
      "\n",
      "See the caveats in the documentation: https://pandas.pydata.org/pandas-docs/stable/user_guide/indexing.html#returning-a-view-versus-a-copy\n",
      "  data[metric] = new\n",
      "<ipython-input-5-34d8a6aff0ab>:34: SettingWithCopyWarning: \n",
      "A value is trying to be set on a copy of a slice from a DataFrame.\n",
      "Try using .loc[row_indexer,col_indexer] = value instead\n",
      "\n",
      "See the caveats in the documentation: https://pandas.pydata.org/pandas-docs/stable/user_guide/indexing.html#returning-a-view-versus-a-copy\n",
      "  data[metric] = new\n",
      "<ipython-input-5-34d8a6aff0ab>:34: SettingWithCopyWarning: \n",
      "A value is trying to be set on a copy of a slice from a DataFrame.\n",
      "Try using .loc[row_indexer,col_indexer] = value instead\n",
      "\n",
      "See the caveats in the documentation: https://pandas.pydata.org/pandas-docs/stable/user_guide/indexing.html#returning-a-view-versus-a-copy\n",
      "  data[metric] = new\n",
      "<ipython-input-5-34d8a6aff0ab>:34: SettingWithCopyWarning: \n",
      "A value is trying to be set on a copy of a slice from a DataFrame.\n",
      "Try using .loc[row_indexer,col_indexer] = value instead\n",
      "\n",
      "See the caveats in the documentation: https://pandas.pydata.org/pandas-docs/stable/user_guide/indexing.html#returning-a-view-versus-a-copy\n",
      "  data[metric] = new\n",
      "<ipython-input-5-34d8a6aff0ab>:34: SettingWithCopyWarning: \n",
      "A value is trying to be set on a copy of a slice from a DataFrame.\n",
      "Try using .loc[row_indexer,col_indexer] = value instead\n",
      "\n",
      "See the caveats in the documentation: https://pandas.pydata.org/pandas-docs/stable/user_guide/indexing.html#returning-a-view-versus-a-copy\n",
      "  data[metric] = new\n"
     ]
    },
    {
     "name": "stdout",
     "output_type": "stream",
     "text": [
      "1/1 [==============================] - 0s 27ms/step\n",
      "1/1 [==============================] - 0s 25ms/step\n"
     ]
    },
    {
     "name": "stderr",
     "output_type": "stream",
     "text": [
      "<ipython-input-5-34d8a6aff0ab>:34: SettingWithCopyWarning: \n",
      "A value is trying to be set on a copy of a slice from a DataFrame.\n",
      "Try using .loc[row_indexer,col_indexer] = value instead\n",
      "\n",
      "See the caveats in the documentation: https://pandas.pydata.org/pandas-docs/stable/user_guide/indexing.html#returning-a-view-versus-a-copy\n",
      "  data[metric] = new\n",
      "<ipython-input-5-34d8a6aff0ab>:34: SettingWithCopyWarning: \n",
      "A value is trying to be set on a copy of a slice from a DataFrame.\n",
      "Try using .loc[row_indexer,col_indexer] = value instead\n",
      "\n",
      "See the caveats in the documentation: https://pandas.pydata.org/pandas-docs/stable/user_guide/indexing.html#returning-a-view-versus-a-copy\n",
      "  data[metric] = new\n",
      "<ipython-input-5-34d8a6aff0ab>:34: SettingWithCopyWarning: \n",
      "A value is trying to be set on a copy of a slice from a DataFrame.\n",
      "Try using .loc[row_indexer,col_indexer] = value instead\n",
      "\n",
      "See the caveats in the documentation: https://pandas.pydata.org/pandas-docs/stable/user_guide/indexing.html#returning-a-view-versus-a-copy\n",
      "  data[metric] = new\n"
     ]
    },
    {
     "name": "stdout",
     "output_type": "stream",
     "text": [
      "1/1 [==============================] - 0s 26ms/step\n"
     ]
    },
    {
     "name": "stderr",
     "output_type": "stream",
     "text": [
      "<ipython-input-5-34d8a6aff0ab>:34: SettingWithCopyWarning: \n",
      "A value is trying to be set on a copy of a slice from a DataFrame.\n",
      "Try using .loc[row_indexer,col_indexer] = value instead\n",
      "\n",
      "See the caveats in the documentation: https://pandas.pydata.org/pandas-docs/stable/user_guide/indexing.html#returning-a-view-versus-a-copy\n",
      "  data[metric] = new\n",
      "<ipython-input-5-34d8a6aff0ab>:34: SettingWithCopyWarning: \n",
      "A value is trying to be set on a copy of a slice from a DataFrame.\n",
      "Try using .loc[row_indexer,col_indexer] = value instead\n",
      "\n",
      "See the caveats in the documentation: https://pandas.pydata.org/pandas-docs/stable/user_guide/indexing.html#returning-a-view-versus-a-copy\n",
      "  data[metric] = new\n",
      "<ipython-input-5-34d8a6aff0ab>:34: SettingWithCopyWarning: \n",
      "A value is trying to be set on a copy of a slice from a DataFrame.\n",
      "Try using .loc[row_indexer,col_indexer] = value instead\n",
      "\n",
      "See the caveats in the documentation: https://pandas.pydata.org/pandas-docs/stable/user_guide/indexing.html#returning-a-view-versus-a-copy\n",
      "  data[metric] = new\n"
     ]
    },
    {
     "name": "stdout",
     "output_type": "stream",
     "text": [
      "1/1 [==============================] - 0s 25ms/step\n"
     ]
    },
    {
     "name": "stderr",
     "output_type": "stream",
     "text": [
      "<ipython-input-5-34d8a6aff0ab>:34: SettingWithCopyWarning: \n",
      "A value is trying to be set on a copy of a slice from a DataFrame.\n",
      "Try using .loc[row_indexer,col_indexer] = value instead\n",
      "\n",
      "See the caveats in the documentation: https://pandas.pydata.org/pandas-docs/stable/user_guide/indexing.html#returning-a-view-versus-a-copy\n",
      "  data[metric] = new\n",
      "<ipython-input-5-34d8a6aff0ab>:34: SettingWithCopyWarning: \n",
      "A value is trying to be set on a copy of a slice from a DataFrame.\n",
      "Try using .loc[row_indexer,col_indexer] = value instead\n",
      "\n",
      "See the caveats in the documentation: https://pandas.pydata.org/pandas-docs/stable/user_guide/indexing.html#returning-a-view-versus-a-copy\n",
      "  data[metric] = new\n",
      "<ipython-input-5-34d8a6aff0ab>:34: SettingWithCopyWarning: \n",
      "A value is trying to be set on a copy of a slice from a DataFrame.\n",
      "Try using .loc[row_indexer,col_indexer] = value instead\n",
      "\n",
      "See the caveats in the documentation: https://pandas.pydata.org/pandas-docs/stable/user_guide/indexing.html#returning-a-view-versus-a-copy\n",
      "  data[metric] = new\n"
     ]
    },
    {
     "name": "stdout",
     "output_type": "stream",
     "text": [
      "1/1 [==============================] - 0s 26ms/step\n"
     ]
    },
    {
     "name": "stderr",
     "output_type": "stream",
     "text": [
      "<ipython-input-5-34d8a6aff0ab>:34: SettingWithCopyWarning: \n",
      "A value is trying to be set on a copy of a slice from a DataFrame.\n",
      "Try using .loc[row_indexer,col_indexer] = value instead\n",
      "\n",
      "See the caveats in the documentation: https://pandas.pydata.org/pandas-docs/stable/user_guide/indexing.html#returning-a-view-versus-a-copy\n",
      "  data[metric] = new\n",
      "<ipython-input-5-34d8a6aff0ab>:34: SettingWithCopyWarning: \n",
      "A value is trying to be set on a copy of a slice from a DataFrame.\n",
      "Try using .loc[row_indexer,col_indexer] = value instead\n",
      "\n",
      "See the caveats in the documentation: https://pandas.pydata.org/pandas-docs/stable/user_guide/indexing.html#returning-a-view-versus-a-copy\n",
      "  data[metric] = new\n",
      "<ipython-input-5-34d8a6aff0ab>:34: SettingWithCopyWarning: \n",
      "A value is trying to be set on a copy of a slice from a DataFrame.\n",
      "Try using .loc[row_indexer,col_indexer] = value instead\n",
      "\n",
      "See the caveats in the documentation: https://pandas.pydata.org/pandas-docs/stable/user_guide/indexing.html#returning-a-view-versus-a-copy\n",
      "  data[metric] = new\n"
     ]
    },
    {
     "name": "stdout",
     "output_type": "stream",
     "text": [
      "1/1 [==============================] - 0s 25ms/step\n"
     ]
    },
    {
     "name": "stderr",
     "output_type": "stream",
     "text": [
      "<ipython-input-5-34d8a6aff0ab>:34: SettingWithCopyWarning: \n",
      "A value is trying to be set on a copy of a slice from a DataFrame.\n",
      "Try using .loc[row_indexer,col_indexer] = value instead\n",
      "\n",
      "See the caveats in the documentation: https://pandas.pydata.org/pandas-docs/stable/user_guide/indexing.html#returning-a-view-versus-a-copy\n",
      "  data[metric] = new\n",
      "<ipython-input-5-34d8a6aff0ab>:34: SettingWithCopyWarning: \n",
      "A value is trying to be set on a copy of a slice from a DataFrame.\n",
      "Try using .loc[row_indexer,col_indexer] = value instead\n",
      "\n",
      "See the caveats in the documentation: https://pandas.pydata.org/pandas-docs/stable/user_guide/indexing.html#returning-a-view-versus-a-copy\n",
      "  data[metric] = new\n",
      "<ipython-input-5-34d8a6aff0ab>:34: SettingWithCopyWarning: \n",
      "A value is trying to be set on a copy of a slice from a DataFrame.\n",
      "Try using .loc[row_indexer,col_indexer] = value instead\n",
      "\n",
      "See the caveats in the documentation: https://pandas.pydata.org/pandas-docs/stable/user_guide/indexing.html#returning-a-view-versus-a-copy\n",
      "  data[metric] = new\n"
     ]
    },
    {
     "name": "stdout",
     "output_type": "stream",
     "text": [
      "1/1 [==============================] - 0s 27ms/step\n"
     ]
    },
    {
     "name": "stderr",
     "output_type": "stream",
     "text": [
      "<ipython-input-5-34d8a6aff0ab>:34: SettingWithCopyWarning: \n",
      "A value is trying to be set on a copy of a slice from a DataFrame.\n",
      "Try using .loc[row_indexer,col_indexer] = value instead\n",
      "\n",
      "See the caveats in the documentation: https://pandas.pydata.org/pandas-docs/stable/user_guide/indexing.html#returning-a-view-versus-a-copy\n",
      "  data[metric] = new\n",
      "<ipython-input-5-34d8a6aff0ab>:34: SettingWithCopyWarning: \n",
      "A value is trying to be set on a copy of a slice from a DataFrame.\n",
      "Try using .loc[row_indexer,col_indexer] = value instead\n",
      "\n",
      "See the caveats in the documentation: https://pandas.pydata.org/pandas-docs/stable/user_guide/indexing.html#returning-a-view-versus-a-copy\n",
      "  data[metric] = new\n",
      "<ipython-input-5-34d8a6aff0ab>:34: SettingWithCopyWarning: \n",
      "A value is trying to be set on a copy of a slice from a DataFrame.\n",
      "Try using .loc[row_indexer,col_indexer] = value instead\n",
      "\n",
      "See the caveats in the documentation: https://pandas.pydata.org/pandas-docs/stable/user_guide/indexing.html#returning-a-view-versus-a-copy\n",
      "  data[metric] = new\n"
     ]
    }
   ],
   "source": [
    "lists = [\n",
    "        [0.25, 0.44 , 0.90],\n",
    "        [0.26, 0.44 , 0.90],\n",
    "        [0.27, 0.44 , 0.90],\n",
    "        [0.28, 0.44 , 0.90],\n",
    "        [0.29, 0.44 , 0.90],\n",
    "        [0.30, 0.44 , 0.90],\n",
    "        [0.31, 0.44 , 0.90],\n",
    "        [0.32, 0.44 , 0.90],\n",
    "        [0.33, 0.44 , 0.90],\n",
    "        [0.34, 0.44 , 0.90],\n",
    "        [0.35, 0.44 , 0.90]]\n",
    "index = pd.DataFrame(lists, columns = ['eff', 'sav' , 'fb'])\n",
    "\n",
    "run = [0,1,2,3,4,5,6,7,8,9,10]\n",
    "\n",
    "result = list()\n",
    "for i in run:\n",
    "    w = project(archers , 'Efficiency' , index['eff'][i] , 'Save %', index['sav'][i] , 'FB Goals' , index['fb'][i])\n",
    "    result.append(w)"
   ]
  },
  {
   "cell_type": "code",
   "execution_count": 32,
   "metadata": {},
   "outputs": [
    {
     "data": {
      "text/html": [
       "<div>\n",
       "<style scoped>\n",
       "    .dataframe tbody tr th:only-of-type {\n",
       "        vertical-align: middle;\n",
       "    }\n",
       "\n",
       "    .dataframe tbody tr th {\n",
       "        vertical-align: top;\n",
       "    }\n",
       "\n",
       "    .dataframe thead th {\n",
       "        text-align: right;\n",
       "    }\n",
       "</style>\n",
       "<table border=\"1\" class=\"dataframe\">\n",
       "  <thead>\n",
       "    <tr style=\"text-align: right;\">\n",
       "      <th></th>\n",
       "      <th>eff</th>\n",
       "      <th>sav</th>\n",
       "      <th>fb</th>\n",
       "      <th>Prediction</th>\n",
       "    </tr>\n",
       "  </thead>\n",
       "  <tbody>\n",
       "    <tr>\n",
       "      <th>0</th>\n",
       "      <td>0.25</td>\n",
       "      <td>0.44</td>\n",
       "      <td>0.9</td>\n",
       "      <td>151.52420</td>\n",
       "    </tr>\n",
       "    <tr>\n",
       "      <th>1</th>\n",
       "      <td>0.26</td>\n",
       "      <td>0.44</td>\n",
       "      <td>0.9</td>\n",
       "      <td>158.02977</td>\n",
       "    </tr>\n",
       "    <tr>\n",
       "      <th>2</th>\n",
       "      <td>0.27</td>\n",
       "      <td>0.44</td>\n",
       "      <td>0.9</td>\n",
       "      <td>151.52420</td>\n",
       "    </tr>\n",
       "    <tr>\n",
       "      <th>3</th>\n",
       "      <td>0.28</td>\n",
       "      <td>0.44</td>\n",
       "      <td>0.9</td>\n",
       "      <td>145.32785</td>\n",
       "    </tr>\n",
       "    <tr>\n",
       "      <th>4</th>\n",
       "      <td>0.29</td>\n",
       "      <td>0.44</td>\n",
       "      <td>0.9</td>\n",
       "      <td>151.52420</td>\n",
       "    </tr>\n",
       "    <tr>\n",
       "      <th>5</th>\n",
       "      <td>0.30</td>\n",
       "      <td>0.44</td>\n",
       "      <td>0.9</td>\n",
       "      <td>158.02977</td>\n",
       "    </tr>\n",
       "    <tr>\n",
       "      <th>6</th>\n",
       "      <td>0.31</td>\n",
       "      <td>0.44</td>\n",
       "      <td>0.9</td>\n",
       "      <td>151.52420</td>\n",
       "    </tr>\n",
       "    <tr>\n",
       "      <th>7</th>\n",
       "      <td>0.32</td>\n",
       "      <td>0.44</td>\n",
       "      <td>0.9</td>\n",
       "      <td>158.02977</td>\n",
       "    </tr>\n",
       "    <tr>\n",
       "      <th>8</th>\n",
       "      <td>0.33</td>\n",
       "      <td>0.44</td>\n",
       "      <td>0.9</td>\n",
       "      <td>151.52420</td>\n",
       "    </tr>\n",
       "    <tr>\n",
       "      <th>9</th>\n",
       "      <td>0.34</td>\n",
       "      <td>0.44</td>\n",
       "      <td>0.9</td>\n",
       "      <td>151.52420</td>\n",
       "    </tr>\n",
       "    <tr>\n",
       "      <th>10</th>\n",
       "      <td>0.35</td>\n",
       "      <td>0.44</td>\n",
       "      <td>0.9</td>\n",
       "      <td>145.32785</td>\n",
       "    </tr>\n",
       "  </tbody>\n",
       "</table>\n",
       "</div>"
      ],
      "text/plain": [
       "     eff   sav   fb  Prediction\n",
       "0   0.25  0.44  0.9   151.52420\n",
       "1   0.26  0.44  0.9   158.02977\n",
       "2   0.27  0.44  0.9   151.52420\n",
       "3   0.28  0.44  0.9   145.32785\n",
       "4   0.29  0.44  0.9   151.52420\n",
       "5   0.30  0.44  0.9   158.02977\n",
       "6   0.31  0.44  0.9   151.52420\n",
       "7   0.32  0.44  0.9   158.02977\n",
       "8   0.33  0.44  0.9   151.52420\n",
       "9   0.34  0.44  0.9   151.52420\n",
       "10  0.35  0.44  0.9   145.32785"
      ]
     },
     "execution_count": 32,
     "metadata": {},
     "output_type": "execute_result"
    }
   ],
   "source": [
    "index['Prediction'] = result\n",
    "index"
   ]
  },
  {
   "cell_type": "code",
   "execution_count": 39,
   "metadata": {},
   "outputs": [],
   "source": [
    "def deepplot(index , x , title):\n",
    "    \n",
    "    fig, ax = plt.subplots()\n",
    "\n",
    "\n",
    "    x = index[x]\n",
    "    y = index['Prediction']\n",
    "\n",
    "    ax.plot(x,y, c = 'black')\n",
    "\n",
    "\n",
    "    ax.set_title(title)\n",
    "    ax.set_xlabel('Efficiency')\n",
    "    ax.set_ylabel('Prediction')\n",
    "    \n",
    "    \n",
    "    plt.ylim([120, 160])\n",
    "    plt.xlim([x.min(),x.max()])\n",
    "\n",
    "    plt.show()"
   ]
  },
  {
   "cell_type": "code",
   "execution_count": 40,
   "metadata": {},
   "outputs": [
    {
     "data": {
      "image/png": "[encoded data removed]",
      "text/plain": [
       "<Figure size 432x288 with 1 Axes>"
      ]
     },
     "metadata": {
      "needs_background": "light"
     },
     "output_type": "display_data"
    }
   ],
   "source": [
    "deepplot(index , 'eff' , 'Efficiency vs. Predicted Goal Totals')"
   ]
  },
  {
   "cell_type": "markdown",
   "metadata": {},
   "source": [
    "#### Efficiency Share Summary \n",
    "\n",
    "- Predictions varied here with results diminishing after 34%\n",
    "- We will stick with 30% here, it is an impressive goal for the team to reach, but attainable in theory"
   ]
  },
  {
   "cell_type": "markdown",
   "metadata": {},
   "source": [
    "#### Manipulating Save %"
   ]
  },
  {
   "cell_type": "code",
   "execution_count": 41,
   "metadata": {
    "collapsed": true
   },
   "outputs": [
    {
     "name": "stdout",
     "output_type": "stream",
     "text": [
      "1/1 [==============================] - 0s 33ms/step\n"
     ]
    },
    {
     "name": "stderr",
     "output_type": "stream",
     "text": [
      "<ipython-input-5-34d8a6aff0ab>:34: SettingWithCopyWarning: \n",
      "A value is trying to be set on a copy of a slice from a DataFrame.\n",
      "Try using .loc[row_indexer,col_indexer] = value instead\n",
      "\n",
      "See the caveats in the documentation: https://pandas.pydata.org/pandas-docs/stable/user_guide/indexing.html#returning-a-view-versus-a-copy\n",
      "  data[metric] = new\n",
      "<ipython-input-5-34d8a6aff0ab>:34: SettingWithCopyWarning: \n",
      "A value is trying to be set on a copy of a slice from a DataFrame.\n",
      "Try using .loc[row_indexer,col_indexer] = value instead\n",
      "\n",
      "See the caveats in the documentation: https://pandas.pydata.org/pandas-docs/stable/user_guide/indexing.html#returning-a-view-versus-a-copy\n",
      "  data[metric] = new\n",
      "<ipython-input-5-34d8a6aff0ab>:34: SettingWithCopyWarning: \n",
      "A value is trying to be set on a copy of a slice from a DataFrame.\n",
      "Try using .loc[row_indexer,col_indexer] = value instead\n",
      "\n",
      "See the caveats in the documentation: https://pandas.pydata.org/pandas-docs/stable/user_guide/indexing.html#returning-a-view-versus-a-copy\n",
      "  data[metric] = new\n"
     ]
    },
    {
     "name": "stdout",
     "output_type": "stream",
     "text": [
      "1/1 [==============================] - 0s 25ms/step\n"
     ]
    },
    {
     "name": "stderr",
     "output_type": "stream",
     "text": [
      "<ipython-input-5-34d8a6aff0ab>:34: SettingWithCopyWarning: \n",
      "A value is trying to be set on a copy of a slice from a DataFrame.\n",
      "Try using .loc[row_indexer,col_indexer] = value instead\n",
      "\n",
      "See the caveats in the documentation: https://pandas.pydata.org/pandas-docs/stable/user_guide/indexing.html#returning-a-view-versus-a-copy\n",
      "  data[metric] = new\n",
      "<ipython-input-5-34d8a6aff0ab>:34: SettingWithCopyWarning: \n",
      "A value is trying to be set on a copy of a slice from a DataFrame.\n",
      "Try using .loc[row_indexer,col_indexer] = value instead\n",
      "\n",
      "See the caveats in the documentation: https://pandas.pydata.org/pandas-docs/stable/user_guide/indexing.html#returning-a-view-versus-a-copy\n",
      "  data[metric] = new\n",
      "<ipython-input-5-34d8a6aff0ab>:34: SettingWithCopyWarning: \n",
      "A value is trying to be set on a copy of a slice from a DataFrame.\n",
      "Try using .loc[row_indexer,col_indexer] = value instead\n",
      "\n",
      "See the caveats in the documentation: https://pandas.pydata.org/pandas-docs/stable/user_guide/indexing.html#returning-a-view-versus-a-copy\n",
      "  data[metric] = new\n"
     ]
    },
    {
     "name": "stdout",
     "output_type": "stream",
     "text": [
      "1/1 [==============================] - 0s 25ms/step\n"
     ]
    },
    {
     "name": "stderr",
     "output_type": "stream",
     "text": [
      "<ipython-input-5-34d8a6aff0ab>:34: SettingWithCopyWarning: \n",
      "A value is trying to be set on a copy of a slice from a DataFrame.\n",
      "Try using .loc[row_indexer,col_indexer] = value instead\n",
      "\n",
      "See the caveats in the documentation: https://pandas.pydata.org/pandas-docs/stable/user_guide/indexing.html#returning-a-view-versus-a-copy\n",
      "  data[metric] = new\n",
      "<ipython-input-5-34d8a6aff0ab>:34: SettingWithCopyWarning: \n",
      "A value is trying to be set on a copy of a slice from a DataFrame.\n",
      "Try using .loc[row_indexer,col_indexer] = value instead\n",
      "\n",
      "See the caveats in the documentation: https://pandas.pydata.org/pandas-docs/stable/user_guide/indexing.html#returning-a-view-versus-a-copy\n",
      "  data[metric] = new\n",
      "<ipython-input-5-34d8a6aff0ab>:34: SettingWithCopyWarning: \n",
      "A value is trying to be set on a copy of a slice from a DataFrame.\n",
      "Try using .loc[row_indexer,col_indexer] = value instead\n",
      "\n",
      "See the caveats in the documentation: https://pandas.pydata.org/pandas-docs/stable/user_guide/indexing.html#returning-a-view-versus-a-copy\n",
      "  data[metric] = new\n"
     ]
    },
    {
     "name": "stdout",
     "output_type": "stream",
     "text": [
      "1/1 [==============================] - 0s 27ms/step\n"
     ]
    },
    {
     "name": "stderr",
     "output_type": "stream",
     "text": [
      "<ipython-input-5-34d8a6aff0ab>:34: SettingWithCopyWarning: \n",
      "A value is trying to be set on a copy of a slice from a DataFrame.\n",
      "Try using .loc[row_indexer,col_indexer] = value instead\n",
      "\n",
      "See the caveats in the documentation: https://pandas.pydata.org/pandas-docs/stable/user_guide/indexing.html#returning-a-view-versus-a-copy\n",
      "  data[metric] = new\n",
      "<ipython-input-5-34d8a6aff0ab>:34: SettingWithCopyWarning: \n",
      "A value is trying to be set on a copy of a slice from a DataFrame.\n",
      "Try using .loc[row_indexer,col_indexer] = value instead\n",
      "\n",
      "See the caveats in the documentation: https://pandas.pydata.org/pandas-docs/stable/user_guide/indexing.html#returning-a-view-versus-a-copy\n",
      "  data[metric] = new\n",
      "<ipython-input-5-34d8a6aff0ab>:34: SettingWithCopyWarning: \n",
      "A value is trying to be set on a copy of a slice from a DataFrame.\n",
      "Try using .loc[row_indexer,col_indexer] = value instead\n",
      "\n",
      "See the caveats in the documentation: https://pandas.pydata.org/pandas-docs/stable/user_guide/indexing.html#returning-a-view-versus-a-copy\n",
      "  data[metric] = new\n",
      "<ipython-input-5-34d8a6aff0ab>:34: SettingWithCopyWarning: \n",
      "A value is trying to be set on a copy of a slice from a DataFrame.\n",
      "Try using .loc[row_indexer,col_indexer] = value instead\n",
      "\n",
      "See the caveats in the documentation: https://pandas.pydata.org/pandas-docs/stable/user_guide/indexing.html#returning-a-view-versus-a-copy\n",
      "  data[metric] = new\n",
      "<ipython-input-5-34d8a6aff0ab>:34: SettingWithCopyWarning: \n",
      "A value is trying to be set on a copy of a slice from a DataFrame.\n",
      "Try using .loc[row_indexer,col_indexer] = value instead\n",
      "\n",
      "See the caveats in the documentation: https://pandas.pydata.org/pandas-docs/stable/user_guide/indexing.html#returning-a-view-versus-a-copy\n",
      "  data[metric] = new\n",
      "<ipython-input-5-34d8a6aff0ab>:34: SettingWithCopyWarning: \n",
      "A value is trying to be set on a copy of a slice from a DataFrame.\n",
      "Try using .loc[row_indexer,col_indexer] = value instead\n",
      "\n",
      "See the caveats in the documentation: https://pandas.pydata.org/pandas-docs/stable/user_guide/indexing.html#returning-a-view-versus-a-copy\n",
      "  data[metric] = new\n"
     ]
    },
    {
     "name": "stdout",
     "output_type": "stream",
     "text": [
      "1/1 [==============================] - 0s 27ms/step\n",
      "1/1 [==============================] - 0s 27ms/step\n"
     ]
    },
    {
     "name": "stderr",
     "output_type": "stream",
     "text": [
      "<ipython-input-5-34d8a6aff0ab>:34: SettingWithCopyWarning: \n",
      "A value is trying to be set on a copy of a slice from a DataFrame.\n",
      "Try using .loc[row_indexer,col_indexer] = value instead\n",
      "\n",
      "See the caveats in the documentation: https://pandas.pydata.org/pandas-docs/stable/user_guide/indexing.html#returning-a-view-versus-a-copy\n",
      "  data[metric] = new\n",
      "<ipython-input-5-34d8a6aff0ab>:34: SettingWithCopyWarning: \n",
      "A value is trying to be set on a copy of a slice from a DataFrame.\n",
      "Try using .loc[row_indexer,col_indexer] = value instead\n",
      "\n",
      "See the caveats in the documentation: https://pandas.pydata.org/pandas-docs/stable/user_guide/indexing.html#returning-a-view-versus-a-copy\n",
      "  data[metric] = new\n",
      "<ipython-input-5-34d8a6aff0ab>:34: SettingWithCopyWarning: \n",
      "A value is trying to be set on a copy of a slice from a DataFrame.\n",
      "Try using .loc[row_indexer,col_indexer] = value instead\n",
      "\n",
      "See the caveats in the documentation: https://pandas.pydata.org/pandas-docs/stable/user_guide/indexing.html#returning-a-view-versus-a-copy\n",
      "  data[metric] = new\n"
     ]
    },
    {
     "name": "stdout",
     "output_type": "stream",
     "text": [
      "1/1 [==============================] - 0s 29ms/step\n"
     ]
    },
    {
     "name": "stderr",
     "output_type": "stream",
     "text": [
      "<ipython-input-5-34d8a6aff0ab>:34: SettingWithCopyWarning: \n",
      "A value is trying to be set on a copy of a slice from a DataFrame.\n",
      "Try using .loc[row_indexer,col_indexer] = value instead\n",
      "\n",
      "See the caveats in the documentation: https://pandas.pydata.org/pandas-docs/stable/user_guide/indexing.html#returning-a-view-versus-a-copy\n",
      "  data[metric] = new\n",
      "<ipython-input-5-34d8a6aff0ab>:34: SettingWithCopyWarning: \n",
      "A value is trying to be set on a copy of a slice from a DataFrame.\n",
      "Try using .loc[row_indexer,col_indexer] = value instead\n",
      "\n",
      "See the caveats in the documentation: https://pandas.pydata.org/pandas-docs/stable/user_guide/indexing.html#returning-a-view-versus-a-copy\n",
      "  data[metric] = new\n",
      "<ipython-input-5-34d8a6aff0ab>:34: SettingWithCopyWarning: \n",
      "A value is trying to be set on a copy of a slice from a DataFrame.\n",
      "Try using .loc[row_indexer,col_indexer] = value instead\n",
      "\n",
      "See the caveats in the documentation: https://pandas.pydata.org/pandas-docs/stable/user_guide/indexing.html#returning-a-view-versus-a-copy\n",
      "  data[metric] = new\n"
     ]
    },
    {
     "name": "stdout",
     "output_type": "stream",
     "text": [
      "1/1 [==============================] - 0s 29ms/step\n"
     ]
    },
    {
     "name": "stderr",
     "output_type": "stream",
     "text": [
      "<ipython-input-5-34d8a6aff0ab>:34: SettingWithCopyWarning: \n",
      "A value is trying to be set on a copy of a slice from a DataFrame.\n",
      "Try using .loc[row_indexer,col_indexer] = value instead\n",
      "\n",
      "See the caveats in the documentation: https://pandas.pydata.org/pandas-docs/stable/user_guide/indexing.html#returning-a-view-versus-a-copy\n",
      "  data[metric] = new\n",
      "<ipython-input-5-34d8a6aff0ab>:34: SettingWithCopyWarning: \n",
      "A value is trying to be set on a copy of a slice from a DataFrame.\n",
      "Try using .loc[row_indexer,col_indexer] = value instead\n",
      "\n",
      "See the caveats in the documentation: https://pandas.pydata.org/pandas-docs/stable/user_guide/indexing.html#returning-a-view-versus-a-copy\n",
      "  data[metric] = new\n",
      "<ipython-input-5-34d8a6aff0ab>:34: SettingWithCopyWarning: \n",
      "A value is trying to be set on a copy of a slice from a DataFrame.\n",
      "Try using .loc[row_indexer,col_indexer] = value instead\n",
      "\n",
      "See the caveats in the documentation: https://pandas.pydata.org/pandas-docs/stable/user_guide/indexing.html#returning-a-view-versus-a-copy\n",
      "  data[metric] = new\n"
     ]
    },
    {
     "name": "stdout",
     "output_type": "stream",
     "text": [
      "1/1 [==============================] - 0s 25ms/step\n"
     ]
    },
    {
     "name": "stderr",
     "output_type": "stream",
     "text": [
      "<ipython-input-5-34d8a6aff0ab>:34: SettingWithCopyWarning: \n",
      "A value is trying to be set on a copy of a slice from a DataFrame.\n",
      "Try using .loc[row_indexer,col_indexer] = value instead\n",
      "\n",
      "See the caveats in the documentation: https://pandas.pydata.org/pandas-docs/stable/user_guide/indexing.html#returning-a-view-versus-a-copy\n",
      "  data[metric] = new\n",
      "<ipython-input-5-34d8a6aff0ab>:34: SettingWithCopyWarning: \n",
      "A value is trying to be set on a copy of a slice from a DataFrame.\n",
      "Try using .loc[row_indexer,col_indexer] = value instead\n",
      "\n",
      "See the caveats in the documentation: https://pandas.pydata.org/pandas-docs/stable/user_guide/indexing.html#returning-a-view-versus-a-copy\n",
      "  data[metric] = new\n",
      "<ipython-input-5-34d8a6aff0ab>:34: SettingWithCopyWarning: \n",
      "A value is trying to be set on a copy of a slice from a DataFrame.\n",
      "Try using .loc[row_indexer,col_indexer] = value instead\n",
      "\n",
      "See the caveats in the documentation: https://pandas.pydata.org/pandas-docs/stable/user_guide/indexing.html#returning-a-view-versus-a-copy\n",
      "  data[metric] = new\n"
     ]
    },
    {
     "name": "stdout",
     "output_type": "stream",
     "text": [
      "1/1 [==============================] - 0s 26ms/step\n"
     ]
    },
    {
     "name": "stderr",
     "output_type": "stream",
     "text": [
      "<ipython-input-5-34d8a6aff0ab>:34: SettingWithCopyWarning: \n",
      "A value is trying to be set on a copy of a slice from a DataFrame.\n",
      "Try using .loc[row_indexer,col_indexer] = value instead\n",
      "\n",
      "See the caveats in the documentation: https://pandas.pydata.org/pandas-docs/stable/user_guide/indexing.html#returning-a-view-versus-a-copy\n",
      "  data[metric] = new\n",
      "<ipython-input-5-34d8a6aff0ab>:34: SettingWithCopyWarning: \n",
      "A value is trying to be set on a copy of a slice from a DataFrame.\n",
      "Try using .loc[row_indexer,col_indexer] = value instead\n",
      "\n",
      "See the caveats in the documentation: https://pandas.pydata.org/pandas-docs/stable/user_guide/indexing.html#returning-a-view-versus-a-copy\n",
      "  data[metric] = new\n",
      "<ipython-input-5-34d8a6aff0ab>:34: SettingWithCopyWarning: \n",
      "A value is trying to be set on a copy of a slice from a DataFrame.\n",
      "Try using .loc[row_indexer,col_indexer] = value instead\n",
      "\n",
      "See the caveats in the documentation: https://pandas.pydata.org/pandas-docs/stable/user_guide/indexing.html#returning-a-view-versus-a-copy\n",
      "  data[metric] = new\n"
     ]
    },
    {
     "name": "stdout",
     "output_type": "stream",
     "text": [
      "1/1 [==============================] - 0s 27ms/step\n"
     ]
    },
    {
     "name": "stderr",
     "output_type": "stream",
     "text": [
      "<ipython-input-5-34d8a6aff0ab>:34: SettingWithCopyWarning: \n",
      "A value is trying to be set on a copy of a slice from a DataFrame.\n",
      "Try using .loc[row_indexer,col_indexer] = value instead\n",
      "\n",
      "See the caveats in the documentation: https://pandas.pydata.org/pandas-docs/stable/user_guide/indexing.html#returning-a-view-versus-a-copy\n",
      "  data[metric] = new\n",
      "<ipython-input-5-34d8a6aff0ab>:34: SettingWithCopyWarning: \n",
      "A value is trying to be set on a copy of a slice from a DataFrame.\n",
      "Try using .loc[row_indexer,col_indexer] = value instead\n",
      "\n",
      "See the caveats in the documentation: https://pandas.pydata.org/pandas-docs/stable/user_guide/indexing.html#returning-a-view-versus-a-copy\n",
      "  data[metric] = new\n",
      "<ipython-input-5-34d8a6aff0ab>:34: SettingWithCopyWarning: \n",
      "A value is trying to be set on a copy of a slice from a DataFrame.\n",
      "Try using .loc[row_indexer,col_indexer] = value instead\n",
      "\n",
      "See the caveats in the documentation: https://pandas.pydata.org/pandas-docs/stable/user_guide/indexing.html#returning-a-view-versus-a-copy\n",
      "  data[metric] = new\n"
     ]
    }
   ],
   "source": [
    "lists = [\n",
    "        [0.30, 0.44 , 0.90],\n",
    "        [0.30, 0.45 , 0.90],\n",
    "        [0.30, 0.46 , 0.90],\n",
    "        [0.30, 0.47 , 0.90],\n",
    "        [0.30, 0.48 , 0.90],\n",
    "        [0.30, 0.49 , 0.90],\n",
    "        [0.30, 0.50 , 0.90],\n",
    "        [0.30, 0.51 , 0.90],\n",
    "        [0.30, 0.52 , 0.90],\n",
    "        [0.30, 0.53 , 0.90],\n",
    "        [0.30, 0.54 , 0.90]]\n",
    "index = pd.DataFrame(lists, columns = ['eff', 'sav' , 'fb'])\n",
    "\n",
    "run = [0,1,2,3,4,5,6,7,8,9,10]\n",
    "\n",
    "result = list()\n",
    "for i in run:\n",
    "    w = project(archers , 'Efficiency' , index['eff'][i] , 'Save %', index['sav'][i] , 'FB Goals' , index['fb'][i])\n",
    "    result.append(w)"
   ]
  },
  {
   "cell_type": "code",
   "execution_count": 42,
   "metadata": {},
   "outputs": [
    {
     "data": {
      "text/html": [
       "<div>\n",
       "<style scoped>\n",
       "    .dataframe tbody tr th:only-of-type {\n",
       "        vertical-align: middle;\n",
       "    }\n",
       "\n",
       "    .dataframe tbody tr th {\n",
       "        vertical-align: top;\n",
       "    }\n",
       "\n",
       "    .dataframe thead th {\n",
       "        text-align: right;\n",
       "    }\n",
       "</style>\n",
       "<table border=\"1\" class=\"dataframe\">\n",
       "  <thead>\n",
       "    <tr style=\"text-align: right;\">\n",
       "      <th></th>\n",
       "      <th>eff</th>\n",
       "      <th>sav</th>\n",
       "      <th>fb</th>\n",
       "      <th>Prediction</th>\n",
       "    </tr>\n",
       "  </thead>\n",
       "  <tbody>\n",
       "    <tr>\n",
       "      <th>0</th>\n",
       "      <td>0.3</td>\n",
       "      <td>0.44</td>\n",
       "      <td>0.9</td>\n",
       "      <td>158.029770</td>\n",
       "    </tr>\n",
       "    <tr>\n",
       "      <th>1</th>\n",
       "      <td>0.3</td>\n",
       "      <td>0.45</td>\n",
       "      <td>0.9</td>\n",
       "      <td>153.124405</td>\n",
       "    </tr>\n",
       "    <tr>\n",
       "      <th>2</th>\n",
       "      <td>0.3</td>\n",
       "      <td>0.46</td>\n",
       "      <td>0.9</td>\n",
       "      <td>153.124405</td>\n",
       "    </tr>\n",
       "    <tr>\n",
       "      <th>3</th>\n",
       "      <td>0.3</td>\n",
       "      <td>0.47</td>\n",
       "      <td>0.9</td>\n",
       "      <td>151.305496</td>\n",
       "    </tr>\n",
       "    <tr>\n",
       "      <th>4</th>\n",
       "      <td>0.3</td>\n",
       "      <td>0.48</td>\n",
       "      <td>0.9</td>\n",
       "      <td>158.029770</td>\n",
       "    </tr>\n",
       "    <tr>\n",
       "      <th>5</th>\n",
       "      <td>0.3</td>\n",
       "      <td>0.49</td>\n",
       "      <td>0.9</td>\n",
       "      <td>158.029770</td>\n",
       "    </tr>\n",
       "    <tr>\n",
       "      <th>6</th>\n",
       "      <td>0.3</td>\n",
       "      <td>0.50</td>\n",
       "      <td>0.9</td>\n",
       "      <td>153.124405</td>\n",
       "    </tr>\n",
       "    <tr>\n",
       "      <th>7</th>\n",
       "      <td>0.3</td>\n",
       "      <td>0.51</td>\n",
       "      <td>0.9</td>\n",
       "      <td>151.305496</td>\n",
       "    </tr>\n",
       "    <tr>\n",
       "      <th>8</th>\n",
       "      <td>0.3</td>\n",
       "      <td>0.52</td>\n",
       "      <td>0.9</td>\n",
       "      <td>151.305496</td>\n",
       "    </tr>\n",
       "    <tr>\n",
       "      <th>9</th>\n",
       "      <td>0.3</td>\n",
       "      <td>0.53</td>\n",
       "      <td>0.9</td>\n",
       "      <td>158.029770</td>\n",
       "    </tr>\n",
       "    <tr>\n",
       "      <th>10</th>\n",
       "      <td>0.3</td>\n",
       "      <td>0.54</td>\n",
       "      <td>0.9</td>\n",
       "      <td>153.124405</td>\n",
       "    </tr>\n",
       "  </tbody>\n",
       "</table>\n",
       "</div>"
      ],
      "text/plain": [
       "    eff   sav   fb  Prediction\n",
       "0   0.3  0.44  0.9  158.029770\n",
       "1   0.3  0.45  0.9  153.124405\n",
       "2   0.3  0.46  0.9  153.124405\n",
       "3   0.3  0.47  0.9  151.305496\n",
       "4   0.3  0.48  0.9  158.029770\n",
       "5   0.3  0.49  0.9  158.029770\n",
       "6   0.3  0.50  0.9  153.124405\n",
       "7   0.3  0.51  0.9  151.305496\n",
       "8   0.3  0.52  0.9  151.305496\n",
       "9   0.3  0.53  0.9  158.029770\n",
       "10  0.3  0.54  0.9  153.124405"
      ]
     },
     "execution_count": 42,
     "metadata": {},
     "output_type": "execute_result"
    }
   ],
   "source": [
    "index['Prediction'] = result\n",
    "index"
   ]
  },
  {
   "cell_type": "code",
   "execution_count": 43,
   "metadata": {},
   "outputs": [],
   "source": [
    "def deepplot(index , x , title):\n",
    "    \n",
    "    fig, ax = plt.subplots()\n",
    "\n",
    "\n",
    "    x = index[x]\n",
    "    y = index['Prediction']\n",
    "\n",
    "    ax.plot(x,y, c = 'black')\n",
    "\n",
    "\n",
    "    ax.set_title(title)\n",
    "    ax.set_xlabel('Save %')\n",
    "    ax.set_ylabel('Prediction')\n",
    "    \n",
    "    \n",
    "    plt.ylim([140, 160])\n",
    "    plt.xlim([x.min(),x.max()])\n",
    "\n",
    "    plt.show()"
   ]
  },
  {
   "cell_type": "code",
   "execution_count": 45,
   "metadata": {},
   "outputs": [
    {
     "data": {
      "image/png": "[encoded data removed]",
      "text/plain": [
       "<Figure size 432x288 with 1 Axes>"
      ]
     },
     "metadata": {
      "needs_background": "light"
     },
     "output_type": "display_data"
    }
   ],
   "source": [
    "deepplot(index , 'sav' , 'Save % vs. Predicted Goal Totals')"
   ]
  },
  {
   "cell_type": "markdown",
   "metadata": {},
   "source": [
    "#### Save % Summary\n",
    "\n",
    "- Looking at the graph we see a lot of realistic upside between 48% and 50%\n",
    "- we will choose the most attainable target in this instance that provides high upside according to the predictions.\n",
    "- 49% going forward"
   ]
  },
  {
   "cell_type": "markdown",
   "metadata": {},
   "source": [
    "#### Manipulating Fast Break Goals"
   ]
  },
  {
   "cell_type": "code",
   "execution_count": 46,
   "metadata": {
    "collapsed": true
   },
   "outputs": [
    {
     "name": "stdout",
     "output_type": "stream",
     "text": [
      "1/1 [==============================] - 0s 27ms/step\n"
     ]
    },
    {
     "name": "stderr",
     "output_type": "stream",
     "text": [
      "<ipython-input-5-34d8a6aff0ab>:34: SettingWithCopyWarning: \n",
      "A value is trying to be set on a copy of a slice from a DataFrame.\n",
      "Try using .loc[row_indexer,col_indexer] = value instead\n",
      "\n",
      "See the caveats in the documentation: https://pandas.pydata.org/pandas-docs/stable/user_guide/indexing.html#returning-a-view-versus-a-copy\n",
      "  data[metric] = new\n",
      "<ipython-input-5-34d8a6aff0ab>:34: SettingWithCopyWarning: \n",
      "A value is trying to be set on a copy of a slice from a DataFrame.\n",
      "Try using .loc[row_indexer,col_indexer] = value instead\n",
      "\n",
      "See the caveats in the documentation: https://pandas.pydata.org/pandas-docs/stable/user_guide/indexing.html#returning-a-view-versus-a-copy\n",
      "  data[metric] = new\n",
      "<ipython-input-5-34d8a6aff0ab>:34: SettingWithCopyWarning: \n",
      "A value is trying to be set on a copy of a slice from a DataFrame.\n",
      "Try using .loc[row_indexer,col_indexer] = value instead\n",
      "\n",
      "See the caveats in the documentation: https://pandas.pydata.org/pandas-docs/stable/user_guide/indexing.html#returning-a-view-versus-a-copy\n",
      "  data[metric] = new\n"
     ]
    },
    {
     "name": "stdout",
     "output_type": "stream",
     "text": [
      "1/1 [==============================] - 0s 27ms/step\n"
     ]
    },
    {
     "name": "stderr",
     "output_type": "stream",
     "text": [
      "<ipython-input-5-34d8a6aff0ab>:34: SettingWithCopyWarning: \n",
      "A value is trying to be set on a copy of a slice from a DataFrame.\n",
      "Try using .loc[row_indexer,col_indexer] = value instead\n",
      "\n",
      "See the caveats in the documentation: https://pandas.pydata.org/pandas-docs/stable/user_guide/indexing.html#returning-a-view-versus-a-copy\n",
      "  data[metric] = new\n",
      "<ipython-input-5-34d8a6aff0ab>:34: SettingWithCopyWarning: \n",
      "A value is trying to be set on a copy of a slice from a DataFrame.\n",
      "Try using .loc[row_indexer,col_indexer] = value instead\n",
      "\n",
      "See the caveats in the documentation: https://pandas.pydata.org/pandas-docs/stable/user_guide/indexing.html#returning-a-view-versus-a-copy\n",
      "  data[metric] = new\n",
      "<ipython-input-5-34d8a6aff0ab>:34: SettingWithCopyWarning: \n",
      "A value is trying to be set on a copy of a slice from a DataFrame.\n",
      "Try using .loc[row_indexer,col_indexer] = value instead\n",
      "\n",
      "See the caveats in the documentation: https://pandas.pydata.org/pandas-docs/stable/user_guide/indexing.html#returning-a-view-versus-a-copy\n",
      "  data[metric] = new\n",
      "<ipython-input-5-34d8a6aff0ab>:34: SettingWithCopyWarning: \n",
      "A value is trying to be set on a copy of a slice from a DataFrame.\n",
      "Try using .loc[row_indexer,col_indexer] = value instead\n",
      "\n",
      "See the caveats in the documentation: https://pandas.pydata.org/pandas-docs/stable/user_guide/indexing.html#returning-a-view-versus-a-copy\n",
      "  data[metric] = new\n",
      "<ipython-input-5-34d8a6aff0ab>:34: SettingWithCopyWarning: \n",
      "A value is trying to be set on a copy of a slice from a DataFrame.\n",
      "Try using .loc[row_indexer,col_indexer] = value instead\n",
      "\n",
      "See the caveats in the documentation: https://pandas.pydata.org/pandas-docs/stable/user_guide/indexing.html#returning-a-view-versus-a-copy\n",
      "  data[metric] = new\n"
     ]
    },
    {
     "name": "stdout",
     "output_type": "stream",
     "text": [
      "1/1 [==============================] - 0s 26ms/step\n"
     ]
    },
    {
     "name": "stderr",
     "output_type": "stream",
     "text": [
      "<ipython-input-5-34d8a6aff0ab>:34: SettingWithCopyWarning: \n",
      "A value is trying to be set on a copy of a slice from a DataFrame.\n",
      "Try using .loc[row_indexer,col_indexer] = value instead\n",
      "\n",
      "See the caveats in the documentation: https://pandas.pydata.org/pandas-docs/stable/user_guide/indexing.html#returning-a-view-versus-a-copy\n",
      "  data[metric] = new\n",
      "<ipython-input-5-34d8a6aff0ab>:34: SettingWithCopyWarning: \n",
      "A value is trying to be set on a copy of a slice from a DataFrame.\n",
      "Try using .loc[row_indexer,col_indexer] = value instead\n",
      "\n",
      "See the caveats in the documentation: https://pandas.pydata.org/pandas-docs/stable/user_guide/indexing.html#returning-a-view-versus-a-copy\n",
      "  data[metric] = new\n"
     ]
    },
    {
     "name": "stdout",
     "output_type": "stream",
     "text": [
      "1/1 [==============================] - 0s 25ms/step\n"
     ]
    },
    {
     "name": "stderr",
     "output_type": "stream",
     "text": [
      "<ipython-input-5-34d8a6aff0ab>:34: SettingWithCopyWarning: \n",
      "A value is trying to be set on a copy of a slice from a DataFrame.\n",
      "Try using .loc[row_indexer,col_indexer] = value instead\n",
      "\n",
      "See the caveats in the documentation: https://pandas.pydata.org/pandas-docs/stable/user_guide/indexing.html#returning-a-view-versus-a-copy\n",
      "  data[metric] = new\n",
      "<ipython-input-5-34d8a6aff0ab>:34: SettingWithCopyWarning: \n",
      "A value is trying to be set on a copy of a slice from a DataFrame.\n",
      "Try using .loc[row_indexer,col_indexer] = value instead\n",
      "\n",
      "See the caveats in the documentation: https://pandas.pydata.org/pandas-docs/stable/user_guide/indexing.html#returning-a-view-versus-a-copy\n",
      "  data[metric] = new\n"
     ]
    },
    {
     "name": "stdout",
     "output_type": "stream",
     "text": [
      "1/1 [==============================] - 0s 30ms/step\n"
     ]
    },
    {
     "name": "stderr",
     "output_type": "stream",
     "text": [
      "<ipython-input-5-34d8a6aff0ab>:34: SettingWithCopyWarning: \n",
      "A value is trying to be set on a copy of a slice from a DataFrame.\n",
      "Try using .loc[row_indexer,col_indexer] = value instead\n",
      "\n",
      "See the caveats in the documentation: https://pandas.pydata.org/pandas-docs/stable/user_guide/indexing.html#returning-a-view-versus-a-copy\n",
      "  data[metric] = new\n",
      "<ipython-input-5-34d8a6aff0ab>:34: SettingWithCopyWarning: \n",
      "A value is trying to be set on a copy of a slice from a DataFrame.\n",
      "Try using .loc[row_indexer,col_indexer] = value instead\n",
      "\n",
      "See the caveats in the documentation: https://pandas.pydata.org/pandas-docs/stable/user_guide/indexing.html#returning-a-view-versus-a-copy\n",
      "  data[metric] = new\n",
      "<ipython-input-5-34d8a6aff0ab>:34: SettingWithCopyWarning: \n",
      "A value is trying to be set on a copy of a slice from a DataFrame.\n",
      "Try using .loc[row_indexer,col_indexer] = value instead\n",
      "\n",
      "See the caveats in the documentation: https://pandas.pydata.org/pandas-docs/stable/user_guide/indexing.html#returning-a-view-versus-a-copy\n",
      "  data[metric] = new\n"
     ]
    },
    {
     "name": "stdout",
     "output_type": "stream",
     "text": [
      "1/1 [==============================] - 0s 25ms/step\n"
     ]
    },
    {
     "name": "stderr",
     "output_type": "stream",
     "text": [
      "<ipython-input-5-34d8a6aff0ab>:34: SettingWithCopyWarning: \n",
      "A value is trying to be set on a copy of a slice from a DataFrame.\n",
      "Try using .loc[row_indexer,col_indexer] = value instead\n",
      "\n",
      "See the caveats in the documentation: https://pandas.pydata.org/pandas-docs/stable/user_guide/indexing.html#returning-a-view-versus-a-copy\n",
      "  data[metric] = new\n",
      "<ipython-input-5-34d8a6aff0ab>:34: SettingWithCopyWarning: \n",
      "A value is trying to be set on a copy of a slice from a DataFrame.\n",
      "Try using .loc[row_indexer,col_indexer] = value instead\n",
      "\n",
      "See the caveats in the documentation: https://pandas.pydata.org/pandas-docs/stable/user_guide/indexing.html#returning-a-view-versus-a-copy\n",
      "  data[metric] = new\n",
      "<ipython-input-5-34d8a6aff0ab>:34: SettingWithCopyWarning: \n",
      "A value is trying to be set on a copy of a slice from a DataFrame.\n",
      "Try using .loc[row_indexer,col_indexer] = value instead\n",
      "\n",
      "See the caveats in the documentation: https://pandas.pydata.org/pandas-docs/stable/user_guide/indexing.html#returning-a-view-versus-a-copy\n",
      "  data[metric] = new\n"
     ]
    },
    {
     "name": "stdout",
     "output_type": "stream",
     "text": [
      "1/1 [==============================] - 0s 26ms/step\n"
     ]
    },
    {
     "name": "stderr",
     "output_type": "stream",
     "text": [
      "<ipython-input-5-34d8a6aff0ab>:34: SettingWithCopyWarning: \n",
      "A value is trying to be set on a copy of a slice from a DataFrame.\n",
      "Try using .loc[row_indexer,col_indexer] = value instead\n",
      "\n",
      "See the caveats in the documentation: https://pandas.pydata.org/pandas-docs/stable/user_guide/indexing.html#returning-a-view-versus-a-copy\n",
      "  data[metric] = new\n",
      "<ipython-input-5-34d8a6aff0ab>:34: SettingWithCopyWarning: \n",
      "A value is trying to be set on a copy of a slice from a DataFrame.\n",
      "Try using .loc[row_indexer,col_indexer] = value instead\n",
      "\n",
      "See the caveats in the documentation: https://pandas.pydata.org/pandas-docs/stable/user_guide/indexing.html#returning-a-view-versus-a-copy\n",
      "  data[metric] = new\n",
      "<ipython-input-5-34d8a6aff0ab>:34: SettingWithCopyWarning: \n",
      "A value is trying to be set on a copy of a slice from a DataFrame.\n",
      "Try using .loc[row_indexer,col_indexer] = value instead\n",
      "\n",
      "See the caveats in the documentation: https://pandas.pydata.org/pandas-docs/stable/user_guide/indexing.html#returning-a-view-versus-a-copy\n",
      "  data[metric] = new\n"
     ]
    },
    {
     "name": "stdout",
     "output_type": "stream",
     "text": [
      "1/1 [==============================] - 0s 29ms/step\n"
     ]
    },
    {
     "name": "stderr",
     "output_type": "stream",
     "text": [
      "<ipython-input-5-34d8a6aff0ab>:34: SettingWithCopyWarning: \n",
      "A value is trying to be set on a copy of a slice from a DataFrame.\n",
      "Try using .loc[row_indexer,col_indexer] = value instead\n",
      "\n",
      "See the caveats in the documentation: https://pandas.pydata.org/pandas-docs/stable/user_guide/indexing.html#returning-a-view-versus-a-copy\n",
      "  data[metric] = new\n",
      "<ipython-input-5-34d8a6aff0ab>:34: SettingWithCopyWarning: \n",
      "A value is trying to be set on a copy of a slice from a DataFrame.\n",
      "Try using .loc[row_indexer,col_indexer] = value instead\n",
      "\n",
      "See the caveats in the documentation: https://pandas.pydata.org/pandas-docs/stable/user_guide/indexing.html#returning-a-view-versus-a-copy\n",
      "  data[metric] = new\n",
      "<ipython-input-5-34d8a6aff0ab>:34: SettingWithCopyWarning: \n",
      "A value is trying to be set on a copy of a slice from a DataFrame.\n",
      "Try using .loc[row_indexer,col_indexer] = value instead\n",
      "\n",
      "See the caveats in the documentation: https://pandas.pydata.org/pandas-docs/stable/user_guide/indexing.html#returning-a-view-versus-a-copy\n",
      "  data[metric] = new\n"
     ]
    },
    {
     "name": "stdout",
     "output_type": "stream",
     "text": [
      "1/1 [==============================] - 0s 30ms/step\n"
     ]
    },
    {
     "name": "stderr",
     "output_type": "stream",
     "text": [
      "<ipython-input-5-34d8a6aff0ab>:34: SettingWithCopyWarning: \n",
      "A value is trying to be set on a copy of a slice from a DataFrame.\n",
      "Try using .loc[row_indexer,col_indexer] = value instead\n",
      "\n",
      "See the caveats in the documentation: https://pandas.pydata.org/pandas-docs/stable/user_guide/indexing.html#returning-a-view-versus-a-copy\n",
      "  data[metric] = new\n",
      "<ipython-input-5-34d8a6aff0ab>:34: SettingWithCopyWarning: \n",
      "A value is trying to be set on a copy of a slice from a DataFrame.\n",
      "Try using .loc[row_indexer,col_indexer] = value instead\n",
      "\n",
      "See the caveats in the documentation: https://pandas.pydata.org/pandas-docs/stable/user_guide/indexing.html#returning-a-view-versus-a-copy\n",
      "  data[metric] = new\n",
      "<ipython-input-5-34d8a6aff0ab>:34: SettingWithCopyWarning: \n",
      "A value is trying to be set on a copy of a slice from a DataFrame.\n",
      "Try using .loc[row_indexer,col_indexer] = value instead\n",
      "\n",
      "See the caveats in the documentation: https://pandas.pydata.org/pandas-docs/stable/user_guide/indexing.html#returning-a-view-versus-a-copy\n",
      "  data[metric] = new\n"
     ]
    },
    {
     "name": "stdout",
     "output_type": "stream",
     "text": [
      "1/1 [==============================] - 0s 28ms/step\n"
     ]
    },
    {
     "name": "stderr",
     "output_type": "stream",
     "text": [
      "<ipython-input-5-34d8a6aff0ab>:34: SettingWithCopyWarning: \n",
      "A value is trying to be set on a copy of a slice from a DataFrame.\n",
      "Try using .loc[row_indexer,col_indexer] = value instead\n",
      "\n",
      "See the caveats in the documentation: https://pandas.pydata.org/pandas-docs/stable/user_guide/indexing.html#returning-a-view-versus-a-copy\n",
      "  data[metric] = new\n",
      "<ipython-input-5-34d8a6aff0ab>:34: SettingWithCopyWarning: \n",
      "A value is trying to be set on a copy of a slice from a DataFrame.\n",
      "Try using .loc[row_indexer,col_indexer] = value instead\n",
      "\n",
      "See the caveats in the documentation: https://pandas.pydata.org/pandas-docs/stable/user_guide/indexing.html#returning-a-view-versus-a-copy\n",
      "  data[metric] = new\n",
      "<ipython-input-5-34d8a6aff0ab>:34: SettingWithCopyWarning: \n",
      "A value is trying to be set on a copy of a slice from a DataFrame.\n",
      "Try using .loc[row_indexer,col_indexer] = value instead\n",
      "\n",
      "See the caveats in the documentation: https://pandas.pydata.org/pandas-docs/stable/user_guide/indexing.html#returning-a-view-versus-a-copy\n",
      "  data[metric] = new\n"
     ]
    },
    {
     "name": "stdout",
     "output_type": "stream",
     "text": [
      "1/1 [==============================] - 0s 28ms/step\n"
     ]
    },
    {
     "name": "stderr",
     "output_type": "stream",
     "text": [
      "<ipython-input-5-34d8a6aff0ab>:34: SettingWithCopyWarning: \n",
      "A value is trying to be set on a copy of a slice from a DataFrame.\n",
      "Try using .loc[row_indexer,col_indexer] = value instead\n",
      "\n",
      "See the caveats in the documentation: https://pandas.pydata.org/pandas-docs/stable/user_guide/indexing.html#returning-a-view-versus-a-copy\n",
      "  data[metric] = new\n",
      "<ipython-input-5-34d8a6aff0ab>:34: SettingWithCopyWarning: \n",
      "A value is trying to be set on a copy of a slice from a DataFrame.\n",
      "Try using .loc[row_indexer,col_indexer] = value instead\n",
      "\n",
      "See the caveats in the documentation: https://pandas.pydata.org/pandas-docs/stable/user_guide/indexing.html#returning-a-view-versus-a-copy\n",
      "  data[metric] = new\n",
      "<ipython-input-5-34d8a6aff0ab>:34: SettingWithCopyWarning: \n",
      "A value is trying to be set on a copy of a slice from a DataFrame.\n",
      "Try using .loc[row_indexer,col_indexer] = value instead\n",
      "\n",
      "See the caveats in the documentation: https://pandas.pydata.org/pandas-docs/stable/user_guide/indexing.html#returning-a-view-versus-a-copy\n",
      "  data[metric] = new\n"
     ]
    }
   ],
   "source": [
    "lists = [\n",
    "        [0.30, 0.49 , 0.90],\n",
    "        [0.30, 0.49 , 0.95],\n",
    "        [0.30, 0.49 , 1.00],\n",
    "        [0.30, 0.49 , 1.25],\n",
    "        [0.30, 0.49 , 1.50],\n",
    "        [0.30, 0.49 , 1.60],\n",
    "        [0.30, 0.49 , 1.70],\n",
    "        [0.30, 0.49 , 1.80],\n",
    "        [0.30, 0.49 , 1.90],\n",
    "        [0.30, 0.49 , 2.00],\n",
    "        [0.30, 0.49 , 2.20]]\n",
    "index = pd.DataFrame(lists, columns = ['eff', 'sav' , 'fb'])\n",
    "\n",
    "run = [0,1,2,3,4,5,6,7,8,9,10]\n",
    "\n",
    "result = list()\n",
    "for i in run:\n",
    "    w = project(archers , 'Efficiency' , index['eff'][i] , 'Save %', index['sav'][i] , 'FB Goals' , index['fb'][i])\n",
    "    result.append(w)"
   ]
  },
  {
   "cell_type": "code",
   "execution_count": 47,
   "metadata": {},
   "outputs": [
    {
     "data": {
      "text/html": [
       "<div>\n",
       "<style scoped>\n",
       "    .dataframe tbody tr th:only-of-type {\n",
       "        vertical-align: middle;\n",
       "    }\n",
       "\n",
       "    .dataframe tbody tr th {\n",
       "        vertical-align: top;\n",
       "    }\n",
       "\n",
       "    .dataframe thead th {\n",
       "        text-align: right;\n",
       "    }\n",
       "</style>\n",
       "<table border=\"1\" class=\"dataframe\">\n",
       "  <thead>\n",
       "    <tr style=\"text-align: right;\">\n",
       "      <th></th>\n",
       "      <th>eff</th>\n",
       "      <th>sav</th>\n",
       "      <th>fb</th>\n",
       "      <th>Prediction</th>\n",
       "    </tr>\n",
       "  </thead>\n",
       "  <tbody>\n",
       "    <tr>\n",
       "      <th>0</th>\n",
       "      <td>0.3</td>\n",
       "      <td>0.49</td>\n",
       "      <td>0.90</td>\n",
       "      <td>158.029770</td>\n",
       "    </tr>\n",
       "    <tr>\n",
       "      <th>1</th>\n",
       "      <td>0.3</td>\n",
       "      <td>0.49</td>\n",
       "      <td>0.95</td>\n",
       "      <td>162.208099</td>\n",
       "    </tr>\n",
       "    <tr>\n",
       "      <th>2</th>\n",
       "      <td>0.3</td>\n",
       "      <td>0.49</td>\n",
       "      <td>1.00</td>\n",
       "      <td>158.029770</td>\n",
       "    </tr>\n",
       "    <tr>\n",
       "      <th>3</th>\n",
       "      <td>0.3</td>\n",
       "      <td>0.49</td>\n",
       "      <td>1.25</td>\n",
       "      <td>158.029770</td>\n",
       "    </tr>\n",
       "    <tr>\n",
       "      <th>4</th>\n",
       "      <td>0.3</td>\n",
       "      <td>0.49</td>\n",
       "      <td>1.50</td>\n",
       "      <td>158.029770</td>\n",
       "    </tr>\n",
       "    <tr>\n",
       "      <th>5</th>\n",
       "      <td>0.3</td>\n",
       "      <td>0.49</td>\n",
       "      <td>1.60</td>\n",
       "      <td>155.789185</td>\n",
       "    </tr>\n",
       "    <tr>\n",
       "      <th>6</th>\n",
       "      <td>0.3</td>\n",
       "      <td>0.49</td>\n",
       "      <td>1.70</td>\n",
       "      <td>158.029770</td>\n",
       "    </tr>\n",
       "    <tr>\n",
       "      <th>7</th>\n",
       "      <td>0.3</td>\n",
       "      <td>0.49</td>\n",
       "      <td>1.80</td>\n",
       "      <td>158.029770</td>\n",
       "    </tr>\n",
       "    <tr>\n",
       "      <th>8</th>\n",
       "      <td>0.3</td>\n",
       "      <td>0.49</td>\n",
       "      <td>1.90</td>\n",
       "      <td>162.208099</td>\n",
       "    </tr>\n",
       "    <tr>\n",
       "      <th>9</th>\n",
       "      <td>0.3</td>\n",
       "      <td>0.49</td>\n",
       "      <td>2.00</td>\n",
       "      <td>158.029770</td>\n",
       "    </tr>\n",
       "    <tr>\n",
       "      <th>10</th>\n",
       "      <td>0.3</td>\n",
       "      <td>0.49</td>\n",
       "      <td>2.20</td>\n",
       "      <td>162.208099</td>\n",
       "    </tr>\n",
       "  </tbody>\n",
       "</table>\n",
       "</div>"
      ],
      "text/plain": [
       "    eff   sav    fb  Prediction\n",
       "0   0.3  0.49  0.90  158.029770\n",
       "1   0.3  0.49  0.95  162.208099\n",
       "2   0.3  0.49  1.00  158.029770\n",
       "3   0.3  0.49  1.25  158.029770\n",
       "4   0.3  0.49  1.50  158.029770\n",
       "5   0.3  0.49  1.60  155.789185\n",
       "6   0.3  0.49  1.70  158.029770\n",
       "7   0.3  0.49  1.80  158.029770\n",
       "8   0.3  0.49  1.90  162.208099\n",
       "9   0.3  0.49  2.00  158.029770\n",
       "10  0.3  0.49  2.20  162.208099"
      ]
     },
     "execution_count": 47,
     "metadata": {},
     "output_type": "execute_result"
    }
   ],
   "source": [
    "index['Prediction'] = result\n",
    "index"
   ]
  },
  {
   "cell_type": "code",
   "execution_count": 50,
   "metadata": {},
   "outputs": [],
   "source": [
    "def deepplot(index , x , title):\n",
    "    \n",
    "    fig, ax = plt.subplots()\n",
    "\n",
    "\n",
    "    x = index[x]\n",
    "    y = index['Prediction']\n",
    "\n",
    "    ax.plot(x,y, c = 'black')\n",
    "\n",
    "\n",
    "    ax.set_title(title)\n",
    "    ax.set_xlabel('Fast Break Goals')\n",
    "    ax.set_ylabel('Prediction')\n",
    "    \n",
    "    \n",
    "    plt.ylim([150, 170])\n",
    "    plt.xlim([x.min(),x.max()])\n",
    "\n",
    "    plt.show()"
   ]
  },
  {
   "cell_type": "code",
   "execution_count": 51,
   "metadata": {},
   "outputs": [
    {
     "data": {
      "image/png": "[encoded data removed]",
      "text/plain": [
       "<Figure size 432x288 with 1 Axes>"
      ]
     },
     "metadata": {
      "needs_background": "light"
     },
     "output_type": "display_data"
    }
   ],
   "source": [
    "deepplot(index , 'fb' , 'Fast Break Goals vs. Predicted Goal Totals')"
   ]
  },
  {
   "cell_type": "markdown",
   "metadata": {},
   "source": [
    "####  Fast Break Goals Summary\n",
    "- Teams score a wide range of fast break goals depending on their playstyle, but overall good teams usually are able to capitalize on those opportunities\n",
    "- This is a number you would also expect to see improve with an increased save %\n",
    "- Teams had highs this year of up to 3 per game. 1.9 FB goals per game projected a strong improvement here, so we will use that going forward. It is an increase of nearly +1 fast break goal per game compared to what the redwoods actually did this year. "
   ]
  },
  {
   "cell_type": "markdown",
   "metadata": {},
   "source": [
    "#### Wrapping Up"
   ]
  },
  {
   "cell_type": "code",
   "execution_count": 53,
   "metadata": {
    "collapsed": true
   },
   "outputs": [
    {
     "name": "stdout",
     "output_type": "stream",
     "text": [
      "1/1 [==============================] - 0s 26ms/step\n"
     ]
    },
    {
     "name": "stderr",
     "output_type": "stream",
     "text": [
      "<ipython-input-5-34d8a6aff0ab>:34: SettingWithCopyWarning: \n",
      "A value is trying to be set on a copy of a slice from a DataFrame.\n",
      "Try using .loc[row_indexer,col_indexer] = value instead\n",
      "\n",
      "See the caveats in the documentation: https://pandas.pydata.org/pandas-docs/stable/user_guide/indexing.html#returning-a-view-versus-a-copy\n",
      "  data[metric] = new\n",
      "<ipython-input-5-34d8a6aff0ab>:34: SettingWithCopyWarning: \n",
      "A value is trying to be set on a copy of a slice from a DataFrame.\n",
      "Try using .loc[row_indexer,col_indexer] = value instead\n",
      "\n",
      "See the caveats in the documentation: https://pandas.pydata.org/pandas-docs/stable/user_guide/indexing.html#returning-a-view-versus-a-copy\n",
      "  data[metric] = new\n",
      "<ipython-input-5-34d8a6aff0ab>:34: SettingWithCopyWarning: \n",
      "A value is trying to be set on a copy of a slice from a DataFrame.\n",
      "Try using .loc[row_indexer,col_indexer] = value instead\n",
      "\n",
      "See the caveats in the documentation: https://pandas.pydata.org/pandas-docs/stable/user_guide/indexing.html#returning-a-view-versus-a-copy\n",
      "  data[metric] = new\n"
     ]
    }
   ],
   "source": [
    "redwoods = team2022[team2022['Team'] == 'Redwoods']\n",
    "v2redwoods = projectfinal(redwoods ,\n",
    "        'Efficiency' , .30 ,\n",
    "        'Save %', .49 ,\n",
    "        'FB Goals' , 1.9)"
   ]
  },
  {
   "cell_type": "code",
   "execution_count": 54,
   "metadata": {},
   "outputs": [
    {
     "name": "stdout",
     "output_type": "stream",
     "text": [
      "Projected Goals per Game 13.169132232666016\n",
      "Projected Total Goals 144.86046\n",
      "Goals per Game 10.272727272727273\n",
      "Total Goals 113\n",
      "Goals per Game Delta -2.8964049599387423\n"
     ]
    }
   ],
   "source": [
    "print('Projected Goals per Game', v2redwoods['predictions'].mean())\n",
    "print('Projected Total Goals' , v2redwoods['predictions'].sum())\n",
    "print('Goals per Game',redwoods['Goals'].mean())\n",
    "print('Total Goals',redwoods['Goals'].sum())\n",
    "print('Goals per Game Delta', redwoods['Goals'].mean() - v2redwoods['predictions'].mean() )"
   ]
  },
  {
   "cell_type": "code",
   "execution_count": 55,
   "metadata": {},
   "outputs": [
    {
     "data": {
      "text/html": [
       "<div>\n",
       "<style scoped>\n",
       "    .dataframe tbody tr th:only-of-type {\n",
       "        vertical-align: middle;\n",
       "    }\n",
       "\n",
       "    .dataframe tbody tr th {\n",
       "        vertical-align: top;\n",
       "    }\n",
       "\n",
       "    .dataframe thead th {\n",
       "        text-align: right;\n",
       "    }\n",
       "</style>\n",
       "<table border=\"1\" class=\"dataframe\">\n",
       "  <thead>\n",
       "    <tr style=\"text-align: right;\">\n",
       "      <th></th>\n",
       "      <th>Margin</th>\n",
       "    </tr>\n",
       "    <tr>\n",
       "      <th>Team</th>\n",
       "      <th></th>\n",
       "    </tr>\n",
       "  </thead>\n",
       "  <tbody>\n",
       "    <tr>\n",
       "      <th>Archers</th>\n",
       "      <td>1.916667</td>\n",
       "    </tr>\n",
       "    <tr>\n",
       "      <th>Atlas</th>\n",
       "      <td>0.900000</td>\n",
       "    </tr>\n",
       "    <tr>\n",
       "      <th>Cannons</th>\n",
       "      <td>-2.700000</td>\n",
       "    </tr>\n",
       "    <tr>\n",
       "      <th>Chaos</th>\n",
       "      <td>-1.307692</td>\n",
       "    </tr>\n",
       "    <tr>\n",
       "      <th>Chrome</th>\n",
       "      <td>0.909091</td>\n",
       "    </tr>\n",
       "    <tr>\n",
       "      <th>Redwoods</th>\n",
       "      <td>-1.272727</td>\n",
       "    </tr>\n",
       "    <tr>\n",
       "      <th>Waterdogs</th>\n",
       "      <td>-0.250000</td>\n",
       "    </tr>\n",
       "    <tr>\n",
       "      <th>Whipsnakes</th>\n",
       "      <td>1.727273</td>\n",
       "    </tr>\n",
       "  </tbody>\n",
       "</table>\n",
       "</div>"
      ],
      "text/plain": [
       "              Margin\n",
       "Team                \n",
       "Archers     1.916667\n",
       "Atlas       0.900000\n",
       "Cannons    -2.700000\n",
       "Chaos      -1.307692\n",
       "Chrome      0.909091\n",
       "Redwoods   -1.272727\n",
       "Waterdogs  -0.250000\n",
       "Whipsnakes  1.727273"
      ]
     },
     "execution_count": 55,
     "metadata": {},
     "output_type": "execute_result"
    }
   ],
   "source": [
    "team2022.groupby(['Team']).mean()[['Margin']]"
   ]
  },
  {
   "cell_type": "markdown",
   "metadata": {},
   "source": [
    "#### Final Summary\n",
    "\n",
    "Applying our updated stats to the redwoods 2022 season we were able to project them at just under +3 more goals per game. Their average margin was -1.2 , so it is not a stretch to say that +3 goals per game would have a drastic impact on their season win total and playoff chances. \n",
    "\n",
    "There is a lot of other factors in play, but it gives a good picture of how their poor save % and fast break goal performance especially brought them down this season. They only scored 113 goals all year, one of the lower team totals. They clearly were losing goals in the fast break portion of the field, so any improvement there will be important for them. Then being able to improve save % from worst in the league to somewhere near average will allow them to work through transition more as well as help improve their possession share. Improvements like this over the course of the year should translate into more goals for the redwoods overall, as shown by the model.\n",
    "\n",
    "Points of focus for the Redwoods in 2023:\n",
    "- Save % is a goalie stat, but also reflective of team defense. They need to focus on not allowing opponents to get off quality shots, this will help feed the next focus which is on fast break performance.\n",
    "- Clearly with 4 wins on the year, the Redwoods found other ways to win games outside of fast break scoring, however championship teams are able to work well in this aspect of the game. Improving in this area will benefit the Redwoods greatly and inject some more goals into each game. "
   ]
  },
  {
   "cell_type": "code",
   "execution_count": 82,
   "metadata": {},
   "outputs": [
    {
     "data": {
      "image/png": "[encoded data removed]",
      "text/plain": [
       "<Figure size 432x288 with 1 Axes>"
      ]
     },
     "metadata": {
      "needs_background": "light"
     },
     "output_type": "display_data"
    }
   ],
   "source": [
    "plotter(v2redwoods['predictions'] , redwoods['Goals'])"
   ]
  },
  {
   "cell_type": "code",
   "execution_count": null,
   "metadata": {},
   "outputs": [],
   "source": []
  }
 ],
 "metadata": {
  "kernelspec": {
   "display_name": "Python 3",
   "language": "python",
   "name": "python3"
  },
  "language_info": {
   "codemirror_mode": {
    "name": "ipython",
    "version": 3
   },
   "file_extension": ".py",
   "mimetype": "text/x-python",
   "name": "python",
   "nbconvert_exporter": "python",
   "pygments_lexer": "ipython3",
   "version": "3.8.5"
  }
 },
 "nbformat": 4,
 "nbformat_minor": 4
}
